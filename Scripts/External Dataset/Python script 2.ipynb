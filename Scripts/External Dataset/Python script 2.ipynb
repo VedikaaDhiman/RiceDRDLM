{
  "cells": [
    {
      "cell_type": "markdown",
      "id": "bf67190a",
      "metadata": {
        "id": "bf67190a"
      },
      "source": [
        "## Data import  "
      ]
    },
    {
      "cell_type": "code",
      "execution_count": null,
      "id": "604a2773",
      "metadata": {
        "id": "604a2773"
      },
      "outputs": [],
      "source": [
        "###importing libraries###\n",
        "import pandas as pd\n",
        "import numpy as np\n",
        "import matplotlib.pyplot as plt"
      ]
    },
    {
      "cell_type": "code",
      "execution_count": null,
      "id": "29871d6d",
      "metadata": {
        "colab": {
          "base_uri": "https://localhost:8080/"
        },
        "id": "29871d6d",
        "outputId": "b66d6b95-ec12-4698-84d8-672bf4f9c93b"
      },
      "outputs": [
        {
          "name": "stdout",
          "output_type": "stream",
          "text": [
            "               NP_001393242.1  sp|Q9SSX0.1|RAC1_ORYSJ  sp|Q704V3.1|LOL5_ORYSJ  \\\n",
            "A                9.965636e-02            8.878505e-02            7.361963e-02   \n",
            "R                8.591065e-02            7.476636e-02            4.294479e-02   \n",
            "N                3.092784e-02            3.271028e-02            2.453988e-02   \n",
            "D                7.903780e-02            5.607477e-02            2.453988e-02   \n",
            "C                1.890034e-02            3.271028e-02            6.134969e-02   \n",
            "...                       ...                     ...                     ...   \n",
            "scl19.17.lag7   -5.497052e-05           -2.419014e-04           -8.697994e-05   \n",
            "scl20.17.lag7    2.681378e-17           -1.459360e-18           -5.532927e-18   \n",
            "scl19.18.lag7    8.745859e-06            1.158300e-04           -6.972726e-05   \n",
            "scl20.18.lag7   -3.786759e-18            2.029666e-17            8.193435e-18   \n",
            "scl20.19.lag7    1.656694e-19            1.573591e-18            4.132289e-18   \n",
            "\n",
            "               NP_001384967.1  XP_015647591.1  sp|P0C0M2.1|GH32_ORYSJ  \\\n",
            "A                1.477573e-01    1.075949e-01            1.188925e-01   \n",
            "R                9.762533e-02    6.645570e-02            7.328990e-02   \n",
            "N                1.583113e-02    9.493671e-03            2.442997e-02   \n",
            "D                6.596306e-02    4.113924e-02            4.560261e-02   \n",
            "C                2.902375e-02    2.215190e-02            1.954397e-02   \n",
            "...                       ...             ...                     ...   \n",
            "scl19.17.lag7    4.552279e-06    4.278155e-05           -2.102427e-05   \n",
            "scl20.17.lag7   -4.522877e-18    1.652741e-17            1.277663e-17   \n",
            "scl19.18.lag7    5.453907e-06    4.023325e-06           -4.564777e-05   \n",
            "scl20.18.lag7    1.726994e-18    1.487735e-18            1.997332e-18   \n",
            "scl20.19.lag7    1.419055e-18    4.906543e-18            1.534915e-19   \n",
            "\n",
            "               sp|Q52QH4.1|NAC68_ORYSJ  sp|Q5N712.1|JM705_ORYSJ  \\\n",
            "A                         1.037736e-01             7.776050e-02   \n",
            "R                         5.974843e-02             6.143079e-02   \n",
            "N                         4.402516e-02             4.665630e-02   \n",
            "D                         7.232704e-02             4.276827e-02   \n",
            "C                         9.433962e-03             2.721617e-02   \n",
            "...                                ...                      ...   \n",
            "scl19.17.lag7            -7.390984e-05             3.348016e-06   \n",
            "scl20.17.lag7             7.449524e-18             1.415678e-17   \n",
            "scl19.18.lag7            -3.928395e-05            -4.115288e-06   \n",
            "scl20.18.lag7             1.324657e-17             8.124003e-18   \n",
            "scl20.19.lag7            -1.908974e-18             1.029471e-19   \n",
            "\n",
            "               XP_025878158.1  XP_015621286.1  ...  sp|Q84LM2.1|VPE1_ORYSJ  \\\n",
            "A                8.398950e-02    6.016598e-02  ...            9.456740e-02   \n",
            "R                5.249344e-02    4.149378e-02  ...            3.219316e-02   \n",
            "N                3.674541e-02    3.112033e-02  ...            6.036217e-02   \n",
            "D                8.398950e-02    6.846473e-02  ...            5.231388e-02   \n",
            "C                7.874016e-03    1.867220e-02  ...            1.810865e-02   \n",
            "...                       ...             ...  ...                     ...   \n",
            "scl19.17.lag7    2.360102e-05   -3.506238e-05  ...           -2.895434e-05   \n",
            "scl20.17.lag7    1.785860e-17    1.756057e-17  ...            4.774466e-18   \n",
            "scl19.18.lag7    4.916766e-06   -5.221335e-05  ...           -5.559661e-06   \n",
            "scl20.18.lag7    6.558205e-18    9.924932e-18  ...           -1.296859e-18   \n",
            "scl20.19.lag7    1.260948e-18    6.022421e-19  ...            2.290792e-18   \n",
            "\n",
            "               NP_001406750.1  sp|Q7XR52.2|CYSP1_ORYSJ  \\\n",
            "A                8.695652e-02             1.204082e-01   \n",
            "R                8.074534e-02             7.551020e-02   \n",
            "N                3.312629e-02             5.102041e-02   \n",
            "D                5.383023e-02             5.510204e-02   \n",
            "C                2.277433e-02             4.489796e-02   \n",
            "...                       ...                      ...   \n",
            "scl19.17.lag7    7.580092e-05            -6.819822e-05   \n",
            "scl20.17.lag7    1.838817e-17             1.150039e-17   \n",
            "scl19.18.lag7   -2.052967e-05             1.130868e-05   \n",
            "scl20.18.lag7    3.154780e-18            -4.980581e-18   \n",
            "scl20.19.lag7    6.152947e-19            -9.328860e-19   \n",
            "\n",
            "               sp|P14655.1|GLNA2_ORYSJ  XP_015639454.1  XP_015639642.1  \\\n",
            "A                         8.878505e-02    7.744108e-02    5.338078e-02   \n",
            "R                         6.074766e-02    3.703704e-02    5.456702e-02   \n",
            "N                         3.738318e-02    3.030303e-02    7.117438e-02   \n",
            "D                         5.140187e-02    3.703704e-02    7.473310e-02   \n",
            "C                         1.401869e-02    1.010101e-02    3.084223e-02   \n",
            "...                                ...             ...             ...   \n",
            "scl19.17.lag7            -6.656827e-05    3.550566e-05    1.112788e-04   \n",
            "scl20.17.lag7            -1.814993e-18    3.404865e-17    2.692777e-17   \n",
            "scl19.18.lag7            -5.725830e-06    3.265062e-05    2.722794e-05   \n",
            "scl20.18.lag7             2.203287e-18    6.390396e-18    7.690812e-18   \n",
            "scl20.19.lag7            -1.036332e-18    3.430748e-19    1.279477e-18   \n",
            "\n",
            "               sp|Q0DKY4.1|METK1_ORYSJ.1  sp|B7FAL5.1|Y14A_ORYSJ  \\\n",
            "A                           7.828283e-02            1.029412e-01   \n",
            "R                           4.797980e-02            1.078431e-01   \n",
            "N                           3.030303e-02            2.941176e-02   \n",
            "D                           7.575758e-02            1.176471e-01   \n",
            "C                           2.020202e-02            0.000000e+00   \n",
            "...                                  ...                     ...   \n",
            "scl19.17.lag7               2.250891e-05            1.750503e-05   \n",
            "scl20.17.lag7               3.883545e-18           -1.016338e-17   \n",
            "scl19.18.lag7              -2.698763e-06           -2.030427e-05   \n",
            "scl20.18.lag7               4.183211e-18            2.923629e-19   \n",
            "scl20.19.lag7              -7.082487e-19           -2.035155e-18   \n",
            "\n",
            "               sp|Q6I5C3.1|PYL5_ORYSJ  NP_001407407.1  \n",
            "A                        8.612440e-02    1.082353e-01  \n",
            "R                        6.220096e-02    6.117647e-02  \n",
            "N                        1.913876e-02    3.529412e-02  \n",
            "D                        5.741627e-02    5.176471e-02  \n",
            "C                        1.913876e-02    9.411765e-03  \n",
            "...                               ...             ...  \n",
            "scl19.17.lag7            1.729032e-04    3.466678e-05  \n",
            "scl20.17.lag7            4.541790e-17    5.993778e-18  \n",
            "scl19.18.lag7           -4.257830e-05   -1.167112e-05  \n",
            "scl20.18.lag7            9.280979e-18    4.433492e-18  \n",
            "scl20.19.lag7            1.949045e-18   -7.219184e-19  \n",
            "\n",
            "[19503 rows x 285 columns]\n"
          ]
        }
      ],
      "source": [
        "###reading the data### (test data)\n",
        "dataset = pd.read_excel(\"test.xlsx\",index_col=0)\n",
        "print(dataset)"
      ]
    },
    {
      "cell_type": "code",
      "execution_count": null,
      "id": "a70F5LLzliND",
      "metadata": {
        "colab": {
          "base_uri": "https://localhost:8080/"
        },
        "id": "a70F5LLzliND",
        "outputId": "5a8b6164-0518-40ee-abca-6128a8b0e01b"
      },
      "outputs": [
        {
          "name": "stdout",
          "output_type": "stream",
          "text": [
            "               scaffold102.196  scaffold11.183  scaffold11.348  scaffold12.99  \\\n",
            "A                 7.511737e-02    7.407407e-02    8.085106e-02   1.776765e-01   \n",
            "R                 3.755869e-02    6.481481e-02    4.680851e-02   5.922551e-02   \n",
            "N                 5.164319e-02    3.703704e-02    4.255319e-02   2.961276e-02   \n",
            "D                 7.042254e-02    8.024691e-02    9.361702e-02   4.555809e-02   \n",
            "C                 4.694836e-03    2.777778e-02    8.510638e-03   2.277904e-03   \n",
            "...                        ...             ...             ...            ...   \n",
            "scl19.17.lag7     2.296769e-05   -4.075326e-05    9.458660e-05   6.335484e-05   \n",
            "scl20.17.lag7    -1.809564e-18    2.215904e-17    1.176662e-17   1.807235e-17   \n",
            "scl19.18.lag7     1.321669e-05   -3.275047e-05   -5.577700e-06   3.673320e-05   \n",
            "scl20.18.lag7     8.562788e-18   -1.440941e-17    1.393688e-17   6.994290e-18   \n",
            "scl20.19.lag7    -1.218427e-18    2.080415e-18   -2.164886e-20   3.944245e-19   \n",
            "\n",
            "               scaffold143.256  scaffold15.384  scaffold207.41  \\\n",
            "A                 1.016484e-01    7.931034e-02    8.080808e-02   \n",
            "R                 7.417582e-02    5.517241e-02    7.744108e-02   \n",
            "N                 4.670330e-02    3.103448e-02    3.703704e-02   \n",
            "D                 6.318681e-02    6.206897e-02    8.754209e-02   \n",
            "C                 1.648352e-02    1.724138e-02    1.683502e-02   \n",
            "...                        ...             ...             ...   \n",
            "scl19.17.lag7     5.681087e-05    9.245193e-05   -8.350057e-05   \n",
            "scl20.17.lag7     2.881725e-17    2.437491e-17    2.187439e-17   \n",
            "scl19.18.lag7     6.970916e-06   -5.444664e-05   -2.035223e-05   \n",
            "scl20.18.lag7    -9.385988e-19   -7.410426e-18   -7.065972e-18   \n",
            "scl20.19.lag7     1.269362e-18    2.956174e-19    2.510914e-18   \n",
            "\n",
            "               scaffold25.271  scaffold29.669  scaffold368.3  ...  \\\n",
            "A                7.349666e-02    8.108108e-02   8.268059e-02  ...   \n",
            "R                6.458797e-02    5.135135e-02   6.092254e-02  ...   \n",
            "N                3.786192e-02    3.513514e-02   2.697998e-02  ...   \n",
            "D                5.790646e-02    3.783784e-02   4.612707e-02  ...   \n",
            "C                1.336303e-02    8.108108e-03   7.832898e-03  ...   \n",
            "...                       ...             ...            ...  ...   \n",
            "scl19.17.lag7   -2.810105e-05   -5.046854e-05  -4.245101e-05  ...   \n",
            "scl20.17.lag7   -2.470649e-18    1.095916e-17   1.833349e-17  ...   \n",
            "scl19.18.lag7   -3.997377e-05   -8.537928e-05   2.367961e-06  ...   \n",
            "scl20.18.lag7   -5.205052e-18   -1.715146e-19   4.685579e-18  ...   \n",
            "scl20.19.lag7   -9.773456e-19   -2.101472e-18  -4.234224e-20  ...   \n",
            "\n",
            "               Zlat_10034953  Zlat_10034638  Zlat_10028613  Zlat_10029490  \\\n",
            "A               1.811594e-01   4.449153e-02   1.308901e-01   5.194805e-02   \n",
            "R               2.898551e-02   8.686441e-02   9.947644e-02   3.896104e-02   \n",
            "N               3.623188e-02   4.661017e-02   2.094241e-02   5.194805e-02   \n",
            "D               7.487923e-02   5.296610e-02   6.457243e-02   1.103896e-01   \n",
            "C               4.830918e-03   6.355932e-03   1.047120e-02   6.493506e-03   \n",
            "...                      ...            ...            ...            ...   \n",
            "scl19.17.lag7  -5.382181e-05  -8.873532e-05  -1.719511e-07   2.498491e-04   \n",
            "scl20.17.lag7   1.525833e-17   2.373620e-17  -1.877107e-17   6.070769e-18   \n",
            "scl19.18.lag7  -4.001285e-05   1.411190e-05   5.595158e-05   8.720483e-05   \n",
            "scl20.18.lag7   1.046527e-17   1.586561e-18   1.323654e-18   5.962136e-18   \n",
            "scl20.19.lag7  -1.615487e-18  -1.297211e-19   4.315887e-19   1.552510e-19   \n",
            "\n",
            "               Zlat_10027123  Zlat_10023603  Zlat_10016333  Zlat_10004892  \\\n",
            "A               8.166969e-02   5.095541e-02   4.225352e-02   9.443508e-02   \n",
            "R               6.896552e-02   7.855626e-02   5.633803e-02   7.419899e-02   \n",
            "N               3.629764e-02   4.246285e-02   4.694836e-02   2.192243e-02   \n",
            "D               6.533575e-02   5.307856e-02   9.389671e-02   5.733558e-02   \n",
            "C               1.633394e-02   6.369427e-03   4.694836e-03   1.517707e-02   \n",
            "...                      ...            ...            ...            ...   \n",
            "scl19.17.lag7  -2.208231e-05   3.852579e-05   5.102302e-05   6.284504e-05   \n",
            "scl20.17.lag7  -3.834365e-18   1.622510e-17  -1.032856e-17   1.643734e-17   \n",
            "scl19.18.lag7  -2.342571e-05   2.906574e-05   6.254137e-05  -3.670820e-05   \n",
            "scl20.18.lag7   5.022642e-18  -1.252721e-18  -2.479725e-19   2.499815e-18   \n",
            "scl20.19.lag7   1.741544e-18   1.458969e-19  -3.851722e-18   1.860435e-18   \n",
            "\n",
            "               Zlat_10002457  Zlat_10000608  \n",
            "A               7.987220e-02   4.525862e-02  \n",
            "R               8.945687e-02   8.620690e-02  \n",
            "N               1.597444e-02   3.017241e-02  \n",
            "D               7.028754e-02   5.603448e-02  \n",
            "C               1.277955e-02   8.620690e-03  \n",
            "...                      ...            ...  \n",
            "scl19.17.lag7  -1.007754e-04   8.633556e-05  \n",
            "scl20.17.lag7  -7.343415e-18   2.847538e-17  \n",
            "scl19.18.lag7  -7.092598e-05   3.123376e-05  \n",
            "scl20.18.lag7   2.190139e-19   3.052095e-18  \n",
            "scl20.19.lag7  -2.713839e-18  -1.953331e-18  \n",
            "\n",
            "[19503 rows x 296 columns]\n"
          ]
        }
      ],
      "source": [
        "###reading the data### (original data)\n",
        "ori_dataset = pd.read_excel(\"all_data.xlsx\",index_col=0)\n",
        "print(ori_dataset)"
      ]
    },
    {
      "cell_type": "markdown",
      "id": "8fa48b4a",
      "metadata": {
        "id": "8fa48b4a"
      },
      "source": [
        "# Transposing data"
      ]
    },
    {
      "cell_type": "code",
      "execution_count": null,
      "id": "fa589dd2",
      "metadata": {
        "id": "fa589dd2"
      },
      "outputs": [],
      "source": [
        "###transposing rows as columns###\n",
        "transposed_df = dataset.transpose()\n",
        "###saving transposed file in csv format###\n",
        "transposed_df.to_csv(\"transposed_file.csv\")"
      ]
    },
    {
      "cell_type": "code",
      "execution_count": null,
      "id": "3baf6333",
      "metadata": {
        "colab": {
          "base_uri": "https://localhost:8080/",
          "height": 255
        },
        "id": "3baf6333",
        "outputId": "9b2f62b5-ff6c-4dd1-86b5-777470e358d0"
      },
      "outputs": [
        {
          "data": {
            "application/vnd.google.colaboratory.intrinsic+json": {
              "type": "dataframe",
              "variable_name": "transposed_df"
            },
            "text/html": [
              "\n",
              "  <div id=\"df-cb9ab45b-ff8e-4708-aa90-50eba6c10497\" class=\"colab-df-container\">\n",
              "    <div>\n",
              "<style scoped>\n",
              "    .dataframe tbody tr th:only-of-type {\n",
              "        vertical-align: middle;\n",
              "    }\n",
              "\n",
              "    .dataframe tbody tr th {\n",
              "        vertical-align: top;\n",
              "    }\n",
              "\n",
              "    .dataframe thead th {\n",
              "        text-align: right;\n",
              "    }\n",
              "</style>\n",
              "<table border=\"1\" class=\"dataframe\">\n",
              "  <thead>\n",
              "    <tr style=\"text-align: right;\">\n",
              "      <th></th>\n",
              "      <th>A</th>\n",
              "      <th>R</th>\n",
              "      <th>N</th>\n",
              "      <th>D</th>\n",
              "      <th>C</th>\n",
              "      <th>E</th>\n",
              "      <th>Q</th>\n",
              "      <th>G</th>\n",
              "      <th>H</th>\n",
              "      <th>I</th>\n",
              "      <th>...</th>\n",
              "      <th>scl17.16.lag7</th>\n",
              "      <th>scl18.16.lag7</th>\n",
              "      <th>scl19.16.lag7</th>\n",
              "      <th>scl20.16.lag7</th>\n",
              "      <th>scl18.17.lag7</th>\n",
              "      <th>scl19.17.lag7</th>\n",
              "      <th>scl20.17.lag7</th>\n",
              "      <th>scl19.18.lag7</th>\n",
              "      <th>scl20.18.lag7</th>\n",
              "      <th>scl20.19.lag7</th>\n",
              "    </tr>\n",
              "  </thead>\n",
              "  <tbody>\n",
              "    <tr>\n",
              "      <th>NP_001393242.1</th>\n",
              "      <td>0.099656</td>\n",
              "      <td>0.085911</td>\n",
              "      <td>0.030928</td>\n",
              "      <td>0.079038</td>\n",
              "      <td>0.018900</td>\n",
              "      <td>0.075601</td>\n",
              "      <td>0.022337</td>\n",
              "      <td>0.073883</td>\n",
              "      <td>0.022337</td>\n",
              "      <td>0.036082</td>\n",
              "      <td>...</td>\n",
              "      <td>0.000594</td>\n",
              "      <td>0.000142</td>\n",
              "      <td>-0.000130</td>\n",
              "      <td>1.247552e-17</td>\n",
              "      <td>0.000099</td>\n",
              "      <td>-0.000055</td>\n",
              "      <td>2.681378e-17</td>\n",
              "      <td>0.000009</td>\n",
              "      <td>-3.786759e-18</td>\n",
              "      <td>1.656694e-19</td>\n",
              "    </tr>\n",
              "    <tr>\n",
              "      <th>sp|Q9SSX0.1|RAC1_ORYSJ</th>\n",
              "      <td>0.088785</td>\n",
              "      <td>0.074766</td>\n",
              "      <td>0.032710</td>\n",
              "      <td>0.056075</td>\n",
              "      <td>0.032710</td>\n",
              "      <td>0.037383</td>\n",
              "      <td>0.028037</td>\n",
              "      <td>0.056075</td>\n",
              "      <td>0.009346</td>\n",
              "      <td>0.051402</td>\n",
              "      <td>...</td>\n",
              "      <td>-0.000939</td>\n",
              "      <td>0.000186</td>\n",
              "      <td>-0.000149</td>\n",
              "      <td>-7.096334e-18</td>\n",
              "      <td>-0.000083</td>\n",
              "      <td>-0.000242</td>\n",
              "      <td>-1.459360e-18</td>\n",
              "      <td>0.000116</td>\n",
              "      <td>2.029666e-17</td>\n",
              "      <td>1.573591e-18</td>\n",
              "    </tr>\n",
              "    <tr>\n",
              "      <th>sp|Q704V3.1|LOL5_ORYSJ</th>\n",
              "      <td>0.073620</td>\n",
              "      <td>0.042945</td>\n",
              "      <td>0.024540</td>\n",
              "      <td>0.024540</td>\n",
              "      <td>0.061350</td>\n",
              "      <td>0.055215</td>\n",
              "      <td>0.061350</td>\n",
              "      <td>0.061350</td>\n",
              "      <td>0.036810</td>\n",
              "      <td>0.024540</td>\n",
              "      <td>...</td>\n",
              "      <td>0.000355</td>\n",
              "      <td>0.000114</td>\n",
              "      <td>-0.000047</td>\n",
              "      <td>1.246798e-17</td>\n",
              "      <td>-0.000143</td>\n",
              "      <td>-0.000087</td>\n",
              "      <td>-5.532927e-18</td>\n",
              "      <td>-0.000070</td>\n",
              "      <td>8.193435e-18</td>\n",
              "      <td>4.132289e-18</td>\n",
              "    </tr>\n",
              "    <tr>\n",
              "      <th>NP_001384967.1</th>\n",
              "      <td>0.147757</td>\n",
              "      <td>0.097625</td>\n",
              "      <td>0.015831</td>\n",
              "      <td>0.065963</td>\n",
              "      <td>0.029024</td>\n",
              "      <td>0.060686</td>\n",
              "      <td>0.021108</td>\n",
              "      <td>0.092348</td>\n",
              "      <td>0.023747</td>\n",
              "      <td>0.018470</td>\n",
              "      <td>...</td>\n",
              "      <td>0.000678</td>\n",
              "      <td>-0.000331</td>\n",
              "      <td>-0.000104</td>\n",
              "      <td>-2.843651e-18</td>\n",
              "      <td>-0.000190</td>\n",
              "      <td>0.000005</td>\n",
              "      <td>-4.522877e-18</td>\n",
              "      <td>0.000005</td>\n",
              "      <td>1.726994e-18</td>\n",
              "      <td>1.419055e-18</td>\n",
              "    </tr>\n",
              "    <tr>\n",
              "      <th>XP_015647591.1</th>\n",
              "      <td>0.107595</td>\n",
              "      <td>0.066456</td>\n",
              "      <td>0.009494</td>\n",
              "      <td>0.041139</td>\n",
              "      <td>0.022152</td>\n",
              "      <td>0.129747</td>\n",
              "      <td>0.037975</td>\n",
              "      <td>0.066456</td>\n",
              "      <td>0.018987</td>\n",
              "      <td>0.009494</td>\n",
              "      <td>...</td>\n",
              "      <td>0.000436</td>\n",
              "      <td>-0.000324</td>\n",
              "      <td>0.000164</td>\n",
              "      <td>2.523318e-18</td>\n",
              "      <td>-0.000139</td>\n",
              "      <td>0.000043</td>\n",
              "      <td>1.652741e-17</td>\n",
              "      <td>0.000004</td>\n",
              "      <td>1.487735e-18</td>\n",
              "      <td>4.906543e-18</td>\n",
              "    </tr>\n",
              "  </tbody>\n",
              "</table>\n",
              "<p>5 rows × 19503 columns</p>\n",
              "</div>\n",
              "    <div class=\"colab-df-buttons\">\n",
              "\n",
              "  <div class=\"colab-df-container\">\n",
              "    <button class=\"colab-df-convert\" onclick=\"convertToInteractive('df-cb9ab45b-ff8e-4708-aa90-50eba6c10497')\"\n",
              "            title=\"Convert this dataframe to an interactive table.\"\n",
              "            style=\"display:none;\">\n",
              "\n",
              "  <svg xmlns=\"http://www.w3.org/2000/svg\" height=\"24px\" viewBox=\"0 -960 960 960\">\n",
              "    <path d=\"M120-120v-720h720v720H120Zm60-500h600v-160H180v160Zm220 220h160v-160H400v160Zm0 220h160v-160H400v160ZM180-400h160v-160H180v160Zm440 0h160v-160H620v160ZM180-180h160v-160H180v160Zm440 0h160v-160H620v160Z\"/>\n",
              "  </svg>\n",
              "    </button>\n",
              "\n",
              "  <style>\n",
              "    .colab-df-container {\n",
              "      display:flex;\n",
              "      gap: 12px;\n",
              "    }\n",
              "\n",
              "    .colab-df-convert {\n",
              "      background-color: #E8F0FE;\n",
              "      border: none;\n",
              "      border-radius: 50%;\n",
              "      cursor: pointer;\n",
              "      display: none;\n",
              "      fill: #1967D2;\n",
              "      height: 32px;\n",
              "      padding: 0 0 0 0;\n",
              "      width: 32px;\n",
              "    }\n",
              "\n",
              "    .colab-df-convert:hover {\n",
              "      background-color: #E2EBFA;\n",
              "      box-shadow: 0px 1px 2px rgba(60, 64, 67, 0.3), 0px 1px 3px 1px rgba(60, 64, 67, 0.15);\n",
              "      fill: #174EA6;\n",
              "    }\n",
              "\n",
              "    .colab-df-buttons div {\n",
              "      margin-bottom: 4px;\n",
              "    }\n",
              "\n",
              "    [theme=dark] .colab-df-convert {\n",
              "      background-color: #3B4455;\n",
              "      fill: #D2E3FC;\n",
              "    }\n",
              "\n",
              "    [theme=dark] .colab-df-convert:hover {\n",
              "      background-color: #434B5C;\n",
              "      box-shadow: 0px 1px 3px 1px rgba(0, 0, 0, 0.15);\n",
              "      filter: drop-shadow(0px 1px 2px rgba(0, 0, 0, 0.3));\n",
              "      fill: #FFFFFF;\n",
              "    }\n",
              "  </style>\n",
              "\n",
              "    <script>\n",
              "      const buttonEl =\n",
              "        document.querySelector('#df-cb9ab45b-ff8e-4708-aa90-50eba6c10497 button.colab-df-convert');\n",
              "      buttonEl.style.display =\n",
              "        google.colab.kernel.accessAllowed ? 'block' : 'none';\n",
              "\n",
              "      async function convertToInteractive(key) {\n",
              "        const element = document.querySelector('#df-cb9ab45b-ff8e-4708-aa90-50eba6c10497');\n",
              "        const dataTable =\n",
              "          await google.colab.kernel.invokeFunction('convertToInteractive',\n",
              "                                                    [key], {});\n",
              "        if (!dataTable) return;\n",
              "\n",
              "        const docLinkHtml = 'Like what you see? Visit the ' +\n",
              "          '<a target=\"_blank\" href=https://colab.research.google.com/notebooks/data_table.ipynb>data table notebook</a>'\n",
              "          + ' to learn more about interactive tables.';\n",
              "        element.innerHTML = '';\n",
              "        dataTable['output_type'] = 'display_data';\n",
              "        await google.colab.output.renderOutput(dataTable, element);\n",
              "        const docLink = document.createElement('div');\n",
              "        docLink.innerHTML = docLinkHtml;\n",
              "        element.appendChild(docLink);\n",
              "      }\n",
              "    </script>\n",
              "  </div>\n",
              "\n",
              "\n",
              "<div id=\"df-09edd8c8-10de-4c22-be45-4c34e82cd7b7\">\n",
              "  <button class=\"colab-df-quickchart\" onclick=\"quickchart('df-09edd8c8-10de-4c22-be45-4c34e82cd7b7')\"\n",
              "            title=\"Suggest charts\"\n",
              "            style=\"display:none;\">\n",
              "\n",
              "<svg xmlns=\"http://www.w3.org/2000/svg\" height=\"24px\"viewBox=\"0 0 24 24\"\n",
              "     width=\"24px\">\n",
              "    <g>\n",
              "        <path d=\"M19 3H5c-1.1 0-2 .9-2 2v14c0 1.1.9 2 2 2h14c1.1 0 2-.9 2-2V5c0-1.1-.9-2-2-2zM9 17H7v-7h2v7zm4 0h-2V7h2v10zm4 0h-2v-4h2v4z\"/>\n",
              "    </g>\n",
              "</svg>\n",
              "  </button>\n",
              "\n",
              "<style>\n",
              "  .colab-df-quickchart {\n",
              "      --bg-color: #E8F0FE;\n",
              "      --fill-color: #1967D2;\n",
              "      --hover-bg-color: #E2EBFA;\n",
              "      --hover-fill-color: #174EA6;\n",
              "      --disabled-fill-color: #AAA;\n",
              "      --disabled-bg-color: #DDD;\n",
              "  }\n",
              "\n",
              "  [theme=dark] .colab-df-quickchart {\n",
              "      --bg-color: #3B4455;\n",
              "      --fill-color: #D2E3FC;\n",
              "      --hover-bg-color: #434B5C;\n",
              "      --hover-fill-color: #FFFFFF;\n",
              "      --disabled-bg-color: #3B4455;\n",
              "      --disabled-fill-color: #666;\n",
              "  }\n",
              "\n",
              "  .colab-df-quickchart {\n",
              "    background-color: var(--bg-color);\n",
              "    border: none;\n",
              "    border-radius: 50%;\n",
              "    cursor: pointer;\n",
              "    display: none;\n",
              "    fill: var(--fill-color);\n",
              "    height: 32px;\n",
              "    padding: 0;\n",
              "    width: 32px;\n",
              "  }\n",
              "\n",
              "  .colab-df-quickchart:hover {\n",
              "    background-color: var(--hover-bg-color);\n",
              "    box-shadow: 0 1px 2px rgba(60, 64, 67, 0.3), 0 1px 3px 1px rgba(60, 64, 67, 0.15);\n",
              "    fill: var(--button-hover-fill-color);\n",
              "  }\n",
              "\n",
              "  .colab-df-quickchart-complete:disabled,\n",
              "  .colab-df-quickchart-complete:disabled:hover {\n",
              "    background-color: var(--disabled-bg-color);\n",
              "    fill: var(--disabled-fill-color);\n",
              "    box-shadow: none;\n",
              "  }\n",
              "\n",
              "  .colab-df-spinner {\n",
              "    border: 2px solid var(--fill-color);\n",
              "    border-color: transparent;\n",
              "    border-bottom-color: var(--fill-color);\n",
              "    animation:\n",
              "      spin 1s steps(1) infinite;\n",
              "  }\n",
              "\n",
              "  @keyframes spin {\n",
              "    0% {\n",
              "      border-color: transparent;\n",
              "      border-bottom-color: var(--fill-color);\n",
              "      border-left-color: var(--fill-color);\n",
              "    }\n",
              "    20% {\n",
              "      border-color: transparent;\n",
              "      border-left-color: var(--fill-color);\n",
              "      border-top-color: var(--fill-color);\n",
              "    }\n",
              "    30% {\n",
              "      border-color: transparent;\n",
              "      border-left-color: var(--fill-color);\n",
              "      border-top-color: var(--fill-color);\n",
              "      border-right-color: var(--fill-color);\n",
              "    }\n",
              "    40% {\n",
              "      border-color: transparent;\n",
              "      border-right-color: var(--fill-color);\n",
              "      border-top-color: var(--fill-color);\n",
              "    }\n",
              "    60% {\n",
              "      border-color: transparent;\n",
              "      border-right-color: var(--fill-color);\n",
              "    }\n",
              "    80% {\n",
              "      border-color: transparent;\n",
              "      border-right-color: var(--fill-color);\n",
              "      border-bottom-color: var(--fill-color);\n",
              "    }\n",
              "    90% {\n",
              "      border-color: transparent;\n",
              "      border-bottom-color: var(--fill-color);\n",
              "    }\n",
              "  }\n",
              "</style>\n",
              "\n",
              "  <script>\n",
              "    async function quickchart(key) {\n",
              "      const quickchartButtonEl =\n",
              "        document.querySelector('#' + key + ' button');\n",
              "      quickchartButtonEl.disabled = true;  // To prevent multiple clicks.\n",
              "      quickchartButtonEl.classList.add('colab-df-spinner');\n",
              "      try {\n",
              "        const charts = await google.colab.kernel.invokeFunction(\n",
              "            'suggestCharts', [key], {});\n",
              "      } catch (error) {\n",
              "        console.error('Error during call to suggestCharts:', error);\n",
              "      }\n",
              "      quickchartButtonEl.classList.remove('colab-df-spinner');\n",
              "      quickchartButtonEl.classList.add('colab-df-quickchart-complete');\n",
              "    }\n",
              "    (() => {\n",
              "      let quickchartButtonEl =\n",
              "        document.querySelector('#df-09edd8c8-10de-4c22-be45-4c34e82cd7b7 button');\n",
              "      quickchartButtonEl.style.display =\n",
              "        google.colab.kernel.accessAllowed ? 'block' : 'none';\n",
              "    })();\n",
              "  </script>\n",
              "</div>\n",
              "\n",
              "    </div>\n",
              "  </div>\n"
            ],
            "text/plain": [
              "                               A         R         N         D         C  \\\n",
              "NP_001393242.1          0.099656  0.085911  0.030928  0.079038  0.018900   \n",
              "sp|Q9SSX0.1|RAC1_ORYSJ  0.088785  0.074766  0.032710  0.056075  0.032710   \n",
              "sp|Q704V3.1|LOL5_ORYSJ  0.073620  0.042945  0.024540  0.024540  0.061350   \n",
              "NP_001384967.1          0.147757  0.097625  0.015831  0.065963  0.029024   \n",
              "XP_015647591.1          0.107595  0.066456  0.009494  0.041139  0.022152   \n",
              "\n",
              "                               E         Q         G         H         I  ...  \\\n",
              "NP_001393242.1          0.075601  0.022337  0.073883  0.022337  0.036082  ...   \n",
              "sp|Q9SSX0.1|RAC1_ORYSJ  0.037383  0.028037  0.056075  0.009346  0.051402  ...   \n",
              "sp|Q704V3.1|LOL5_ORYSJ  0.055215  0.061350  0.061350  0.036810  0.024540  ...   \n",
              "NP_001384967.1          0.060686  0.021108  0.092348  0.023747  0.018470  ...   \n",
              "XP_015647591.1          0.129747  0.037975  0.066456  0.018987  0.009494  ...   \n",
              "\n",
              "                        scl17.16.lag7  scl18.16.lag7  scl19.16.lag7  \\\n",
              "NP_001393242.1               0.000594       0.000142      -0.000130   \n",
              "sp|Q9SSX0.1|RAC1_ORYSJ      -0.000939       0.000186      -0.000149   \n",
              "sp|Q704V3.1|LOL5_ORYSJ       0.000355       0.000114      -0.000047   \n",
              "NP_001384967.1               0.000678      -0.000331      -0.000104   \n",
              "XP_015647591.1               0.000436      -0.000324       0.000164   \n",
              "\n",
              "                        scl20.16.lag7  scl18.17.lag7  scl19.17.lag7  \\\n",
              "NP_001393242.1           1.247552e-17       0.000099      -0.000055   \n",
              "sp|Q9SSX0.1|RAC1_ORYSJ  -7.096334e-18      -0.000083      -0.000242   \n",
              "sp|Q704V3.1|LOL5_ORYSJ   1.246798e-17      -0.000143      -0.000087   \n",
              "NP_001384967.1          -2.843651e-18      -0.000190       0.000005   \n",
              "XP_015647591.1           2.523318e-18      -0.000139       0.000043   \n",
              "\n",
              "                        scl20.17.lag7  scl19.18.lag7  scl20.18.lag7  \\\n",
              "NP_001393242.1           2.681378e-17       0.000009  -3.786759e-18   \n",
              "sp|Q9SSX0.1|RAC1_ORYSJ  -1.459360e-18       0.000116   2.029666e-17   \n",
              "sp|Q704V3.1|LOL5_ORYSJ  -5.532927e-18      -0.000070   8.193435e-18   \n",
              "NP_001384967.1          -4.522877e-18       0.000005   1.726994e-18   \n",
              "XP_015647591.1           1.652741e-17       0.000004   1.487735e-18   \n",
              "\n",
              "                        scl20.19.lag7  \n",
              "NP_001393242.1           1.656694e-19  \n",
              "sp|Q9SSX0.1|RAC1_ORYSJ   1.573591e-18  \n",
              "sp|Q704V3.1|LOL5_ORYSJ   4.132289e-18  \n",
              "NP_001384967.1           1.419055e-18  \n",
              "XP_015647591.1           4.906543e-18  \n",
              "\n",
              "[5 rows x 19503 columns]"
            ]
          },
          "execution_count": 50,
          "metadata": {},
          "output_type": "execute_result"
        }
      ],
      "source": [
        "####printing transposed file headers#####\n",
        "transposed_df.head()"
      ]
    },
    {
      "cell_type": "code",
      "execution_count": null,
      "id": "YnXE5ZGunaVk",
      "metadata": {
        "id": "YnXE5ZGunaVk"
      },
      "outputs": [],
      "source": [
        "###transposing rows as columns### of ori data\n",
        "transposed_df_ori = ori_dataset.transpose()\n",
        "###saving transposed file in csv format###\n",
        "transposed_df_ori.to_csv(\"transposed_file_ori.csv\")"
      ]
    },
    {
      "cell_type": "code",
      "execution_count": null,
      "id": "rgLlm8XKnawv",
      "metadata": {
        "colab": {
          "base_uri": "https://localhost:8080/",
          "height": 255
        },
        "id": "rgLlm8XKnawv",
        "outputId": "e706d80d-2256-4d57-a52e-0212eb27fbaa"
      },
      "outputs": [
        {
          "data": {
            "application/vnd.google.colaboratory.intrinsic+json": {
              "type": "dataframe",
              "variable_name": "transposed_df_ori"
            },
            "text/html": [
              "\n",
              "  <div id=\"df-a60a3a56-9945-4053-a827-e8e4067106fe\" class=\"colab-df-container\">\n",
              "    <div>\n",
              "<style scoped>\n",
              "    .dataframe tbody tr th:only-of-type {\n",
              "        vertical-align: middle;\n",
              "    }\n",
              "\n",
              "    .dataframe tbody tr th {\n",
              "        vertical-align: top;\n",
              "    }\n",
              "\n",
              "    .dataframe thead th {\n",
              "        text-align: right;\n",
              "    }\n",
              "</style>\n",
              "<table border=\"1\" class=\"dataframe\">\n",
              "  <thead>\n",
              "    <tr style=\"text-align: right;\">\n",
              "      <th></th>\n",
              "      <th>A</th>\n",
              "      <th>R</th>\n",
              "      <th>N</th>\n",
              "      <th>D</th>\n",
              "      <th>C</th>\n",
              "      <th>E</th>\n",
              "      <th>Q</th>\n",
              "      <th>G</th>\n",
              "      <th>H</th>\n",
              "      <th>I</th>\n",
              "      <th>...</th>\n",
              "      <th>scl17.16.lag7</th>\n",
              "      <th>scl18.16.lag7</th>\n",
              "      <th>scl19.16.lag7</th>\n",
              "      <th>scl20.16.lag7</th>\n",
              "      <th>scl18.17.lag7</th>\n",
              "      <th>scl19.17.lag7</th>\n",
              "      <th>scl20.17.lag7</th>\n",
              "      <th>scl19.18.lag7</th>\n",
              "      <th>scl20.18.lag7</th>\n",
              "      <th>scl20.19.lag7</th>\n",
              "    </tr>\n",
              "  </thead>\n",
              "  <tbody>\n",
              "    <tr>\n",
              "      <th>scaffold102.196</th>\n",
              "      <td>0.075117</td>\n",
              "      <td>0.037559</td>\n",
              "      <td>0.051643</td>\n",
              "      <td>0.070423</td>\n",
              "      <td>0.004695</td>\n",
              "      <td>0.093897</td>\n",
              "      <td>0.032864</td>\n",
              "      <td>0.046948</td>\n",
              "      <td>0.018779</td>\n",
              "      <td>0.056338</td>\n",
              "      <td>...</td>\n",
              "      <td>0.000680</td>\n",
              "      <td>0.000117</td>\n",
              "      <td>0.000038</td>\n",
              "      <td>3.644172e-18</td>\n",
              "      <td>0.000248</td>\n",
              "      <td>0.000023</td>\n",
              "      <td>-1.809564e-18</td>\n",
              "      <td>0.000013</td>\n",
              "      <td>8.562788e-18</td>\n",
              "      <td>-1.218427e-18</td>\n",
              "    </tr>\n",
              "    <tr>\n",
              "      <th>scaffold11.183</th>\n",
              "      <td>0.074074</td>\n",
              "      <td>0.064815</td>\n",
              "      <td>0.037037</td>\n",
              "      <td>0.080247</td>\n",
              "      <td>0.027778</td>\n",
              "      <td>0.080247</td>\n",
              "      <td>0.018519</td>\n",
              "      <td>0.046296</td>\n",
              "      <td>0.030864</td>\n",
              "      <td>0.058642</td>\n",
              "      <td>...</td>\n",
              "      <td>0.000895</td>\n",
              "      <td>0.000195</td>\n",
              "      <td>-0.000032</td>\n",
              "      <td>2.245064e-17</td>\n",
              "      <td>0.000123</td>\n",
              "      <td>-0.000041</td>\n",
              "      <td>2.215904e-17</td>\n",
              "      <td>-0.000033</td>\n",
              "      <td>-1.440941e-17</td>\n",
              "      <td>2.080415e-18</td>\n",
              "    </tr>\n",
              "    <tr>\n",
              "      <th>scaffold11.348</th>\n",
              "      <td>0.080851</td>\n",
              "      <td>0.046809</td>\n",
              "      <td>0.042553</td>\n",
              "      <td>0.093617</td>\n",
              "      <td>0.008511</td>\n",
              "      <td>0.093617</td>\n",
              "      <td>0.025532</td>\n",
              "      <td>0.029787</td>\n",
              "      <td>0.025532</td>\n",
              "      <td>0.046809</td>\n",
              "      <td>...</td>\n",
              "      <td>-0.000332</td>\n",
              "      <td>-0.000242</td>\n",
              "      <td>0.000001</td>\n",
              "      <td>-1.536088e-17</td>\n",
              "      <td>0.000015</td>\n",
              "      <td>0.000095</td>\n",
              "      <td>1.176662e-17</td>\n",
              "      <td>-0.000006</td>\n",
              "      <td>1.393688e-17</td>\n",
              "      <td>-2.164886e-20</td>\n",
              "    </tr>\n",
              "    <tr>\n",
              "      <th>scaffold12.99</th>\n",
              "      <td>0.177677</td>\n",
              "      <td>0.059226</td>\n",
              "      <td>0.029613</td>\n",
              "      <td>0.045558</td>\n",
              "      <td>0.002278</td>\n",
              "      <td>0.025057</td>\n",
              "      <td>0.018223</td>\n",
              "      <td>0.070615</td>\n",
              "      <td>0.011390</td>\n",
              "      <td>0.022779</td>\n",
              "      <td>...</td>\n",
              "      <td>-0.000434</td>\n",
              "      <td>0.000246</td>\n",
              "      <td>-0.000128</td>\n",
              "      <td>2.055807e-17</td>\n",
              "      <td>0.000308</td>\n",
              "      <td>0.000063</td>\n",
              "      <td>1.807235e-17</td>\n",
              "      <td>0.000037</td>\n",
              "      <td>6.994290e-18</td>\n",
              "      <td>3.944245e-19</td>\n",
              "    </tr>\n",
              "    <tr>\n",
              "      <th>scaffold143.256</th>\n",
              "      <td>0.101648</td>\n",
              "      <td>0.074176</td>\n",
              "      <td>0.046703</td>\n",
              "      <td>0.063187</td>\n",
              "      <td>0.016484</td>\n",
              "      <td>0.074176</td>\n",
              "      <td>0.019231</td>\n",
              "      <td>0.041209</td>\n",
              "      <td>0.019231</td>\n",
              "      <td>0.043956</td>\n",
              "      <td>...</td>\n",
              "      <td>0.000116</td>\n",
              "      <td>0.000362</td>\n",
              "      <td>-0.000103</td>\n",
              "      <td>1.973094e-17</td>\n",
              "      <td>-0.000437</td>\n",
              "      <td>0.000057</td>\n",
              "      <td>2.881725e-17</td>\n",
              "      <td>0.000007</td>\n",
              "      <td>-9.385988e-19</td>\n",
              "      <td>1.269362e-18</td>\n",
              "    </tr>\n",
              "  </tbody>\n",
              "</table>\n",
              "<p>5 rows × 19503 columns</p>\n",
              "</div>\n",
              "    <div class=\"colab-df-buttons\">\n",
              "\n",
              "  <div class=\"colab-df-container\">\n",
              "    <button class=\"colab-df-convert\" onclick=\"convertToInteractive('df-a60a3a56-9945-4053-a827-e8e4067106fe')\"\n",
              "            title=\"Convert this dataframe to an interactive table.\"\n",
              "            style=\"display:none;\">\n",
              "\n",
              "  <svg xmlns=\"http://www.w3.org/2000/svg\" height=\"24px\" viewBox=\"0 -960 960 960\">\n",
              "    <path d=\"M120-120v-720h720v720H120Zm60-500h600v-160H180v160Zm220 220h160v-160H400v160Zm0 220h160v-160H400v160ZM180-400h160v-160H180v160Zm440 0h160v-160H620v160ZM180-180h160v-160H180v160Zm440 0h160v-160H620v160Z\"/>\n",
              "  </svg>\n",
              "    </button>\n",
              "\n",
              "  <style>\n",
              "    .colab-df-container {\n",
              "      display:flex;\n",
              "      gap: 12px;\n",
              "    }\n",
              "\n",
              "    .colab-df-convert {\n",
              "      background-color: #E8F0FE;\n",
              "      border: none;\n",
              "      border-radius: 50%;\n",
              "      cursor: pointer;\n",
              "      display: none;\n",
              "      fill: #1967D2;\n",
              "      height: 32px;\n",
              "      padding: 0 0 0 0;\n",
              "      width: 32px;\n",
              "    }\n",
              "\n",
              "    .colab-df-convert:hover {\n",
              "      background-color: #E2EBFA;\n",
              "      box-shadow: 0px 1px 2px rgba(60, 64, 67, 0.3), 0px 1px 3px 1px rgba(60, 64, 67, 0.15);\n",
              "      fill: #174EA6;\n",
              "    }\n",
              "\n",
              "    .colab-df-buttons div {\n",
              "      margin-bottom: 4px;\n",
              "    }\n",
              "\n",
              "    [theme=dark] .colab-df-convert {\n",
              "      background-color: #3B4455;\n",
              "      fill: #D2E3FC;\n",
              "    }\n",
              "\n",
              "    [theme=dark] .colab-df-convert:hover {\n",
              "      background-color: #434B5C;\n",
              "      box-shadow: 0px 1px 3px 1px rgba(0, 0, 0, 0.15);\n",
              "      filter: drop-shadow(0px 1px 2px rgba(0, 0, 0, 0.3));\n",
              "      fill: #FFFFFF;\n",
              "    }\n",
              "  </style>\n",
              "\n",
              "    <script>\n",
              "      const buttonEl =\n",
              "        document.querySelector('#df-a60a3a56-9945-4053-a827-e8e4067106fe button.colab-df-convert');\n",
              "      buttonEl.style.display =\n",
              "        google.colab.kernel.accessAllowed ? 'block' : 'none';\n",
              "\n",
              "      async function convertToInteractive(key) {\n",
              "        const element = document.querySelector('#df-a60a3a56-9945-4053-a827-e8e4067106fe');\n",
              "        const dataTable =\n",
              "          await google.colab.kernel.invokeFunction('convertToInteractive',\n",
              "                                                    [key], {});\n",
              "        if (!dataTable) return;\n",
              "\n",
              "        const docLinkHtml = 'Like what you see? Visit the ' +\n",
              "          '<a target=\"_blank\" href=https://colab.research.google.com/notebooks/data_table.ipynb>data table notebook</a>'\n",
              "          + ' to learn more about interactive tables.';\n",
              "        element.innerHTML = '';\n",
              "        dataTable['output_type'] = 'display_data';\n",
              "        await google.colab.output.renderOutput(dataTable, element);\n",
              "        const docLink = document.createElement('div');\n",
              "        docLink.innerHTML = docLinkHtml;\n",
              "        element.appendChild(docLink);\n",
              "      }\n",
              "    </script>\n",
              "  </div>\n",
              "\n",
              "\n",
              "<div id=\"df-0e08ec60-ef71-41b3-b468-e6a331452184\">\n",
              "  <button class=\"colab-df-quickchart\" onclick=\"quickchart('df-0e08ec60-ef71-41b3-b468-e6a331452184')\"\n",
              "            title=\"Suggest charts\"\n",
              "            style=\"display:none;\">\n",
              "\n",
              "<svg xmlns=\"http://www.w3.org/2000/svg\" height=\"24px\"viewBox=\"0 0 24 24\"\n",
              "     width=\"24px\">\n",
              "    <g>\n",
              "        <path d=\"M19 3H5c-1.1 0-2 .9-2 2v14c0 1.1.9 2 2 2h14c1.1 0 2-.9 2-2V5c0-1.1-.9-2-2-2zM9 17H7v-7h2v7zm4 0h-2V7h2v10zm4 0h-2v-4h2v4z\"/>\n",
              "    </g>\n",
              "</svg>\n",
              "  </button>\n",
              "\n",
              "<style>\n",
              "  .colab-df-quickchart {\n",
              "      --bg-color: #E8F0FE;\n",
              "      --fill-color: #1967D2;\n",
              "      --hover-bg-color: #E2EBFA;\n",
              "      --hover-fill-color: #174EA6;\n",
              "      --disabled-fill-color: #AAA;\n",
              "      --disabled-bg-color: #DDD;\n",
              "  }\n",
              "\n",
              "  [theme=dark] .colab-df-quickchart {\n",
              "      --bg-color: #3B4455;\n",
              "      --fill-color: #D2E3FC;\n",
              "      --hover-bg-color: #434B5C;\n",
              "      --hover-fill-color: #FFFFFF;\n",
              "      --disabled-bg-color: #3B4455;\n",
              "      --disabled-fill-color: #666;\n",
              "  }\n",
              "\n",
              "  .colab-df-quickchart {\n",
              "    background-color: var(--bg-color);\n",
              "    border: none;\n",
              "    border-radius: 50%;\n",
              "    cursor: pointer;\n",
              "    display: none;\n",
              "    fill: var(--fill-color);\n",
              "    height: 32px;\n",
              "    padding: 0;\n",
              "    width: 32px;\n",
              "  }\n",
              "\n",
              "  .colab-df-quickchart:hover {\n",
              "    background-color: var(--hover-bg-color);\n",
              "    box-shadow: 0 1px 2px rgba(60, 64, 67, 0.3), 0 1px 3px 1px rgba(60, 64, 67, 0.15);\n",
              "    fill: var(--button-hover-fill-color);\n",
              "  }\n",
              "\n",
              "  .colab-df-quickchart-complete:disabled,\n",
              "  .colab-df-quickchart-complete:disabled:hover {\n",
              "    background-color: var(--disabled-bg-color);\n",
              "    fill: var(--disabled-fill-color);\n",
              "    box-shadow: none;\n",
              "  }\n",
              "\n",
              "  .colab-df-spinner {\n",
              "    border: 2px solid var(--fill-color);\n",
              "    border-color: transparent;\n",
              "    border-bottom-color: var(--fill-color);\n",
              "    animation:\n",
              "      spin 1s steps(1) infinite;\n",
              "  }\n",
              "\n",
              "  @keyframes spin {\n",
              "    0% {\n",
              "      border-color: transparent;\n",
              "      border-bottom-color: var(--fill-color);\n",
              "      border-left-color: var(--fill-color);\n",
              "    }\n",
              "    20% {\n",
              "      border-color: transparent;\n",
              "      border-left-color: var(--fill-color);\n",
              "      border-top-color: var(--fill-color);\n",
              "    }\n",
              "    30% {\n",
              "      border-color: transparent;\n",
              "      border-left-color: var(--fill-color);\n",
              "      border-top-color: var(--fill-color);\n",
              "      border-right-color: var(--fill-color);\n",
              "    }\n",
              "    40% {\n",
              "      border-color: transparent;\n",
              "      border-right-color: var(--fill-color);\n",
              "      border-top-color: var(--fill-color);\n",
              "    }\n",
              "    60% {\n",
              "      border-color: transparent;\n",
              "      border-right-color: var(--fill-color);\n",
              "    }\n",
              "    80% {\n",
              "      border-color: transparent;\n",
              "      border-right-color: var(--fill-color);\n",
              "      border-bottom-color: var(--fill-color);\n",
              "    }\n",
              "    90% {\n",
              "      border-color: transparent;\n",
              "      border-bottom-color: var(--fill-color);\n",
              "    }\n",
              "  }\n",
              "</style>\n",
              "\n",
              "  <script>\n",
              "    async function quickchart(key) {\n",
              "      const quickchartButtonEl =\n",
              "        document.querySelector('#' + key + ' button');\n",
              "      quickchartButtonEl.disabled = true;  // To prevent multiple clicks.\n",
              "      quickchartButtonEl.classList.add('colab-df-spinner');\n",
              "      try {\n",
              "        const charts = await google.colab.kernel.invokeFunction(\n",
              "            'suggestCharts', [key], {});\n",
              "      } catch (error) {\n",
              "        console.error('Error during call to suggestCharts:', error);\n",
              "      }\n",
              "      quickchartButtonEl.classList.remove('colab-df-spinner');\n",
              "      quickchartButtonEl.classList.add('colab-df-quickchart-complete');\n",
              "    }\n",
              "    (() => {\n",
              "      let quickchartButtonEl =\n",
              "        document.querySelector('#df-0e08ec60-ef71-41b3-b468-e6a331452184 button');\n",
              "      quickchartButtonEl.style.display =\n",
              "        google.colab.kernel.accessAllowed ? 'block' : 'none';\n",
              "    })();\n",
              "  </script>\n",
              "</div>\n",
              "\n",
              "    </div>\n",
              "  </div>\n"
            ],
            "text/plain": [
              "                        A         R         N         D         C         E  \\\n",
              "scaffold102.196  0.075117  0.037559  0.051643  0.070423  0.004695  0.093897   \n",
              "scaffold11.183   0.074074  0.064815  0.037037  0.080247  0.027778  0.080247   \n",
              "scaffold11.348   0.080851  0.046809  0.042553  0.093617  0.008511  0.093617   \n",
              "scaffold12.99    0.177677  0.059226  0.029613  0.045558  0.002278  0.025057   \n",
              "scaffold143.256  0.101648  0.074176  0.046703  0.063187  0.016484  0.074176   \n",
              "\n",
              "                        Q         G         H         I  ...  scl17.16.lag7  \\\n",
              "scaffold102.196  0.032864  0.046948  0.018779  0.056338  ...       0.000680   \n",
              "scaffold11.183   0.018519  0.046296  0.030864  0.058642  ...       0.000895   \n",
              "scaffold11.348   0.025532  0.029787  0.025532  0.046809  ...      -0.000332   \n",
              "scaffold12.99    0.018223  0.070615  0.011390  0.022779  ...      -0.000434   \n",
              "scaffold143.256  0.019231  0.041209  0.019231  0.043956  ...       0.000116   \n",
              "\n",
              "                 scl18.16.lag7  scl19.16.lag7  scl20.16.lag7  scl18.17.lag7  \\\n",
              "scaffold102.196       0.000117       0.000038   3.644172e-18       0.000248   \n",
              "scaffold11.183        0.000195      -0.000032   2.245064e-17       0.000123   \n",
              "scaffold11.348       -0.000242       0.000001  -1.536088e-17       0.000015   \n",
              "scaffold12.99         0.000246      -0.000128   2.055807e-17       0.000308   \n",
              "scaffold143.256       0.000362      -0.000103   1.973094e-17      -0.000437   \n",
              "\n",
              "                 scl19.17.lag7  scl20.17.lag7  scl19.18.lag7  scl20.18.lag7  \\\n",
              "scaffold102.196       0.000023  -1.809564e-18       0.000013   8.562788e-18   \n",
              "scaffold11.183       -0.000041   2.215904e-17      -0.000033  -1.440941e-17   \n",
              "scaffold11.348        0.000095   1.176662e-17      -0.000006   1.393688e-17   \n",
              "scaffold12.99         0.000063   1.807235e-17       0.000037   6.994290e-18   \n",
              "scaffold143.256       0.000057   2.881725e-17       0.000007  -9.385988e-19   \n",
              "\n",
              "                 scl20.19.lag7  \n",
              "scaffold102.196  -1.218427e-18  \n",
              "scaffold11.183    2.080415e-18  \n",
              "scaffold11.348   -2.164886e-20  \n",
              "scaffold12.99     3.944245e-19  \n",
              "scaffold143.256   1.269362e-18  \n",
              "\n",
              "[5 rows x 19503 columns]"
            ]
          },
          "execution_count": 52,
          "metadata": {},
          "output_type": "execute_result"
        }
      ],
      "source": [
        "transposed_df_ori.head()"
      ]
    },
    {
      "cell_type": "markdown",
      "id": "d6aea544",
      "metadata": {
        "id": "d6aea544"
      },
      "source": [
        "# Label files"
      ]
    },
    {
      "cell_type": "code",
      "execution_count": null,
      "id": "62f0925c",
      "metadata": {
        "colab": {
          "base_uri": "https://localhost:8080/"
        },
        "id": "62f0925c",
        "outputId": "2700e90f-a2e5-4f6f-9efc-45e4812483c4"
      },
      "outputs": [
        {
          "name": "stdout",
          "output_type": "stream",
          "text": [
            "                          ID  Label\n",
            "0             NP_001393242.1      0\n",
            "1     sp|Q9SSX0.1|RAC1_ORYSJ      0\n",
            "2     sp|Q704V3.1|LOL5_ORYSJ      0\n",
            "3             NP_001384967.1      0\n",
            "4             XP_015647591.1      0\n",
            "..                       ...    ...\n",
            "280           XP_015639642.1      1\n",
            "281  sp|Q0DKY4.1|METK1_ORYSJ      1\n",
            "282   sp|B7FAL5.1|Y14A_ORYSJ      1\n",
            "283   sp|Q6I5C3.1|PYL5_ORYSJ      1\n",
            "284           NP_001407407.1      1\n",
            "\n",
            "[285 rows x 2 columns]\n",
            "[0 0 0 0 0 0 0 0 0 0 0 0 0 0 0 0 0 0 0 0 0 0 0 0 0 0 0 0 0 0 0 0 0 0 0 0 0\n",
            " 0 0 0 0 0 0 0 0 0 0 0 0 0 0 0 0 0 0 0 0 0 0 0 0 0 0 0 0 0 0 0 0 0 0 0 0 0\n",
            " 0 0 0 0 0 0 0 0 0 0 0 0 0 1 1 1 1 1 1 1 1 1 1 1 1 1 1 1 1 1 1 1 1 1 1 1 1\n",
            " 1 1 1 1 1 1 1 1 1 1 1 1 1 1 1 1 1 1 1 1 1 1 1 1 1 1 1 1 1 1 1 1 1 1 1 1 1\n",
            " 1 1 1 1 1 1 1 1 1 1 1 1 1 1 1 1 1 1 1 1 1 1 1 1 1 1 1 1 1 1 1 1 1 1 1 1 1\n",
            " 1 1 1 1 1 1 1 1 1 1 1 1 1 1 1 1 1 1 1 1 1 1 1 1 1 1 1 1 1 1 1 1 1 1 1 1 1\n",
            " 1 1 1 1 1 1 1 1 1 1 1 1 1 1 1 1 1 1 1 1 1 1 1 1 1 1 1 1 1 1 1 1 1 1 1 1 1\n",
            " 1 1 1 1 1 1 1 1 1 1 1 1 1 1 1 1 1 1 1 1 1 1 1 1 1 1]\n",
            "285\n"
          ]
        }
      ],
      "source": [
        "###Test Labels###\n",
        "labels = pd.read_excel(\"Labels.xlsx\")\n",
        "print(labels)\n",
        "\n",
        "###input###\n",
        "y = labels.iloc[:,1].values\n",
        "print(y)\n",
        "print(len(y))\n"
      ]
    },
    {
      "cell_type": "code",
      "execution_count": null,
      "id": "3qsIpMkKu6ub",
      "metadata": {
        "colab": {
          "base_uri": "https://localhost:8080/"
        },
        "id": "3qsIpMkKu6ub",
        "outputId": "e47832ee-61e1-451e-e66c-c12fc38658d1"
      },
      "outputs": [
        {
          "name": "stdout",
          "output_type": "stream",
          "text": [
            "                  ID  LABELS\n",
            "0    scaffold102.196       0\n",
            "1     scaffold11.183       0\n",
            "2     scaffold11.348       0\n",
            "3      scaffold12.99       0\n",
            "4    scaffold143.256       0\n",
            "..               ...     ...\n",
            "291    Zlat_10023603       1\n",
            "292    Zlat_10016333       1\n",
            "293    Zlat_10004892       1\n",
            "294    Zlat_10002457       1\n",
            "295    Zlat_10000608       1\n",
            "\n",
            "[296 rows x 2 columns]\n",
            "[0 0 0 0 0 0 0 0 0 0 0 0 0 0 0 0 0 0 0 0 0 0 0 0 0 0 0 0 0 0 0 0 0 0 0 0 0\n",
            " 0 0 0 0 0 0 0 0 0 0 0 0 0 0 0 0 0 0 0 0 0 0 0 0 0 0 0 0 0 0 0 0 0 0 0 0 0\n",
            " 0 0 0 0 0 0 0 0 0 0 0 0 0 0 0 0 0 0 0 0 0 0 0 0 1 1 1 1 1 1 1 1 1 1 1 1 1\n",
            " 1 1 1 1 1 1 1 1 1 1 1 1 1 1 1 1 1 1 1 1 1 1 1 1 1 1 1 1 1 1 1 1 1 1 1 1 1\n",
            " 1 1 1 1 1 1 1 1 1 1 1 1 1 1 1 1 1 1 1 1 1 1 1 1 1 1 1 1 1 1 1 1 1 1 1 1 1\n",
            " 1 1 1 1 1 1 1 1 1 1 1 1 1 1 1 1 1 1 1 1 1 1 1 1 1 1 1 1 1 1 1 1 1 1 1 1 1\n",
            " 1 1 1 1 1 1 1 1 1 1 1 1 1 1 1 1 1 1 1 1 1 1 1 1 1 1 1 1 1 1 1 1 1 1 1 1 1\n",
            " 1 1 1 1 1 1 1 1 1 1 1 1 1 1 1 1 1 1 1 1 1 1 1 1 1 1 1 1 1 1 1 1 1 1 1 1 1]\n",
            "296\n"
          ]
        }
      ],
      "source": [
        "###Labels for the train data from original###\n",
        "labels_ori = pd.read_excel(\"Ori_Label.xlsx\")\n",
        "print(labels_ori)\n",
        "\n",
        "###input###\n",
        "ori = labels_ori.iloc[:,1].values\n",
        "print(ori)\n",
        "print(len(ori))"
      ]
    },
    {
      "cell_type": "markdown",
      "id": "CqcOrArPpL-0",
      "metadata": {
        "id": "CqcOrArPpL-0"
      },
      "source": [
        "# Check Datasets again"
      ]
    },
    {
      "cell_type": "code",
      "execution_count": null,
      "id": "870da454",
      "metadata": {
        "colab": {
          "base_uri": "https://localhost:8080/",
          "height": 443
        },
        "id": "870da454",
        "outputId": "1592c8c9-1720-4d96-8cfb-d8b5b81d1182"
      },
      "outputs": [
        {
          "data": {
            "application/vnd.google.colaboratory.intrinsic+json": {
              "type": "dataframe",
              "variable_name": "transposed_df"
            },
            "text/html": [
              "\n",
              "  <div id=\"df-8fc8d743-4c7d-45a2-bf0f-c20bcc288ad6\" class=\"colab-df-container\">\n",
              "    <div>\n",
              "<style scoped>\n",
              "    .dataframe tbody tr th:only-of-type {\n",
              "        vertical-align: middle;\n",
              "    }\n",
              "\n",
              "    .dataframe tbody tr th {\n",
              "        vertical-align: top;\n",
              "    }\n",
              "\n",
              "    .dataframe thead th {\n",
              "        text-align: right;\n",
              "    }\n",
              "</style>\n",
              "<table border=\"1\" class=\"dataframe\">\n",
              "  <thead>\n",
              "    <tr style=\"text-align: right;\">\n",
              "      <th></th>\n",
              "      <th>A</th>\n",
              "      <th>R</th>\n",
              "      <th>N</th>\n",
              "      <th>D</th>\n",
              "      <th>C</th>\n",
              "      <th>E</th>\n",
              "      <th>Q</th>\n",
              "      <th>G</th>\n",
              "      <th>H</th>\n",
              "      <th>I</th>\n",
              "      <th>...</th>\n",
              "      <th>scl17.16.lag7</th>\n",
              "      <th>scl18.16.lag7</th>\n",
              "      <th>scl19.16.lag7</th>\n",
              "      <th>scl20.16.lag7</th>\n",
              "      <th>scl18.17.lag7</th>\n",
              "      <th>scl19.17.lag7</th>\n",
              "      <th>scl20.17.lag7</th>\n",
              "      <th>scl19.18.lag7</th>\n",
              "      <th>scl20.18.lag7</th>\n",
              "      <th>scl20.19.lag7</th>\n",
              "    </tr>\n",
              "  </thead>\n",
              "  <tbody>\n",
              "    <tr>\n",
              "      <th>NP_001393242.1</th>\n",
              "      <td>0.099656</td>\n",
              "      <td>0.085911</td>\n",
              "      <td>0.030928</td>\n",
              "      <td>0.079038</td>\n",
              "      <td>0.018900</td>\n",
              "      <td>0.075601</td>\n",
              "      <td>0.022337</td>\n",
              "      <td>0.073883</td>\n",
              "      <td>0.022337</td>\n",
              "      <td>0.036082</td>\n",
              "      <td>...</td>\n",
              "      <td>0.000594</td>\n",
              "      <td>0.000142</td>\n",
              "      <td>-0.000130</td>\n",
              "      <td>1.247552e-17</td>\n",
              "      <td>0.000099</td>\n",
              "      <td>-0.000055</td>\n",
              "      <td>2.681378e-17</td>\n",
              "      <td>0.000009</td>\n",
              "      <td>-3.786759e-18</td>\n",
              "      <td>1.656694e-19</td>\n",
              "    </tr>\n",
              "    <tr>\n",
              "      <th>sp|Q9SSX0.1|RAC1_ORYSJ</th>\n",
              "      <td>0.088785</td>\n",
              "      <td>0.074766</td>\n",
              "      <td>0.032710</td>\n",
              "      <td>0.056075</td>\n",
              "      <td>0.032710</td>\n",
              "      <td>0.037383</td>\n",
              "      <td>0.028037</td>\n",
              "      <td>0.056075</td>\n",
              "      <td>0.009346</td>\n",
              "      <td>0.051402</td>\n",
              "      <td>...</td>\n",
              "      <td>-0.000939</td>\n",
              "      <td>0.000186</td>\n",
              "      <td>-0.000149</td>\n",
              "      <td>-7.096334e-18</td>\n",
              "      <td>-0.000083</td>\n",
              "      <td>-0.000242</td>\n",
              "      <td>-1.459360e-18</td>\n",
              "      <td>0.000116</td>\n",
              "      <td>2.029666e-17</td>\n",
              "      <td>1.573591e-18</td>\n",
              "    </tr>\n",
              "    <tr>\n",
              "      <th>sp|Q704V3.1|LOL5_ORYSJ</th>\n",
              "      <td>0.073620</td>\n",
              "      <td>0.042945</td>\n",
              "      <td>0.024540</td>\n",
              "      <td>0.024540</td>\n",
              "      <td>0.061350</td>\n",
              "      <td>0.055215</td>\n",
              "      <td>0.061350</td>\n",
              "      <td>0.061350</td>\n",
              "      <td>0.036810</td>\n",
              "      <td>0.024540</td>\n",
              "      <td>...</td>\n",
              "      <td>0.000355</td>\n",
              "      <td>0.000114</td>\n",
              "      <td>-0.000047</td>\n",
              "      <td>1.246798e-17</td>\n",
              "      <td>-0.000143</td>\n",
              "      <td>-0.000087</td>\n",
              "      <td>-5.532927e-18</td>\n",
              "      <td>-0.000070</td>\n",
              "      <td>8.193435e-18</td>\n",
              "      <td>4.132289e-18</td>\n",
              "    </tr>\n",
              "    <tr>\n",
              "      <th>NP_001384967.1</th>\n",
              "      <td>0.147757</td>\n",
              "      <td>0.097625</td>\n",
              "      <td>0.015831</td>\n",
              "      <td>0.065963</td>\n",
              "      <td>0.029024</td>\n",
              "      <td>0.060686</td>\n",
              "      <td>0.021108</td>\n",
              "      <td>0.092348</td>\n",
              "      <td>0.023747</td>\n",
              "      <td>0.018470</td>\n",
              "      <td>...</td>\n",
              "      <td>0.000678</td>\n",
              "      <td>-0.000331</td>\n",
              "      <td>-0.000104</td>\n",
              "      <td>-2.843651e-18</td>\n",
              "      <td>-0.000190</td>\n",
              "      <td>0.000005</td>\n",
              "      <td>-4.522877e-18</td>\n",
              "      <td>0.000005</td>\n",
              "      <td>1.726994e-18</td>\n",
              "      <td>1.419055e-18</td>\n",
              "    </tr>\n",
              "    <tr>\n",
              "      <th>XP_015647591.1</th>\n",
              "      <td>0.107595</td>\n",
              "      <td>0.066456</td>\n",
              "      <td>0.009494</td>\n",
              "      <td>0.041139</td>\n",
              "      <td>0.022152</td>\n",
              "      <td>0.129747</td>\n",
              "      <td>0.037975</td>\n",
              "      <td>0.066456</td>\n",
              "      <td>0.018987</td>\n",
              "      <td>0.009494</td>\n",
              "      <td>...</td>\n",
              "      <td>0.000436</td>\n",
              "      <td>-0.000324</td>\n",
              "      <td>0.000164</td>\n",
              "      <td>2.523318e-18</td>\n",
              "      <td>-0.000139</td>\n",
              "      <td>0.000043</td>\n",
              "      <td>1.652741e-17</td>\n",
              "      <td>0.000004</td>\n",
              "      <td>1.487735e-18</td>\n",
              "      <td>4.906543e-18</td>\n",
              "    </tr>\n",
              "    <tr>\n",
              "      <th>...</th>\n",
              "      <td>...</td>\n",
              "      <td>...</td>\n",
              "      <td>...</td>\n",
              "      <td>...</td>\n",
              "      <td>...</td>\n",
              "      <td>...</td>\n",
              "      <td>...</td>\n",
              "      <td>...</td>\n",
              "      <td>...</td>\n",
              "      <td>...</td>\n",
              "      <td>...</td>\n",
              "      <td>...</td>\n",
              "      <td>...</td>\n",
              "      <td>...</td>\n",
              "      <td>...</td>\n",
              "      <td>...</td>\n",
              "      <td>...</td>\n",
              "      <td>...</td>\n",
              "      <td>...</td>\n",
              "      <td>...</td>\n",
              "      <td>...</td>\n",
              "    </tr>\n",
              "    <tr>\n",
              "      <th>XP_015639642.1</th>\n",
              "      <td>0.053381</td>\n",
              "      <td>0.054567</td>\n",
              "      <td>0.071174</td>\n",
              "      <td>0.074733</td>\n",
              "      <td>0.030842</td>\n",
              "      <td>0.061684</td>\n",
              "      <td>0.054567</td>\n",
              "      <td>0.069988</td>\n",
              "      <td>0.020166</td>\n",
              "      <td>0.036773</td>\n",
              "      <td>...</td>\n",
              "      <td>-0.000611</td>\n",
              "      <td>0.000394</td>\n",
              "      <td>-0.000036</td>\n",
              "      <td>9.305084e-19</td>\n",
              "      <td>0.000073</td>\n",
              "      <td>0.000111</td>\n",
              "      <td>2.692777e-17</td>\n",
              "      <td>0.000027</td>\n",
              "      <td>7.690812e-18</td>\n",
              "      <td>1.279477e-18</td>\n",
              "    </tr>\n",
              "    <tr>\n",
              "      <th>sp|Q0DKY4.1|METK1_ORYSJ.1</th>\n",
              "      <td>0.078283</td>\n",
              "      <td>0.047980</td>\n",
              "      <td>0.030303</td>\n",
              "      <td>0.075758</td>\n",
              "      <td>0.020202</td>\n",
              "      <td>0.063131</td>\n",
              "      <td>0.025253</td>\n",
              "      <td>0.095960</td>\n",
              "      <td>0.032828</td>\n",
              "      <td>0.060606</td>\n",
              "      <td>...</td>\n",
              "      <td>-0.000480</td>\n",
              "      <td>-0.000415</td>\n",
              "      <td>-0.000014</td>\n",
              "      <td>-1.270130e-17</td>\n",
              "      <td>-0.000454</td>\n",
              "      <td>0.000023</td>\n",
              "      <td>3.883545e-18</td>\n",
              "      <td>-0.000003</td>\n",
              "      <td>4.183211e-18</td>\n",
              "      <td>-7.082487e-19</td>\n",
              "    </tr>\n",
              "    <tr>\n",
              "      <th>sp|B7FAL5.1|Y14A_ORYSJ</th>\n",
              "      <td>0.102941</td>\n",
              "      <td>0.107843</td>\n",
              "      <td>0.029412</td>\n",
              "      <td>0.117647</td>\n",
              "      <td>0.000000</td>\n",
              "      <td>0.053922</td>\n",
              "      <td>0.024510</td>\n",
              "      <td>0.122549</td>\n",
              "      <td>0.014706</td>\n",
              "      <td>0.044118</td>\n",
              "      <td>...</td>\n",
              "      <td>-0.000546</td>\n",
              "      <td>0.000165</td>\n",
              "      <td>0.000091</td>\n",
              "      <td>-2.317774e-17</td>\n",
              "      <td>0.000207</td>\n",
              "      <td>0.000018</td>\n",
              "      <td>-1.016338e-17</td>\n",
              "      <td>-0.000020</td>\n",
              "      <td>2.923629e-19</td>\n",
              "      <td>-2.035155e-18</td>\n",
              "    </tr>\n",
              "    <tr>\n",
              "      <th>sp|Q6I5C3.1|PYL5_ORYSJ</th>\n",
              "      <td>0.086124</td>\n",
              "      <td>0.062201</td>\n",
              "      <td>0.019139</td>\n",
              "      <td>0.057416</td>\n",
              "      <td>0.019139</td>\n",
              "      <td>0.071770</td>\n",
              "      <td>0.023923</td>\n",
              "      <td>0.110048</td>\n",
              "      <td>0.043062</td>\n",
              "      <td>0.033493</td>\n",
              "      <td>...</td>\n",
              "      <td>0.001551</td>\n",
              "      <td>-0.000203</td>\n",
              "      <td>0.000006</td>\n",
              "      <td>-5.128003e-18</td>\n",
              "      <td>-0.001007</td>\n",
              "      <td>0.000173</td>\n",
              "      <td>4.541790e-17</td>\n",
              "      <td>-0.000043</td>\n",
              "      <td>9.280979e-18</td>\n",
              "      <td>1.949045e-18</td>\n",
              "    </tr>\n",
              "    <tr>\n",
              "      <th>NP_001407407.1</th>\n",
              "      <td>0.108235</td>\n",
              "      <td>0.061176</td>\n",
              "      <td>0.035294</td>\n",
              "      <td>0.051765</td>\n",
              "      <td>0.009412</td>\n",
              "      <td>0.061176</td>\n",
              "      <td>0.040000</td>\n",
              "      <td>0.080000</td>\n",
              "      <td>0.016471</td>\n",
              "      <td>0.028235</td>\n",
              "      <td>...</td>\n",
              "      <td>0.000479</td>\n",
              "      <td>-0.000252</td>\n",
              "      <td>0.000064</td>\n",
              "      <td>1.278052e-17</td>\n",
              "      <td>-0.000521</td>\n",
              "      <td>0.000035</td>\n",
              "      <td>5.993778e-18</td>\n",
              "      <td>-0.000012</td>\n",
              "      <td>4.433492e-18</td>\n",
              "      <td>-7.219184e-19</td>\n",
              "    </tr>\n",
              "  </tbody>\n",
              "</table>\n",
              "<p>285 rows × 19503 columns</p>\n",
              "</div>\n",
              "    <div class=\"colab-df-buttons\">\n",
              "\n",
              "  <div class=\"colab-df-container\">\n",
              "    <button class=\"colab-df-convert\" onclick=\"convertToInteractive('df-8fc8d743-4c7d-45a2-bf0f-c20bcc288ad6')\"\n",
              "            title=\"Convert this dataframe to an interactive table.\"\n",
              "            style=\"display:none;\">\n",
              "\n",
              "  <svg xmlns=\"http://www.w3.org/2000/svg\" height=\"24px\" viewBox=\"0 -960 960 960\">\n",
              "    <path d=\"M120-120v-720h720v720H120Zm60-500h600v-160H180v160Zm220 220h160v-160H400v160Zm0 220h160v-160H400v160ZM180-400h160v-160H180v160Zm440 0h160v-160H620v160ZM180-180h160v-160H180v160Zm440 0h160v-160H620v160Z\"/>\n",
              "  </svg>\n",
              "    </button>\n",
              "\n",
              "  <style>\n",
              "    .colab-df-container {\n",
              "      display:flex;\n",
              "      gap: 12px;\n",
              "    }\n",
              "\n",
              "    .colab-df-convert {\n",
              "      background-color: #E8F0FE;\n",
              "      border: none;\n",
              "      border-radius: 50%;\n",
              "      cursor: pointer;\n",
              "      display: none;\n",
              "      fill: #1967D2;\n",
              "      height: 32px;\n",
              "      padding: 0 0 0 0;\n",
              "      width: 32px;\n",
              "    }\n",
              "\n",
              "    .colab-df-convert:hover {\n",
              "      background-color: #E2EBFA;\n",
              "      box-shadow: 0px 1px 2px rgba(60, 64, 67, 0.3), 0px 1px 3px 1px rgba(60, 64, 67, 0.15);\n",
              "      fill: #174EA6;\n",
              "    }\n",
              "\n",
              "    .colab-df-buttons div {\n",
              "      margin-bottom: 4px;\n",
              "    }\n",
              "\n",
              "    [theme=dark] .colab-df-convert {\n",
              "      background-color: #3B4455;\n",
              "      fill: #D2E3FC;\n",
              "    }\n",
              "\n",
              "    [theme=dark] .colab-df-convert:hover {\n",
              "      background-color: #434B5C;\n",
              "      box-shadow: 0px 1px 3px 1px rgba(0, 0, 0, 0.15);\n",
              "      filter: drop-shadow(0px 1px 2px rgba(0, 0, 0, 0.3));\n",
              "      fill: #FFFFFF;\n",
              "    }\n",
              "  </style>\n",
              "\n",
              "    <script>\n",
              "      const buttonEl =\n",
              "        document.querySelector('#df-8fc8d743-4c7d-45a2-bf0f-c20bcc288ad6 button.colab-df-convert');\n",
              "      buttonEl.style.display =\n",
              "        google.colab.kernel.accessAllowed ? 'block' : 'none';\n",
              "\n",
              "      async function convertToInteractive(key) {\n",
              "        const element = document.querySelector('#df-8fc8d743-4c7d-45a2-bf0f-c20bcc288ad6');\n",
              "        const dataTable =\n",
              "          await google.colab.kernel.invokeFunction('convertToInteractive',\n",
              "                                                    [key], {});\n",
              "        if (!dataTable) return;\n",
              "\n",
              "        const docLinkHtml = 'Like what you see? Visit the ' +\n",
              "          '<a target=\"_blank\" href=https://colab.research.google.com/notebooks/data_table.ipynb>data table notebook</a>'\n",
              "          + ' to learn more about interactive tables.';\n",
              "        element.innerHTML = '';\n",
              "        dataTable['output_type'] = 'display_data';\n",
              "        await google.colab.output.renderOutput(dataTable, element);\n",
              "        const docLink = document.createElement('div');\n",
              "        docLink.innerHTML = docLinkHtml;\n",
              "        element.appendChild(docLink);\n",
              "      }\n",
              "    </script>\n",
              "  </div>\n",
              "\n",
              "\n",
              "<div id=\"df-44c92e8d-94b0-4dc0-9769-a562daeb03b9\">\n",
              "  <button class=\"colab-df-quickchart\" onclick=\"quickchart('df-44c92e8d-94b0-4dc0-9769-a562daeb03b9')\"\n",
              "            title=\"Suggest charts\"\n",
              "            style=\"display:none;\">\n",
              "\n",
              "<svg xmlns=\"http://www.w3.org/2000/svg\" height=\"24px\"viewBox=\"0 0 24 24\"\n",
              "     width=\"24px\">\n",
              "    <g>\n",
              "        <path d=\"M19 3H5c-1.1 0-2 .9-2 2v14c0 1.1.9 2 2 2h14c1.1 0 2-.9 2-2V5c0-1.1-.9-2-2-2zM9 17H7v-7h2v7zm4 0h-2V7h2v10zm4 0h-2v-4h2v4z\"/>\n",
              "    </g>\n",
              "</svg>\n",
              "  </button>\n",
              "\n",
              "<style>\n",
              "  .colab-df-quickchart {\n",
              "      --bg-color: #E8F0FE;\n",
              "      --fill-color: #1967D2;\n",
              "      --hover-bg-color: #E2EBFA;\n",
              "      --hover-fill-color: #174EA6;\n",
              "      --disabled-fill-color: #AAA;\n",
              "      --disabled-bg-color: #DDD;\n",
              "  }\n",
              "\n",
              "  [theme=dark] .colab-df-quickchart {\n",
              "      --bg-color: #3B4455;\n",
              "      --fill-color: #D2E3FC;\n",
              "      --hover-bg-color: #434B5C;\n",
              "      --hover-fill-color: #FFFFFF;\n",
              "      --disabled-bg-color: #3B4455;\n",
              "      --disabled-fill-color: #666;\n",
              "  }\n",
              "\n",
              "  .colab-df-quickchart {\n",
              "    background-color: var(--bg-color);\n",
              "    border: none;\n",
              "    border-radius: 50%;\n",
              "    cursor: pointer;\n",
              "    display: none;\n",
              "    fill: var(--fill-color);\n",
              "    height: 32px;\n",
              "    padding: 0;\n",
              "    width: 32px;\n",
              "  }\n",
              "\n",
              "  .colab-df-quickchart:hover {\n",
              "    background-color: var(--hover-bg-color);\n",
              "    box-shadow: 0 1px 2px rgba(60, 64, 67, 0.3), 0 1px 3px 1px rgba(60, 64, 67, 0.15);\n",
              "    fill: var(--button-hover-fill-color);\n",
              "  }\n",
              "\n",
              "  .colab-df-quickchart-complete:disabled,\n",
              "  .colab-df-quickchart-complete:disabled:hover {\n",
              "    background-color: var(--disabled-bg-color);\n",
              "    fill: var(--disabled-fill-color);\n",
              "    box-shadow: none;\n",
              "  }\n",
              "\n",
              "  .colab-df-spinner {\n",
              "    border: 2px solid var(--fill-color);\n",
              "    border-color: transparent;\n",
              "    border-bottom-color: var(--fill-color);\n",
              "    animation:\n",
              "      spin 1s steps(1) infinite;\n",
              "  }\n",
              "\n",
              "  @keyframes spin {\n",
              "    0% {\n",
              "      border-color: transparent;\n",
              "      border-bottom-color: var(--fill-color);\n",
              "      border-left-color: var(--fill-color);\n",
              "    }\n",
              "    20% {\n",
              "      border-color: transparent;\n",
              "      border-left-color: var(--fill-color);\n",
              "      border-top-color: var(--fill-color);\n",
              "    }\n",
              "    30% {\n",
              "      border-color: transparent;\n",
              "      border-left-color: var(--fill-color);\n",
              "      border-top-color: var(--fill-color);\n",
              "      border-right-color: var(--fill-color);\n",
              "    }\n",
              "    40% {\n",
              "      border-color: transparent;\n",
              "      border-right-color: var(--fill-color);\n",
              "      border-top-color: var(--fill-color);\n",
              "    }\n",
              "    60% {\n",
              "      border-color: transparent;\n",
              "      border-right-color: var(--fill-color);\n",
              "    }\n",
              "    80% {\n",
              "      border-color: transparent;\n",
              "      border-right-color: var(--fill-color);\n",
              "      border-bottom-color: var(--fill-color);\n",
              "    }\n",
              "    90% {\n",
              "      border-color: transparent;\n",
              "      border-bottom-color: var(--fill-color);\n",
              "    }\n",
              "  }\n",
              "</style>\n",
              "\n",
              "  <script>\n",
              "    async function quickchart(key) {\n",
              "      const quickchartButtonEl =\n",
              "        document.querySelector('#' + key + ' button');\n",
              "      quickchartButtonEl.disabled = true;  // To prevent multiple clicks.\n",
              "      quickchartButtonEl.classList.add('colab-df-spinner');\n",
              "      try {\n",
              "        const charts = await google.colab.kernel.invokeFunction(\n",
              "            'suggestCharts', [key], {});\n",
              "      } catch (error) {\n",
              "        console.error('Error during call to suggestCharts:', error);\n",
              "      }\n",
              "      quickchartButtonEl.classList.remove('colab-df-spinner');\n",
              "      quickchartButtonEl.classList.add('colab-df-quickchart-complete');\n",
              "    }\n",
              "    (() => {\n",
              "      let quickchartButtonEl =\n",
              "        document.querySelector('#df-44c92e8d-94b0-4dc0-9769-a562daeb03b9 button');\n",
              "      quickchartButtonEl.style.display =\n",
              "        google.colab.kernel.accessAllowed ? 'block' : 'none';\n",
              "    })();\n",
              "  </script>\n",
              "</div>\n",
              "\n",
              "  <div id=\"id_126cc0a6-76bc-42f5-9dab-5a8c33aac194\">\n",
              "    <style>\n",
              "      .colab-df-generate {\n",
              "        background-color: #E8F0FE;\n",
              "        border: none;\n",
              "        border-radius: 50%;\n",
              "        cursor: pointer;\n",
              "        display: none;\n",
              "        fill: #1967D2;\n",
              "        height: 32px;\n",
              "        padding: 0 0 0 0;\n",
              "        width: 32px;\n",
              "      }\n",
              "\n",
              "      .colab-df-generate:hover {\n",
              "        background-color: #E2EBFA;\n",
              "        box-shadow: 0px 1px 2px rgba(60, 64, 67, 0.3), 0px 1px 3px 1px rgba(60, 64, 67, 0.15);\n",
              "        fill: #174EA6;\n",
              "      }\n",
              "\n",
              "      [theme=dark] .colab-df-generate {\n",
              "        background-color: #3B4455;\n",
              "        fill: #D2E3FC;\n",
              "      }\n",
              "\n",
              "      [theme=dark] .colab-df-generate:hover {\n",
              "        background-color: #434B5C;\n",
              "        box-shadow: 0px 1px 3px 1px rgba(0, 0, 0, 0.15);\n",
              "        filter: drop-shadow(0px 1px 2px rgba(0, 0, 0, 0.3));\n",
              "        fill: #FFFFFF;\n",
              "      }\n",
              "    </style>\n",
              "    <button class=\"colab-df-generate\" onclick=\"generateWithVariable('transposed_df')\"\n",
              "            title=\"Generate code using this dataframe.\"\n",
              "            style=\"display:none;\">\n",
              "\n",
              "  <svg xmlns=\"http://www.w3.org/2000/svg\" height=\"24px\"viewBox=\"0 0 24 24\"\n",
              "       width=\"24px\">\n",
              "    <path d=\"M7,19H8.4L18.45,9,17,7.55,7,17.6ZM5,21V16.75L18.45,3.32a2,2,0,0,1,2.83,0l1.4,1.43a1.91,1.91,0,0,1,.58,1.4,1.91,1.91,0,0,1-.58,1.4L9.25,21ZM18.45,9,17,7.55Zm-12,3A5.31,5.31,0,0,0,4.9,8.1,5.31,5.31,0,0,0,1,6.5,5.31,5.31,0,0,0,4.9,4.9,5.31,5.31,0,0,0,6.5,1,5.31,5.31,0,0,0,8.1,4.9,5.31,5.31,0,0,0,12,6.5,5.46,5.46,0,0,0,6.5,12Z\"/>\n",
              "  </svg>\n",
              "    </button>\n",
              "    <script>\n",
              "      (() => {\n",
              "      const buttonEl =\n",
              "        document.querySelector('#id_126cc0a6-76bc-42f5-9dab-5a8c33aac194 button.colab-df-generate');\n",
              "      buttonEl.style.display =\n",
              "        google.colab.kernel.accessAllowed ? 'block' : 'none';\n",
              "\n",
              "      buttonEl.onclick = () => {\n",
              "        google.colab.notebook.generateWithVariable('transposed_df');\n",
              "      }\n",
              "      })();\n",
              "    </script>\n",
              "  </div>\n",
              "\n",
              "    </div>\n",
              "  </div>\n"
            ],
            "text/plain": [
              "                                  A         R         N         D         C  \\\n",
              "NP_001393242.1             0.099656  0.085911  0.030928  0.079038  0.018900   \n",
              "sp|Q9SSX0.1|RAC1_ORYSJ     0.088785  0.074766  0.032710  0.056075  0.032710   \n",
              "sp|Q704V3.1|LOL5_ORYSJ     0.073620  0.042945  0.024540  0.024540  0.061350   \n",
              "NP_001384967.1             0.147757  0.097625  0.015831  0.065963  0.029024   \n",
              "XP_015647591.1             0.107595  0.066456  0.009494  0.041139  0.022152   \n",
              "...                             ...       ...       ...       ...       ...   \n",
              "XP_015639642.1             0.053381  0.054567  0.071174  0.074733  0.030842   \n",
              "sp|Q0DKY4.1|METK1_ORYSJ.1  0.078283  0.047980  0.030303  0.075758  0.020202   \n",
              "sp|B7FAL5.1|Y14A_ORYSJ     0.102941  0.107843  0.029412  0.117647  0.000000   \n",
              "sp|Q6I5C3.1|PYL5_ORYSJ     0.086124  0.062201  0.019139  0.057416  0.019139   \n",
              "NP_001407407.1             0.108235  0.061176  0.035294  0.051765  0.009412   \n",
              "\n",
              "                                  E         Q         G         H         I  \\\n",
              "NP_001393242.1             0.075601  0.022337  0.073883  0.022337  0.036082   \n",
              "sp|Q9SSX0.1|RAC1_ORYSJ     0.037383  0.028037  0.056075  0.009346  0.051402   \n",
              "sp|Q704V3.1|LOL5_ORYSJ     0.055215  0.061350  0.061350  0.036810  0.024540   \n",
              "NP_001384967.1             0.060686  0.021108  0.092348  0.023747  0.018470   \n",
              "XP_015647591.1             0.129747  0.037975  0.066456  0.018987  0.009494   \n",
              "...                             ...       ...       ...       ...       ...   \n",
              "XP_015639642.1             0.061684  0.054567  0.069988  0.020166  0.036773   \n",
              "sp|Q0DKY4.1|METK1_ORYSJ.1  0.063131  0.025253  0.095960  0.032828  0.060606   \n",
              "sp|B7FAL5.1|Y14A_ORYSJ     0.053922  0.024510  0.122549  0.014706  0.044118   \n",
              "sp|Q6I5C3.1|PYL5_ORYSJ     0.071770  0.023923  0.110048  0.043062  0.033493   \n",
              "NP_001407407.1             0.061176  0.040000  0.080000  0.016471  0.028235   \n",
              "\n",
              "                           ...  scl17.16.lag7  scl18.16.lag7  scl19.16.lag7  \\\n",
              "NP_001393242.1             ...       0.000594       0.000142      -0.000130   \n",
              "sp|Q9SSX0.1|RAC1_ORYSJ     ...      -0.000939       0.000186      -0.000149   \n",
              "sp|Q704V3.1|LOL5_ORYSJ     ...       0.000355       0.000114      -0.000047   \n",
              "NP_001384967.1             ...       0.000678      -0.000331      -0.000104   \n",
              "XP_015647591.1             ...       0.000436      -0.000324       0.000164   \n",
              "...                        ...            ...            ...            ...   \n",
              "XP_015639642.1             ...      -0.000611       0.000394      -0.000036   \n",
              "sp|Q0DKY4.1|METK1_ORYSJ.1  ...      -0.000480      -0.000415      -0.000014   \n",
              "sp|B7FAL5.1|Y14A_ORYSJ     ...      -0.000546       0.000165       0.000091   \n",
              "sp|Q6I5C3.1|PYL5_ORYSJ     ...       0.001551      -0.000203       0.000006   \n",
              "NP_001407407.1             ...       0.000479      -0.000252       0.000064   \n",
              "\n",
              "                           scl20.16.lag7  scl18.17.lag7  scl19.17.lag7  \\\n",
              "NP_001393242.1              1.247552e-17       0.000099      -0.000055   \n",
              "sp|Q9SSX0.1|RAC1_ORYSJ     -7.096334e-18      -0.000083      -0.000242   \n",
              "sp|Q704V3.1|LOL5_ORYSJ      1.246798e-17      -0.000143      -0.000087   \n",
              "NP_001384967.1             -2.843651e-18      -0.000190       0.000005   \n",
              "XP_015647591.1              2.523318e-18      -0.000139       0.000043   \n",
              "...                                  ...            ...            ...   \n",
              "XP_015639642.1              9.305084e-19       0.000073       0.000111   \n",
              "sp|Q0DKY4.1|METK1_ORYSJ.1  -1.270130e-17      -0.000454       0.000023   \n",
              "sp|B7FAL5.1|Y14A_ORYSJ     -2.317774e-17       0.000207       0.000018   \n",
              "sp|Q6I5C3.1|PYL5_ORYSJ     -5.128003e-18      -0.001007       0.000173   \n",
              "NP_001407407.1              1.278052e-17      -0.000521       0.000035   \n",
              "\n",
              "                           scl20.17.lag7  scl19.18.lag7  scl20.18.lag7  \\\n",
              "NP_001393242.1              2.681378e-17       0.000009  -3.786759e-18   \n",
              "sp|Q9SSX0.1|RAC1_ORYSJ     -1.459360e-18       0.000116   2.029666e-17   \n",
              "sp|Q704V3.1|LOL5_ORYSJ     -5.532927e-18      -0.000070   8.193435e-18   \n",
              "NP_001384967.1             -4.522877e-18       0.000005   1.726994e-18   \n",
              "XP_015647591.1              1.652741e-17       0.000004   1.487735e-18   \n",
              "...                                  ...            ...            ...   \n",
              "XP_015639642.1              2.692777e-17       0.000027   7.690812e-18   \n",
              "sp|Q0DKY4.1|METK1_ORYSJ.1   3.883545e-18      -0.000003   4.183211e-18   \n",
              "sp|B7FAL5.1|Y14A_ORYSJ     -1.016338e-17      -0.000020   2.923629e-19   \n",
              "sp|Q6I5C3.1|PYL5_ORYSJ      4.541790e-17      -0.000043   9.280979e-18   \n",
              "NP_001407407.1              5.993778e-18      -0.000012   4.433492e-18   \n",
              "\n",
              "                           scl20.19.lag7  \n",
              "NP_001393242.1              1.656694e-19  \n",
              "sp|Q9SSX0.1|RAC1_ORYSJ      1.573591e-18  \n",
              "sp|Q704V3.1|LOL5_ORYSJ      4.132289e-18  \n",
              "NP_001384967.1              1.419055e-18  \n",
              "XP_015647591.1              4.906543e-18  \n",
              "...                                  ...  \n",
              "XP_015639642.1              1.279477e-18  \n",
              "sp|Q0DKY4.1|METK1_ORYSJ.1  -7.082487e-19  \n",
              "sp|B7FAL5.1|Y14A_ORYSJ     -2.035155e-18  \n",
              "sp|Q6I5C3.1|PYL5_ORYSJ      1.949045e-18  \n",
              "NP_001407407.1             -7.219184e-19  \n",
              "\n",
              "[285 rows x 19503 columns]"
            ]
          },
          "execution_count": 55,
          "metadata": {},
          "output_type": "execute_result"
        }
      ],
      "source": [
        "transposed_df"
      ]
    },
    {
      "cell_type": "code",
      "execution_count": null,
      "id": "Groyxd4cpQLs",
      "metadata": {
        "colab": {
          "base_uri": "https://localhost:8080/",
          "height": 443
        },
        "id": "Groyxd4cpQLs",
        "outputId": "895a8a34-0cb6-4ab9-efd0-a5785771368f"
      },
      "outputs": [
        {
          "data": {
            "application/vnd.google.colaboratory.intrinsic+json": {
              "type": "dataframe",
              "variable_name": "transposed_df_ori"
            },
            "text/html": [
              "\n",
              "  <div id=\"df-bbaa6201-b6dd-4c2f-957f-d74baf8cbdc8\" class=\"colab-df-container\">\n",
              "    <div>\n",
              "<style scoped>\n",
              "    .dataframe tbody tr th:only-of-type {\n",
              "        vertical-align: middle;\n",
              "    }\n",
              "\n",
              "    .dataframe tbody tr th {\n",
              "        vertical-align: top;\n",
              "    }\n",
              "\n",
              "    .dataframe thead th {\n",
              "        text-align: right;\n",
              "    }\n",
              "</style>\n",
              "<table border=\"1\" class=\"dataframe\">\n",
              "  <thead>\n",
              "    <tr style=\"text-align: right;\">\n",
              "      <th></th>\n",
              "      <th>A</th>\n",
              "      <th>R</th>\n",
              "      <th>N</th>\n",
              "      <th>D</th>\n",
              "      <th>C</th>\n",
              "      <th>E</th>\n",
              "      <th>Q</th>\n",
              "      <th>G</th>\n",
              "      <th>H</th>\n",
              "      <th>I</th>\n",
              "      <th>...</th>\n",
              "      <th>scl17.16.lag7</th>\n",
              "      <th>scl18.16.lag7</th>\n",
              "      <th>scl19.16.lag7</th>\n",
              "      <th>scl20.16.lag7</th>\n",
              "      <th>scl18.17.lag7</th>\n",
              "      <th>scl19.17.lag7</th>\n",
              "      <th>scl20.17.lag7</th>\n",
              "      <th>scl19.18.lag7</th>\n",
              "      <th>scl20.18.lag7</th>\n",
              "      <th>scl20.19.lag7</th>\n",
              "    </tr>\n",
              "  </thead>\n",
              "  <tbody>\n",
              "    <tr>\n",
              "      <th>scaffold102.196</th>\n",
              "      <td>0.075117</td>\n",
              "      <td>0.037559</td>\n",
              "      <td>0.051643</td>\n",
              "      <td>0.070423</td>\n",
              "      <td>0.004695</td>\n",
              "      <td>0.093897</td>\n",
              "      <td>0.032864</td>\n",
              "      <td>0.046948</td>\n",
              "      <td>0.018779</td>\n",
              "      <td>0.056338</td>\n",
              "      <td>...</td>\n",
              "      <td>0.000680</td>\n",
              "      <td>0.000117</td>\n",
              "      <td>0.000038</td>\n",
              "      <td>3.644172e-18</td>\n",
              "      <td>0.000248</td>\n",
              "      <td>0.000023</td>\n",
              "      <td>-1.809564e-18</td>\n",
              "      <td>0.000013</td>\n",
              "      <td>8.562788e-18</td>\n",
              "      <td>-1.218427e-18</td>\n",
              "    </tr>\n",
              "    <tr>\n",
              "      <th>scaffold11.183</th>\n",
              "      <td>0.074074</td>\n",
              "      <td>0.064815</td>\n",
              "      <td>0.037037</td>\n",
              "      <td>0.080247</td>\n",
              "      <td>0.027778</td>\n",
              "      <td>0.080247</td>\n",
              "      <td>0.018519</td>\n",
              "      <td>0.046296</td>\n",
              "      <td>0.030864</td>\n",
              "      <td>0.058642</td>\n",
              "      <td>...</td>\n",
              "      <td>0.000895</td>\n",
              "      <td>0.000195</td>\n",
              "      <td>-0.000032</td>\n",
              "      <td>2.245064e-17</td>\n",
              "      <td>0.000123</td>\n",
              "      <td>-0.000041</td>\n",
              "      <td>2.215904e-17</td>\n",
              "      <td>-0.000033</td>\n",
              "      <td>-1.440941e-17</td>\n",
              "      <td>2.080415e-18</td>\n",
              "    </tr>\n",
              "    <tr>\n",
              "      <th>scaffold11.348</th>\n",
              "      <td>0.080851</td>\n",
              "      <td>0.046809</td>\n",
              "      <td>0.042553</td>\n",
              "      <td>0.093617</td>\n",
              "      <td>0.008511</td>\n",
              "      <td>0.093617</td>\n",
              "      <td>0.025532</td>\n",
              "      <td>0.029787</td>\n",
              "      <td>0.025532</td>\n",
              "      <td>0.046809</td>\n",
              "      <td>...</td>\n",
              "      <td>-0.000332</td>\n",
              "      <td>-0.000242</td>\n",
              "      <td>0.000001</td>\n",
              "      <td>-1.536088e-17</td>\n",
              "      <td>0.000015</td>\n",
              "      <td>0.000095</td>\n",
              "      <td>1.176662e-17</td>\n",
              "      <td>-0.000006</td>\n",
              "      <td>1.393688e-17</td>\n",
              "      <td>-2.164886e-20</td>\n",
              "    </tr>\n",
              "    <tr>\n",
              "      <th>scaffold12.99</th>\n",
              "      <td>0.177677</td>\n",
              "      <td>0.059226</td>\n",
              "      <td>0.029613</td>\n",
              "      <td>0.045558</td>\n",
              "      <td>0.002278</td>\n",
              "      <td>0.025057</td>\n",
              "      <td>0.018223</td>\n",
              "      <td>0.070615</td>\n",
              "      <td>0.011390</td>\n",
              "      <td>0.022779</td>\n",
              "      <td>...</td>\n",
              "      <td>-0.000434</td>\n",
              "      <td>0.000246</td>\n",
              "      <td>-0.000128</td>\n",
              "      <td>2.055807e-17</td>\n",
              "      <td>0.000308</td>\n",
              "      <td>0.000063</td>\n",
              "      <td>1.807235e-17</td>\n",
              "      <td>0.000037</td>\n",
              "      <td>6.994290e-18</td>\n",
              "      <td>3.944245e-19</td>\n",
              "    </tr>\n",
              "    <tr>\n",
              "      <th>scaffold143.256</th>\n",
              "      <td>0.101648</td>\n",
              "      <td>0.074176</td>\n",
              "      <td>0.046703</td>\n",
              "      <td>0.063187</td>\n",
              "      <td>0.016484</td>\n",
              "      <td>0.074176</td>\n",
              "      <td>0.019231</td>\n",
              "      <td>0.041209</td>\n",
              "      <td>0.019231</td>\n",
              "      <td>0.043956</td>\n",
              "      <td>...</td>\n",
              "      <td>0.000116</td>\n",
              "      <td>0.000362</td>\n",
              "      <td>-0.000103</td>\n",
              "      <td>1.973094e-17</td>\n",
              "      <td>-0.000437</td>\n",
              "      <td>0.000057</td>\n",
              "      <td>2.881725e-17</td>\n",
              "      <td>0.000007</td>\n",
              "      <td>-9.385988e-19</td>\n",
              "      <td>1.269362e-18</td>\n",
              "    </tr>\n",
              "    <tr>\n",
              "      <th>...</th>\n",
              "      <td>...</td>\n",
              "      <td>...</td>\n",
              "      <td>...</td>\n",
              "      <td>...</td>\n",
              "      <td>...</td>\n",
              "      <td>...</td>\n",
              "      <td>...</td>\n",
              "      <td>...</td>\n",
              "      <td>...</td>\n",
              "      <td>...</td>\n",
              "      <td>...</td>\n",
              "      <td>...</td>\n",
              "      <td>...</td>\n",
              "      <td>...</td>\n",
              "      <td>...</td>\n",
              "      <td>...</td>\n",
              "      <td>...</td>\n",
              "      <td>...</td>\n",
              "      <td>...</td>\n",
              "      <td>...</td>\n",
              "      <td>...</td>\n",
              "    </tr>\n",
              "    <tr>\n",
              "      <th>Zlat_10023603</th>\n",
              "      <td>0.050955</td>\n",
              "      <td>0.078556</td>\n",
              "      <td>0.042463</td>\n",
              "      <td>0.053079</td>\n",
              "      <td>0.006369</td>\n",
              "      <td>0.050955</td>\n",
              "      <td>0.038217</td>\n",
              "      <td>0.082803</td>\n",
              "      <td>0.021231</td>\n",
              "      <td>0.048832</td>\n",
              "      <td>...</td>\n",
              "      <td>0.000861</td>\n",
              "      <td>0.000119</td>\n",
              "      <td>0.000014</td>\n",
              "      <td>1.263797e-17</td>\n",
              "      <td>0.000334</td>\n",
              "      <td>0.000039</td>\n",
              "      <td>1.622510e-17</td>\n",
              "      <td>0.000029</td>\n",
              "      <td>-1.252721e-18</td>\n",
              "      <td>1.458969e-19</td>\n",
              "    </tr>\n",
              "    <tr>\n",
              "      <th>Zlat_10016333</th>\n",
              "      <td>0.042254</td>\n",
              "      <td>0.056338</td>\n",
              "      <td>0.046948</td>\n",
              "      <td>0.093897</td>\n",
              "      <td>0.004695</td>\n",
              "      <td>0.079812</td>\n",
              "      <td>0.023474</td>\n",
              "      <td>0.051643</td>\n",
              "      <td>0.004695</td>\n",
              "      <td>0.075117</td>\n",
              "      <td>...</td>\n",
              "      <td>0.000340</td>\n",
              "      <td>-0.000561</td>\n",
              "      <td>0.000064</td>\n",
              "      <td>1.696829e-17</td>\n",
              "      <td>0.000520</td>\n",
              "      <td>0.000051</td>\n",
              "      <td>-1.032856e-17</td>\n",
              "      <td>0.000063</td>\n",
              "      <td>-2.479725e-19</td>\n",
              "      <td>-3.851722e-18</td>\n",
              "    </tr>\n",
              "    <tr>\n",
              "      <th>Zlat_10004892</th>\n",
              "      <td>0.094435</td>\n",
              "      <td>0.074199</td>\n",
              "      <td>0.021922</td>\n",
              "      <td>0.057336</td>\n",
              "      <td>0.015177</td>\n",
              "      <td>0.055649</td>\n",
              "      <td>0.021922</td>\n",
              "      <td>0.067454</td>\n",
              "      <td>0.032040</td>\n",
              "      <td>0.050590</td>\n",
              "      <td>...</td>\n",
              "      <td>0.000535</td>\n",
              "      <td>-0.000078</td>\n",
              "      <td>0.000135</td>\n",
              "      <td>1.118589e-17</td>\n",
              "      <td>-0.000194</td>\n",
              "      <td>0.000063</td>\n",
              "      <td>1.643734e-17</td>\n",
              "      <td>-0.000037</td>\n",
              "      <td>2.499815e-18</td>\n",
              "      <td>1.860435e-18</td>\n",
              "    </tr>\n",
              "    <tr>\n",
              "      <th>Zlat_10002457</th>\n",
              "      <td>0.079872</td>\n",
              "      <td>0.089457</td>\n",
              "      <td>0.015974</td>\n",
              "      <td>0.070288</td>\n",
              "      <td>0.012780</td>\n",
              "      <td>0.067093</td>\n",
              "      <td>0.015974</td>\n",
              "      <td>0.047923</td>\n",
              "      <td>0.044728</td>\n",
              "      <td>0.054313</td>\n",
              "      <td>...</td>\n",
              "      <td>0.000272</td>\n",
              "      <td>0.000069</td>\n",
              "      <td>-0.000055</td>\n",
              "      <td>-1.815200e-17</td>\n",
              "      <td>-0.000224</td>\n",
              "      <td>-0.000101</td>\n",
              "      <td>-7.343415e-18</td>\n",
              "      <td>-0.000071</td>\n",
              "      <td>2.190139e-19</td>\n",
              "      <td>-2.713839e-18</td>\n",
              "    </tr>\n",
              "    <tr>\n",
              "      <th>Zlat_10000608</th>\n",
              "      <td>0.045259</td>\n",
              "      <td>0.086207</td>\n",
              "      <td>0.030172</td>\n",
              "      <td>0.056034</td>\n",
              "      <td>0.008621</td>\n",
              "      <td>0.051724</td>\n",
              "      <td>0.028017</td>\n",
              "      <td>0.081897</td>\n",
              "      <td>0.034483</td>\n",
              "      <td>0.040948</td>\n",
              "      <td>...</td>\n",
              "      <td>-0.000055</td>\n",
              "      <td>0.000414</td>\n",
              "      <td>0.000041</td>\n",
              "      <td>1.911134e-17</td>\n",
              "      <td>-0.000251</td>\n",
              "      <td>0.000086</td>\n",
              "      <td>2.847538e-17</td>\n",
              "      <td>0.000031</td>\n",
              "      <td>3.052095e-18</td>\n",
              "      <td>-1.953331e-18</td>\n",
              "    </tr>\n",
              "  </tbody>\n",
              "</table>\n",
              "<p>296 rows × 19503 columns</p>\n",
              "</div>\n",
              "    <div class=\"colab-df-buttons\">\n",
              "\n",
              "  <div class=\"colab-df-container\">\n",
              "    <button class=\"colab-df-convert\" onclick=\"convertToInteractive('df-bbaa6201-b6dd-4c2f-957f-d74baf8cbdc8')\"\n",
              "            title=\"Convert this dataframe to an interactive table.\"\n",
              "            style=\"display:none;\">\n",
              "\n",
              "  <svg xmlns=\"http://www.w3.org/2000/svg\" height=\"24px\" viewBox=\"0 -960 960 960\">\n",
              "    <path d=\"M120-120v-720h720v720H120Zm60-500h600v-160H180v160Zm220 220h160v-160H400v160Zm0 220h160v-160H400v160ZM180-400h160v-160H180v160Zm440 0h160v-160H620v160ZM180-180h160v-160H180v160Zm440 0h160v-160H620v160Z\"/>\n",
              "  </svg>\n",
              "    </button>\n",
              "\n",
              "  <style>\n",
              "    .colab-df-container {\n",
              "      display:flex;\n",
              "      gap: 12px;\n",
              "    }\n",
              "\n",
              "    .colab-df-convert {\n",
              "      background-color: #E8F0FE;\n",
              "      border: none;\n",
              "      border-radius: 50%;\n",
              "      cursor: pointer;\n",
              "      display: none;\n",
              "      fill: #1967D2;\n",
              "      height: 32px;\n",
              "      padding: 0 0 0 0;\n",
              "      width: 32px;\n",
              "    }\n",
              "\n",
              "    .colab-df-convert:hover {\n",
              "      background-color: #E2EBFA;\n",
              "      box-shadow: 0px 1px 2px rgba(60, 64, 67, 0.3), 0px 1px 3px 1px rgba(60, 64, 67, 0.15);\n",
              "      fill: #174EA6;\n",
              "    }\n",
              "\n",
              "    .colab-df-buttons div {\n",
              "      margin-bottom: 4px;\n",
              "    }\n",
              "\n",
              "    [theme=dark] .colab-df-convert {\n",
              "      background-color: #3B4455;\n",
              "      fill: #D2E3FC;\n",
              "    }\n",
              "\n",
              "    [theme=dark] .colab-df-convert:hover {\n",
              "      background-color: #434B5C;\n",
              "      box-shadow: 0px 1px 3px 1px rgba(0, 0, 0, 0.15);\n",
              "      filter: drop-shadow(0px 1px 2px rgba(0, 0, 0, 0.3));\n",
              "      fill: #FFFFFF;\n",
              "    }\n",
              "  </style>\n",
              "\n",
              "    <script>\n",
              "      const buttonEl =\n",
              "        document.querySelector('#df-bbaa6201-b6dd-4c2f-957f-d74baf8cbdc8 button.colab-df-convert');\n",
              "      buttonEl.style.display =\n",
              "        google.colab.kernel.accessAllowed ? 'block' : 'none';\n",
              "\n",
              "      async function convertToInteractive(key) {\n",
              "        const element = document.querySelector('#df-bbaa6201-b6dd-4c2f-957f-d74baf8cbdc8');\n",
              "        const dataTable =\n",
              "          await google.colab.kernel.invokeFunction('convertToInteractive',\n",
              "                                                    [key], {});\n",
              "        if (!dataTable) return;\n",
              "\n",
              "        const docLinkHtml = 'Like what you see? Visit the ' +\n",
              "          '<a target=\"_blank\" href=https://colab.research.google.com/notebooks/data_table.ipynb>data table notebook</a>'\n",
              "          + ' to learn more about interactive tables.';\n",
              "        element.innerHTML = '';\n",
              "        dataTable['output_type'] = 'display_data';\n",
              "        await google.colab.output.renderOutput(dataTable, element);\n",
              "        const docLink = document.createElement('div');\n",
              "        docLink.innerHTML = docLinkHtml;\n",
              "        element.appendChild(docLink);\n",
              "      }\n",
              "    </script>\n",
              "  </div>\n",
              "\n",
              "\n",
              "<div id=\"df-ee0ab793-9f80-402f-a3b5-17ec1a8d4c5d\">\n",
              "  <button class=\"colab-df-quickchart\" onclick=\"quickchart('df-ee0ab793-9f80-402f-a3b5-17ec1a8d4c5d')\"\n",
              "            title=\"Suggest charts\"\n",
              "            style=\"display:none;\">\n",
              "\n",
              "<svg xmlns=\"http://www.w3.org/2000/svg\" height=\"24px\"viewBox=\"0 0 24 24\"\n",
              "     width=\"24px\">\n",
              "    <g>\n",
              "        <path d=\"M19 3H5c-1.1 0-2 .9-2 2v14c0 1.1.9 2 2 2h14c1.1 0 2-.9 2-2V5c0-1.1-.9-2-2-2zM9 17H7v-7h2v7zm4 0h-2V7h2v10zm4 0h-2v-4h2v4z\"/>\n",
              "    </g>\n",
              "</svg>\n",
              "  </button>\n",
              "\n",
              "<style>\n",
              "  .colab-df-quickchart {\n",
              "      --bg-color: #E8F0FE;\n",
              "      --fill-color: #1967D2;\n",
              "      --hover-bg-color: #E2EBFA;\n",
              "      --hover-fill-color: #174EA6;\n",
              "      --disabled-fill-color: #AAA;\n",
              "      --disabled-bg-color: #DDD;\n",
              "  }\n",
              "\n",
              "  [theme=dark] .colab-df-quickchart {\n",
              "      --bg-color: #3B4455;\n",
              "      --fill-color: #D2E3FC;\n",
              "      --hover-bg-color: #434B5C;\n",
              "      --hover-fill-color: #FFFFFF;\n",
              "      --disabled-bg-color: #3B4455;\n",
              "      --disabled-fill-color: #666;\n",
              "  }\n",
              "\n",
              "  .colab-df-quickchart {\n",
              "    background-color: var(--bg-color);\n",
              "    border: none;\n",
              "    border-radius: 50%;\n",
              "    cursor: pointer;\n",
              "    display: none;\n",
              "    fill: var(--fill-color);\n",
              "    height: 32px;\n",
              "    padding: 0;\n",
              "    width: 32px;\n",
              "  }\n",
              "\n",
              "  .colab-df-quickchart:hover {\n",
              "    background-color: var(--hover-bg-color);\n",
              "    box-shadow: 0 1px 2px rgba(60, 64, 67, 0.3), 0 1px 3px 1px rgba(60, 64, 67, 0.15);\n",
              "    fill: var(--button-hover-fill-color);\n",
              "  }\n",
              "\n",
              "  .colab-df-quickchart-complete:disabled,\n",
              "  .colab-df-quickchart-complete:disabled:hover {\n",
              "    background-color: var(--disabled-bg-color);\n",
              "    fill: var(--disabled-fill-color);\n",
              "    box-shadow: none;\n",
              "  }\n",
              "\n",
              "  .colab-df-spinner {\n",
              "    border: 2px solid var(--fill-color);\n",
              "    border-color: transparent;\n",
              "    border-bottom-color: var(--fill-color);\n",
              "    animation:\n",
              "      spin 1s steps(1) infinite;\n",
              "  }\n",
              "\n",
              "  @keyframes spin {\n",
              "    0% {\n",
              "      border-color: transparent;\n",
              "      border-bottom-color: var(--fill-color);\n",
              "      border-left-color: var(--fill-color);\n",
              "    }\n",
              "    20% {\n",
              "      border-color: transparent;\n",
              "      border-left-color: var(--fill-color);\n",
              "      border-top-color: var(--fill-color);\n",
              "    }\n",
              "    30% {\n",
              "      border-color: transparent;\n",
              "      border-left-color: var(--fill-color);\n",
              "      border-top-color: var(--fill-color);\n",
              "      border-right-color: var(--fill-color);\n",
              "    }\n",
              "    40% {\n",
              "      border-color: transparent;\n",
              "      border-right-color: var(--fill-color);\n",
              "      border-top-color: var(--fill-color);\n",
              "    }\n",
              "    60% {\n",
              "      border-color: transparent;\n",
              "      border-right-color: var(--fill-color);\n",
              "    }\n",
              "    80% {\n",
              "      border-color: transparent;\n",
              "      border-right-color: var(--fill-color);\n",
              "      border-bottom-color: var(--fill-color);\n",
              "    }\n",
              "    90% {\n",
              "      border-color: transparent;\n",
              "      border-bottom-color: var(--fill-color);\n",
              "    }\n",
              "  }\n",
              "</style>\n",
              "\n",
              "  <script>\n",
              "    async function quickchart(key) {\n",
              "      const quickchartButtonEl =\n",
              "        document.querySelector('#' + key + ' button');\n",
              "      quickchartButtonEl.disabled = true;  // To prevent multiple clicks.\n",
              "      quickchartButtonEl.classList.add('colab-df-spinner');\n",
              "      try {\n",
              "        const charts = await google.colab.kernel.invokeFunction(\n",
              "            'suggestCharts', [key], {});\n",
              "      } catch (error) {\n",
              "        console.error('Error during call to suggestCharts:', error);\n",
              "      }\n",
              "      quickchartButtonEl.classList.remove('colab-df-spinner');\n",
              "      quickchartButtonEl.classList.add('colab-df-quickchart-complete');\n",
              "    }\n",
              "    (() => {\n",
              "      let quickchartButtonEl =\n",
              "        document.querySelector('#df-ee0ab793-9f80-402f-a3b5-17ec1a8d4c5d button');\n",
              "      quickchartButtonEl.style.display =\n",
              "        google.colab.kernel.accessAllowed ? 'block' : 'none';\n",
              "    })();\n",
              "  </script>\n",
              "</div>\n",
              "\n",
              "  <div id=\"id_69cda617-b7ad-443e-a583-b9765a6cb334\">\n",
              "    <style>\n",
              "      .colab-df-generate {\n",
              "        background-color: #E8F0FE;\n",
              "        border: none;\n",
              "        border-radius: 50%;\n",
              "        cursor: pointer;\n",
              "        display: none;\n",
              "        fill: #1967D2;\n",
              "        height: 32px;\n",
              "        padding: 0 0 0 0;\n",
              "        width: 32px;\n",
              "      }\n",
              "\n",
              "      .colab-df-generate:hover {\n",
              "        background-color: #E2EBFA;\n",
              "        box-shadow: 0px 1px 2px rgba(60, 64, 67, 0.3), 0px 1px 3px 1px rgba(60, 64, 67, 0.15);\n",
              "        fill: #174EA6;\n",
              "      }\n",
              "\n",
              "      [theme=dark] .colab-df-generate {\n",
              "        background-color: #3B4455;\n",
              "        fill: #D2E3FC;\n",
              "      }\n",
              "\n",
              "      [theme=dark] .colab-df-generate:hover {\n",
              "        background-color: #434B5C;\n",
              "        box-shadow: 0px 1px 3px 1px rgba(0, 0, 0, 0.15);\n",
              "        filter: drop-shadow(0px 1px 2px rgba(0, 0, 0, 0.3));\n",
              "        fill: #FFFFFF;\n",
              "      }\n",
              "    </style>\n",
              "    <button class=\"colab-df-generate\" onclick=\"generateWithVariable('transposed_df_ori')\"\n",
              "            title=\"Generate code using this dataframe.\"\n",
              "            style=\"display:none;\">\n",
              "\n",
              "  <svg xmlns=\"http://www.w3.org/2000/svg\" height=\"24px\"viewBox=\"0 0 24 24\"\n",
              "       width=\"24px\">\n",
              "    <path d=\"M7,19H8.4L18.45,9,17,7.55,7,17.6ZM5,21V16.75L18.45,3.32a2,2,0,0,1,2.83,0l1.4,1.43a1.91,1.91,0,0,1,.58,1.4,1.91,1.91,0,0,1-.58,1.4L9.25,21ZM18.45,9,17,7.55Zm-12,3A5.31,5.31,0,0,0,4.9,8.1,5.31,5.31,0,0,0,1,6.5,5.31,5.31,0,0,0,4.9,4.9,5.31,5.31,0,0,0,6.5,1,5.31,5.31,0,0,0,8.1,4.9,5.31,5.31,0,0,0,12,6.5,5.46,5.46,0,0,0,6.5,12Z\"/>\n",
              "  </svg>\n",
              "    </button>\n",
              "    <script>\n",
              "      (() => {\n",
              "      const buttonEl =\n",
              "        document.querySelector('#id_69cda617-b7ad-443e-a583-b9765a6cb334 button.colab-df-generate');\n",
              "      buttonEl.style.display =\n",
              "        google.colab.kernel.accessAllowed ? 'block' : 'none';\n",
              "\n",
              "      buttonEl.onclick = () => {\n",
              "        google.colab.notebook.generateWithVariable('transposed_df_ori');\n",
              "      }\n",
              "      })();\n",
              "    </script>\n",
              "  </div>\n",
              "\n",
              "    </div>\n",
              "  </div>\n"
            ],
            "text/plain": [
              "                        A         R         N         D         C         E  \\\n",
              "scaffold102.196  0.075117  0.037559  0.051643  0.070423  0.004695  0.093897   \n",
              "scaffold11.183   0.074074  0.064815  0.037037  0.080247  0.027778  0.080247   \n",
              "scaffold11.348   0.080851  0.046809  0.042553  0.093617  0.008511  0.093617   \n",
              "scaffold12.99    0.177677  0.059226  0.029613  0.045558  0.002278  0.025057   \n",
              "scaffold143.256  0.101648  0.074176  0.046703  0.063187  0.016484  0.074176   \n",
              "...                   ...       ...       ...       ...       ...       ...   \n",
              "Zlat_10023603    0.050955  0.078556  0.042463  0.053079  0.006369  0.050955   \n",
              "Zlat_10016333    0.042254  0.056338  0.046948  0.093897  0.004695  0.079812   \n",
              "Zlat_10004892    0.094435  0.074199  0.021922  0.057336  0.015177  0.055649   \n",
              "Zlat_10002457    0.079872  0.089457  0.015974  0.070288  0.012780  0.067093   \n",
              "Zlat_10000608    0.045259  0.086207  0.030172  0.056034  0.008621  0.051724   \n",
              "\n",
              "                        Q         G         H         I  ...  scl17.16.lag7  \\\n",
              "scaffold102.196  0.032864  0.046948  0.018779  0.056338  ...       0.000680   \n",
              "scaffold11.183   0.018519  0.046296  0.030864  0.058642  ...       0.000895   \n",
              "scaffold11.348   0.025532  0.029787  0.025532  0.046809  ...      -0.000332   \n",
              "scaffold12.99    0.018223  0.070615  0.011390  0.022779  ...      -0.000434   \n",
              "scaffold143.256  0.019231  0.041209  0.019231  0.043956  ...       0.000116   \n",
              "...                   ...       ...       ...       ...  ...            ...   \n",
              "Zlat_10023603    0.038217  0.082803  0.021231  0.048832  ...       0.000861   \n",
              "Zlat_10016333    0.023474  0.051643  0.004695  0.075117  ...       0.000340   \n",
              "Zlat_10004892    0.021922  0.067454  0.032040  0.050590  ...       0.000535   \n",
              "Zlat_10002457    0.015974  0.047923  0.044728  0.054313  ...       0.000272   \n",
              "Zlat_10000608    0.028017  0.081897  0.034483  0.040948  ...      -0.000055   \n",
              "\n",
              "                 scl18.16.lag7  scl19.16.lag7  scl20.16.lag7  scl18.17.lag7  \\\n",
              "scaffold102.196       0.000117       0.000038   3.644172e-18       0.000248   \n",
              "scaffold11.183        0.000195      -0.000032   2.245064e-17       0.000123   \n",
              "scaffold11.348       -0.000242       0.000001  -1.536088e-17       0.000015   \n",
              "scaffold12.99         0.000246      -0.000128   2.055807e-17       0.000308   \n",
              "scaffold143.256       0.000362      -0.000103   1.973094e-17      -0.000437   \n",
              "...                        ...            ...            ...            ...   \n",
              "Zlat_10023603         0.000119       0.000014   1.263797e-17       0.000334   \n",
              "Zlat_10016333        -0.000561       0.000064   1.696829e-17       0.000520   \n",
              "Zlat_10004892        -0.000078       0.000135   1.118589e-17      -0.000194   \n",
              "Zlat_10002457         0.000069      -0.000055  -1.815200e-17      -0.000224   \n",
              "Zlat_10000608         0.000414       0.000041   1.911134e-17      -0.000251   \n",
              "\n",
              "                 scl19.17.lag7  scl20.17.lag7  scl19.18.lag7  scl20.18.lag7  \\\n",
              "scaffold102.196       0.000023  -1.809564e-18       0.000013   8.562788e-18   \n",
              "scaffold11.183       -0.000041   2.215904e-17      -0.000033  -1.440941e-17   \n",
              "scaffold11.348        0.000095   1.176662e-17      -0.000006   1.393688e-17   \n",
              "scaffold12.99         0.000063   1.807235e-17       0.000037   6.994290e-18   \n",
              "scaffold143.256       0.000057   2.881725e-17       0.000007  -9.385988e-19   \n",
              "...                        ...            ...            ...            ...   \n",
              "Zlat_10023603         0.000039   1.622510e-17       0.000029  -1.252721e-18   \n",
              "Zlat_10016333         0.000051  -1.032856e-17       0.000063  -2.479725e-19   \n",
              "Zlat_10004892         0.000063   1.643734e-17      -0.000037   2.499815e-18   \n",
              "Zlat_10002457        -0.000101  -7.343415e-18      -0.000071   2.190139e-19   \n",
              "Zlat_10000608         0.000086   2.847538e-17       0.000031   3.052095e-18   \n",
              "\n",
              "                 scl20.19.lag7  \n",
              "scaffold102.196  -1.218427e-18  \n",
              "scaffold11.183    2.080415e-18  \n",
              "scaffold11.348   -2.164886e-20  \n",
              "scaffold12.99     3.944245e-19  \n",
              "scaffold143.256   1.269362e-18  \n",
              "...                        ...  \n",
              "Zlat_10023603     1.458969e-19  \n",
              "Zlat_10016333    -3.851722e-18  \n",
              "Zlat_10004892     1.860435e-18  \n",
              "Zlat_10002457    -2.713839e-18  \n",
              "Zlat_10000608    -1.953331e-18  \n",
              "\n",
              "[296 rows x 19503 columns]"
            ]
          },
          "execution_count": 56,
          "metadata": {},
          "output_type": "execute_result"
        }
      ],
      "source": [
        "transposed_df_ori"
      ]
    },
    {
      "cell_type": "markdown",
      "id": "680ee7a3",
      "metadata": {
        "id": "680ee7a3"
      },
      "source": [
        "# Changing data type to string"
      ]
    },
    {
      "cell_type": "code",
      "execution_count": null,
      "id": "8c0f7729",
      "metadata": {
        "id": "8c0f7729"
      },
      "outputs": [],
      "source": [
        "###changing data type to string###\n",
        "\n",
        "# test\n",
        "transposed_df.columns = transposed_df.columns.astype(\"str\")\n",
        "\n",
        "# origin\n",
        "transposed_df_ori.columns = transposed_df_ori.columns.astype(\"str\")"
      ]
    },
    {
      "cell_type": "markdown",
      "id": "c185be4c",
      "metadata": {
        "id": "c185be4c"
      },
      "source": [
        "# Scaling +  PCA"
      ]
    },
    {
      "cell_type": "markdown",
      "id": "uCNFNCEQqzIJ",
      "metadata": {
        "id": "uCNFNCEQqzIJ"
      },
      "source": [
        "**Origin (To be used to build the model)**"
      ]
    },
    {
      "cell_type": "code",
      "execution_count": null,
      "id": "FDCy8p9eWFU3",
      "metadata": {
        "colab": {
          "base_uri": "https://localhost:8080/"
        },
        "id": "FDCy8p9eWFU3",
        "outputId": "95d775fc-78b3-4dbd-a801-e4e3bb75bf10"
      },
      "outputs": [
        {
          "name": "stdout",
          "output_type": "stream",
          "text": [
            "Sum of Explained Variance Ratios: 0.6109064856570616\n"
          ]
        }
      ],
      "source": [
        "# Origin\n",
        "\n",
        "import numpy as np\n",
        "from sklearn.preprocessing import StandardScaler\n",
        "from sklearn.decomposition import PCA\n",
        "\n",
        "# Set a fixed random seed for reproducibility\n",
        "np.random.seed(0)\n",
        "\n",
        "# Standard Scaling\n",
        "sc_x = StandardScaler()\n",
        "transposed_df_scale_ori = sc_x.fit_transform(transposed_df_ori)\n",
        "\n",
        "# Principal Component Analysis (PCA)\n",
        "pca_ori = PCA(n_components=50)\n",
        "df_scale_pca_ori = pca_ori.fit_transform(transposed_df_scale_ori)\n",
        "\n",
        "# Calculate the sum of explained variance ratios\n",
        "explained_variance_sum_ori = sum(pca_ori.explained_variance_ratio_)\n",
        "\n",
        "# Print the result\n",
        "print(\"Sum of Explained Variance Ratios:\", explained_variance_sum_ori)\n"
      ]
    },
    {
      "cell_type": "code",
      "execution_count": null,
      "id": "80o7qo5tbv0A",
      "metadata": {
        "colab": {
          "base_uri": "https://localhost:8080/"
        },
        "id": "80o7qo5tbv0A",
        "outputId": "dd486d55-baee-44c0-9c0a-5eb0a8b53452"
      },
      "outputs": [
        {
          "data": {
            "text/plain": [
              "(296, 50)"
            ]
          },
          "execution_count": 59,
          "metadata": {},
          "output_type": "execute_result"
        }
      ],
      "source": [
        "df_scale_pca_ori.shape"
      ]
    },
    {
      "cell_type": "code",
      "execution_count": null,
      "id": "-jXgR4fNb8Yn",
      "metadata": {
        "colab": {
          "base_uri": "https://localhost:8080/",
          "height": 447
        },
        "id": "-jXgR4fNb8Yn",
        "outputId": "820ba234-c179-40d2-975a-9d986da6f56f"
      },
      "outputs": [
        {
          "data": {
            "text/plain": [
              "<matplotlib.collections.PathCollection at 0x7c62e52e5180>"
            ]
          },
          "execution_count": 60,
          "metadata": {},
          "output_type": "execute_result"
        },
        {
          "data": {
            "image/png": "[encoded data removed]",
            "text/plain": [
              "<Figure size 640x480 with 1 Axes>"
            ]
          },
          "metadata": {},
          "output_type": "display_data"
        }
      ],
      "source": [
        "plt.scatter(df_scale_pca_ori[:,0],df_scale_pca_ori[:,1])"
      ]
    },
    {
      "cell_type": "markdown",
      "id": "fJJHuF2sq9pQ",
      "metadata": {
        "id": "fJJHuF2sq9pQ"
      },
      "source": [
        "**Test data (to be tested)**"
      ]
    },
    {
      "cell_type": "code",
      "execution_count": null,
      "id": "DAXtOF4Iq8Zi",
      "metadata": {
        "colab": {
          "base_uri": "https://localhost:8080/"
        },
        "id": "DAXtOF4Iq8Zi",
        "outputId": "48b5b3fd-6918-4d29-99e4-d2cbb17fb15b"
      },
      "outputs": [
        {
          "name": "stdout",
          "output_type": "stream",
          "text": [
            "Sum of Explained Variance Ratios: 0.4701528446780797\n"
          ]
        }
      ],
      "source": [
        "# Set a fixed random seed for reproducibility\n",
        "np.random.seed(0)\n",
        "\n",
        "# Standard Scaling\n",
        "sc_x = StandardScaler()\n",
        "transposed_df_scale_test = sc_x.fit_transform(transposed_df)\n",
        "\n",
        "# Principal Component Analysis (PCA)\n",
        "pca_test = PCA(n_components=50)\n",
        "df_scale_pca_test = pca_test.fit_transform(transposed_df_scale_test)\n",
        "\n",
        "# Calculate the sum of explained variance ratios\n",
        "explained_variance_sum_test = sum(pca_test.explained_variance_ratio_)\n",
        "\n",
        "# Print the result\n",
        "print(\"Sum of Explained Variance Ratios:\", explained_variance_sum_test)"
      ]
    },
    {
      "cell_type": "code",
      "execution_count": null,
      "id": "FdOx1rDZrvsw",
      "metadata": {
        "colab": {
          "base_uri": "https://localhost:8080/"
        },
        "id": "FdOx1rDZrvsw",
        "outputId": "7ef120c1-c218-40f4-c049-1aaea38141b5"
      },
      "outputs": [
        {
          "data": {
            "text/plain": [
              "(285, 50)"
            ]
          },
          "execution_count": 62,
          "metadata": {},
          "output_type": "execute_result"
        }
      ],
      "source": [
        "df_scale_pca_test.shape"
      ]
    },
    {
      "cell_type": "code",
      "execution_count": null,
      "id": "2oxGXZ9Or6KV",
      "metadata": {
        "colab": {
          "base_uri": "https://localhost:8080/",
          "height": 447
        },
        "id": "2oxGXZ9Or6KV",
        "outputId": "c3f6d6fb-9174-4daa-d423-6a376b1947e0"
      },
      "outputs": [
        {
          "data": {
            "text/plain": [
              "<matplotlib.collections.PathCollection at 0x7c62e4bee170>"
            ]
          },
          "execution_count": 63,
          "metadata": {},
          "output_type": "execute_result"
        },
        {
          "data": {
            "image/png": "[encoded data removed]",
            "text/plain": [
              "<Figure size 640x480 with 1 Axes>"
            ]
          },
          "metadata": {},
          "output_type": "display_data"
        }
      ],
      "source": [
        "plt.scatter(df_scale_pca_test[:,0],df_scale_pca_test[:,1])"
      ]
    },
    {
      "cell_type": "markdown",
      "id": "6PXp17ssjMOD",
      "metadata": {
        "id": "6PXp17ssjMOD"
      },
      "source": [
        "# ID Mapping"
      ]
    },
    {
      "cell_type": "markdown",
      "id": "b54a453e",
      "metadata": {
        "id": "b54a453e"
      },
      "source": [
        "# Data splitting\n",
        "\n",
        "here we will split the original data into 80% training and 20% test and on 80% training data we will run the model to predict the 285 new test sequence data."
      ]
    },
    {
      "cell_type": "code",
      "execution_count": null,
      "id": "585f0a8b",
      "metadata": {
        "id": "585f0a8b"
      },
      "outputs": [],
      "source": [
        "####splitting data####\n",
        "from sklearn.model_selection import train_test_split"
      ]
    },
    {
      "cell_type": "code",
      "execution_count": null,
      "id": "6cd8ee4f",
      "metadata": {
        "id": "6cd8ee4f"
      },
      "outputs": [],
      "source": [
        "ori_train, ori_test, ori_train_label, ori_test_label = train_test_split(\n",
        "    df_scale_pca_ori, ori, test_size=0.2, random_state=0)"
      ]
    },
    {
      "cell_type": "code",
      "execution_count": null,
      "id": "K2zbJumhzrAy",
      "metadata": {
        "colab": {
          "base_uri": "https://localhost:8080/"
        },
        "id": "K2zbJumhzrAy",
        "outputId": "51017f38-8fd4-48b7-8a63-0380305f12d5"
      },
      "outputs": [
        {
          "name": "stdout",
          "output_type": "stream",
          "text": [
            "[1 1 1 1 0 0 1 1 1 0 1 1 0 1 1 0 1 1 1 1 1 0 1 1 1 1 0 1 1 1 1 0 1 0 1 1 1\n",
            " 1 0 1 1 1 1 1 1 1 0 0 1 0 1 1 1 0 0 1 0 0 0 1 1 1 1 1 1 0 0 1 0 0 1 1 1 1\n",
            " 0 1 0 1 1 0 1 1 0 0 0 1 1 0 1 1 1 0 0 0 1 1 1 0 0 1 0 0 0 1 0 1 1 1 1 0 1\n",
            " 1 1 1 1 0 1 1 1 1 1 1 1 1 1 0 1 1 0 1 1 0 0 0 1 1 1 0 0 0 0 1 1 0 1 1 1 0\n",
            " 1 1 1 1 1 1 1 0 0 1 0 1 1 1 1 1 1 1 0 0 1 0 1 1 0 0 1 1 0 0 1 1 1 0 1 1 0\n",
            " 0 1 1 0 1 0 1 1 1 0 0 1 1 1 1 1 0 0 1 1 1 1 1 1 1 1 1 1 1 1 0 0 1 1 1 1 0\n",
            " 1 0 0 0 1 1 1 0 1 1 1 1 0 1]\n",
            "[1 1 0 1 1 0 1 0 1 0 1 0 1 1 0 1 1 1 0 1 0 1 0 1 1 1 0 1 1 1 0 1 1 1 1 1 0\n",
            " 0 1 0 1 1 1 0 0 1 0 1 1 0 1 1 0 1 0 1 1 1 1 1]\n",
            "236\n",
            "60\n"
          ]
        }
      ],
      "source": [
        "print(ori_train_label)\n",
        "print(ori_test_label)\n",
        "print(len(ori_train_label))\n",
        "print(len(ori_test_label))"
      ]
    },
    {
      "cell_type": "code",
      "execution_count": null,
      "id": "pQeGM7Y7qAL_",
      "metadata": {
        "colab": {
          "base_uri": "https://localhost:8080/"
        },
        "id": "pQeGM7Y7qAL_",
        "outputId": "754b44e3-a60a-421c-8f2b-d3a4e2a94a59"
      },
      "outputs": [
        {
          "name": "stdout",
          "output_type": "stream",
          "text": [
            "[[ -6.38237535 -11.35995716  19.17486902 ...  -0.82737942   4.99779637\n",
            "   -3.39393785]\n",
            " [-44.71030009  66.1781283  -29.50873412 ...  -1.66613     -2.57032231\n",
            "    1.88183932]\n",
            " [-64.08712389   0.88476295  78.47229414 ...   9.20526825  17.91741943\n",
            "    2.83117061]\n",
            " ...\n",
            " [-15.62859887  45.26851439 -18.92376604 ...   1.9443449    5.36062083\n",
            "    3.8029235 ]\n",
            " [ -9.11488105 -32.44069513   0.50541841 ...   0.92788859  -0.51051386\n",
            "    0.46887787]\n",
            " [  3.90135004 -19.07226165  -0.21268797 ...  -2.6375417   -1.50589416\n",
            "    1.51058645]]\n"
          ]
        },
        {
          "data": {
            "text/plain": [
              "(236, 50)"
            ]
          },
          "execution_count": 67,
          "metadata": {},
          "output_type": "execute_result"
        }
      ],
      "source": [
        "# Check train and test data splitted from df_scale_pca_ori\n",
        "\n",
        "print(ori_train)\n",
        "ori_train.shape"
      ]
    },
    {
      "cell_type": "markdown",
      "id": "49947245",
      "metadata": {
        "id": "49947245"
      },
      "source": [
        "# Model Building\n",
        "\n",
        "We need care about the things below:\n",
        "\n",
        "\n",
        "1.   Fit the ori_train data with ori_train_label to build each model\n",
        "2.   Predict df_scale_pca_test (save the predicted labels into ypred variable)\n",
        "3.   compare ypred and y to create confusion matrix and model parameter scores\n",
        "\n"
      ]
    },
    {
      "cell_type": "markdown",
      "id": "4eb0d7b5",
      "metadata": {
        "id": "4eb0d7b5"
      },
      "source": [
        "### Logistic Regression"
      ]
    },
    {
      "cell_type": "code",
      "execution_count": null,
      "id": "b9053e6b",
      "metadata": {
        "id": "b9053e6b"
      },
      "outputs": [],
      "source": [
        "####importing Logistic Regression model####\n",
        "from sklearn.linear_model import LogisticRegression"
      ]
    },
    {
      "cell_type": "code",
      "execution_count": null,
      "id": "8264ca9e",
      "metadata": {
        "id": "8264ca9e"
      },
      "outputs": [],
      "source": [
        "####running Logistic Regression model####\n",
        "log_model= LogisticRegression(random_state = 0)"
      ]
    },
    {
      "cell_type": "code",
      "execution_count": null,
      "id": "524c0ee8",
      "metadata": {
        "colab": {
          "base_uri": "https://localhost:8080/",
          "height": 213
        },
        "id": "524c0ee8",
        "outputId": "5201bec1-db25-4021-be42-3562bc95507a"
      },
      "outputs": [
        {
          "name": "stderr",
          "output_type": "stream",
          "text": [
            "/usr/local/lib/python3.10/dist-packages/sklearn/linear_model/_logistic.py:458: ConvergenceWarning: lbfgs failed to converge (status=1):\n",
            "STOP: TOTAL NO. of ITERATIONS REACHED LIMIT.\n",
            "\n",
            "Increase the number of iterations (max_iter) or scale the data as shown in:\n",
            "    https://scikit-learn.org/stable/modules/preprocessing.html\n",
            "Please also refer to the documentation for alternative solver options:\n",
            "    https://scikit-learn.org/stable/modules/linear_model.html#logistic-regression\n",
            "  n_iter_i = _check_optimize_result(\n"
          ]
        },
        {
          "data": {
            "text/html": [
              "<style>#sk-container-id-3 {color: black;background-color: white;}#sk-container-id-3 pre{padding: 0;}#sk-container-id-3 div.sk-toggleable {background-color: white;}#sk-container-id-3 label.sk-toggleable__label {cursor: pointer;display: block;width: 100%;margin-bottom: 0;padding: 0.3em;box-sizing: border-box;text-align: center;}#sk-container-id-3 label.sk-toggleable__label-arrow:before {content: \"▸\";float: left;margin-right: 0.25em;color: #696969;}#sk-container-id-3 label.sk-toggleable__label-arrow:hover:before {color: black;}#sk-container-id-3 div.sk-estimator:hover label.sk-toggleable__label-arrow:before {color: black;}#sk-container-id-3 div.sk-toggleable__content {max-height: 0;max-width: 0;overflow: hidden;text-align: left;background-color: #f0f8ff;}#sk-container-id-3 div.sk-toggleable__content pre {margin: 0.2em;color: black;border-radius: 0.25em;background-color: #f0f8ff;}#sk-container-id-3 input.sk-toggleable__control:checked~div.sk-toggleable__content {max-height: 200px;max-width: 100%;overflow: auto;}#sk-container-id-3 input.sk-toggleable__control:checked~label.sk-toggleable__label-arrow:before {content: \"▾\";}#sk-container-id-3 div.sk-estimator input.sk-toggleable__control:checked~label.sk-toggleable__label {background-color: #d4ebff;}#sk-container-id-3 div.sk-label input.sk-toggleable__control:checked~label.sk-toggleable__label {background-color: #d4ebff;}#sk-container-id-3 input.sk-hidden--visually {border: 0;clip: rect(1px 1px 1px 1px);clip: rect(1px, 1px, 1px, 1px);height: 1px;margin: -1px;overflow: hidden;padding: 0;position: absolute;width: 1px;}#sk-container-id-3 div.sk-estimator {font-family: monospace;background-color: #f0f8ff;border: 1px dotted black;border-radius: 0.25em;box-sizing: border-box;margin-bottom: 0.5em;}#sk-container-id-3 div.sk-estimator:hover {background-color: #d4ebff;}#sk-container-id-3 div.sk-parallel-item::after {content: \"\";width: 100%;border-bottom: 1px solid gray;flex-grow: 1;}#sk-container-id-3 div.sk-label:hover label.sk-toggleable__label {background-color: #d4ebff;}#sk-container-id-3 div.sk-serial::before {content: \"\";position: absolute;border-left: 1px solid gray;box-sizing: border-box;top: 0;bottom: 0;left: 50%;z-index: 0;}#sk-container-id-3 div.sk-serial {display: flex;flex-direction: column;align-items: center;background-color: white;padding-right: 0.2em;padding-left: 0.2em;position: relative;}#sk-container-id-3 div.sk-item {position: relative;z-index: 1;}#sk-container-id-3 div.sk-parallel {display: flex;align-items: stretch;justify-content: center;background-color: white;position: relative;}#sk-container-id-3 div.sk-item::before, #sk-container-id-3 div.sk-parallel-item::before {content: \"\";position: absolute;border-left: 1px solid gray;box-sizing: border-box;top: 0;bottom: 0;left: 50%;z-index: -1;}#sk-container-id-3 div.sk-parallel-item {display: flex;flex-direction: column;z-index: 1;position: relative;background-color: white;}#sk-container-id-3 div.sk-parallel-item:first-child::after {align-self: flex-end;width: 50%;}#sk-container-id-3 div.sk-parallel-item:last-child::after {align-self: flex-start;width: 50%;}#sk-container-id-3 div.sk-parallel-item:only-child::after {width: 0;}#sk-container-id-3 div.sk-dashed-wrapped {border: 1px dashed gray;margin: 0 0.4em 0.5em 0.4em;box-sizing: border-box;padding-bottom: 0.4em;background-color: white;}#sk-container-id-3 div.sk-label label {font-family: monospace;font-weight: bold;display: inline-block;line-height: 1.2em;}#sk-container-id-3 div.sk-label-container {text-align: center;}#sk-container-id-3 div.sk-container {/* jupyter's `normalize.less` sets `[hidden] { display: none; }` but bootstrap.min.css set `[hidden] { display: none !important; }` so we also need the `!important` here to be able to override the default hidden behavior on the sphinx rendered scikit-learn.org. See: https://github.com/scikit-learn/scikit-learn/issues/21755 */display: inline-block !important;position: relative;}#sk-container-id-3 div.sk-text-repr-fallback {display: none;}</style><div id=\"sk-container-id-3\" class=\"sk-top-container\"><div class=\"sk-text-repr-fallback\"><pre>LogisticRegression(random_state=0)</pre><b>In a Jupyter environment, please rerun this cell to show the HTML representation or trust the notebook. <br />On GitHub, the HTML representation is unable to render, please try loading this page with nbviewer.org.</b></div><div class=\"sk-container\" hidden><div class=\"sk-item\"><div class=\"sk-estimator sk-toggleable\"><input class=\"sk-toggleable__control sk-hidden--visually\" id=\"sk-estimator-id-3\" type=\"checkbox\" checked><label for=\"sk-estimator-id-3\" class=\"sk-toggleable__label sk-toggleable__label-arrow\">LogisticRegression</label><div class=\"sk-toggleable__content\"><pre>LogisticRegression(random_state=0)</pre></div></div></div></div></div>"
            ],
            "text/plain": [
              "LogisticRegression(random_state=0)"
            ]
          },
          "execution_count": 70,
          "metadata": {},
          "output_type": "execute_result"
        }
      ],
      "source": [
        "###fitting Logistic Regression model####\n",
        "log_model.fit(ori_train,ori_train_label)"
      ]
    },
    {
      "cell_type": "code",
      "execution_count": null,
      "id": "e14bea11",
      "metadata": {
        "id": "e14bea11"
      },
      "outputs": [],
      "source": [
        "ypred = log_model.predict(df_scale_pca_test)"
      ]
    },
    {
      "cell_type": "code",
      "execution_count": null,
      "id": "01ae0383",
      "metadata": {
        "id": "01ae0383"
      },
      "outputs": [],
      "source": [
        "####importing confusion matrix####\n",
        "from sklearn.metrics import confusion_matrix"
      ]
    },
    {
      "cell_type": "code",
      "execution_count": null,
      "id": "6aed501b",
      "metadata": {
        "colab": {
          "base_uri": "https://localhost:8080/"
        },
        "id": "6aed501b",
        "outputId": "327441d7-a638-47b8-a710-cac53ca792c8"
      },
      "outputs": [
        {
          "data": {
            "text/plain": [
              "array([[ 43,  96],\n",
              "       [ 44, 102]])"
            ]
          },
          "execution_count": 73,
          "metadata": {},
          "output_type": "execute_result"
        }
      ],
      "source": [
        "####creating confusion matrix####\n",
        "confusion_matrix(ypred,y)"
      ]
    },
    {
      "cell_type": "code",
      "execution_count": null,
      "id": "be67cd0d",
      "metadata": {
        "colab": {
          "base_uri": "https://localhost:8080/",
          "height": 430
        },
        "id": "be67cd0d",
        "outputId": "4a1ad289-fc93-4c71-b112-96c98ec45604"
      },
      "outputs": [
        {
          "data": {
            "image/png": "[encoded data removed]",
            "text/plain": [
              "<Figure size 640x480 with 2 Axes>"
            ]
          },
          "metadata": {},
          "output_type": "display_data"
        }
      ],
      "source": [
        "####plotting confusion matrix####\n",
        "from sklearn.metrics import confusion_matrix\n",
        "import matplotlib.pyplot as plt\n",
        "import seaborn as sns\n",
        "import numpy as np\n",
        "\n",
        "cf_matrix =confusion_matrix(ypred,y)\n",
        "group_names = [\"True Negative\",\"False Positive\",\"False Negative\",\"True Positive\"]\n",
        "\n",
        "group_counts = [\"{0:0.0f}\".format(value) for value in\n",
        "                cf_matrix.flatten()]\n",
        "\n",
        "group_percentages = [\"{0:.2%}\".format(value) for value in\n",
        "                     cf_matrix.flatten()/np.sum(cf_matrix)]\n",
        "\n",
        "labels = [f\"{v1}\\n{v2}\\n{v3}\" for v1, v2, v3 in\n",
        "          zip(group_names,group_counts,group_percentages)]\n",
        "\n",
        "labels = np.asarray(labels).reshape(2,2)\n",
        "\n",
        "sns.heatmap(cf_matrix, annot=labels, fmt='', cmap='Blues')\n",
        "plt.savefig('confusion_matrix_regression.pdf', format='pdf', dpi=1200)"
      ]
    },
    {
      "cell_type": "code",
      "execution_count": null,
      "id": "ad55b8ca",
      "metadata": {
        "colab": {
          "base_uri": "https://localhost:8080/"
        },
        "id": "ad55b8ca",
        "outputId": "909f860f-6423-4eea-ea6b-bc196f4b6b11"
      },
      "outputs": [
        {
          "name": "stdout",
          "output_type": "stream",
          "text": [
            "0.5087719298245614\n"
          ]
        }
      ],
      "source": [
        "####accuracy score####\n",
        "import sklearn.metrics\n",
        "acc = sklearn.metrics.accuracy_score(ypred,y)\n",
        "print(acc)"
      ]
    },
    {
      "cell_type": "code",
      "execution_count": null,
      "id": "3f9a2d8e",
      "metadata": {
        "colab": {
          "base_uri": "https://localhost:8080/"
        },
        "id": "3f9a2d8e",
        "outputId": "b494d943-ada2-4c86-ad6c-fd5ce1ad0d4c"
      },
      "outputs": [
        {
          "name": "stdout",
          "output_type": "stream",
          "text": [
            "0.5039913274859564\n"
          ]
        }
      ],
      "source": [
        "####roc_auc_score####\n",
        "auc = sklearn.metrics.roc_auc_score(ypred,y)\n",
        "print(auc)"
      ]
    },
    {
      "cell_type": "code",
      "execution_count": null,
      "id": "5f6a288c",
      "metadata": {
        "colab": {
          "base_uri": "https://localhost:8080/"
        },
        "id": "5f6a288c",
        "outputId": "aa73482e-dd81-4d98-9559-ab9ec45aa4a0"
      },
      "outputs": [
        {
          "name": "stdout",
          "output_type": "stream",
          "text": [
            "F1-score: 0.5930232558139534\n"
          ]
        }
      ],
      "source": [
        "####f1 score####\n",
        "from sklearn.metrics import f1_score\n",
        "f1 = f1_score(ypred,y)\n",
        "print('F1-score:', f1)"
      ]
    },
    {
      "cell_type": "code",
      "execution_count": null,
      "id": "4d5bf5cd",
      "metadata": {
        "colab": {
          "base_uri": "https://localhost:8080/"
        },
        "id": "4d5bf5cd",
        "outputId": "27711949-feab-4fbc-9525-3ec91e01820a"
      },
      "outputs": [
        {
          "name": "stdout",
          "output_type": "stream",
          "text": [
            "Specificity: 0.30935251798561153\n"
          ]
        }
      ],
      "source": [
        "####specificity####\n",
        "from sklearn.metrics import confusion_matrix\n",
        "tn, fp, fn, tp = confusion_matrix(ypred,y).ravel()\n",
        "specificity = tn / (tn + fp)\n",
        "print('Specificity:', specificity)"
      ]
    },
    {
      "cell_type": "code",
      "execution_count": null,
      "id": "6ea52491",
      "metadata": {
        "colab": {
          "base_uri": "https://localhost:8080/"
        },
        "id": "6ea52491",
        "outputId": "5839c138-0bab-46ce-b542-424253990480"
      },
      "outputs": [
        {
          "name": "stdout",
          "output_type": "stream",
          "text": [
            "Precision: 0.5151515151515151\n"
          ]
        }
      ],
      "source": [
        "####precision####\n",
        "from sklearn.metrics import precision_score\n",
        "precision = precision_score(ypred,y)\n",
        "print('Precision:', precision)"
      ]
    },
    {
      "cell_type": "code",
      "execution_count": null,
      "id": "62e685d5",
      "metadata": {
        "colab": {
          "base_uri": "https://localhost:8080/"
        },
        "id": "62e685d5",
        "outputId": "4ddcd905-93f5-44c2-b59c-62f04457e456"
      },
      "outputs": [
        {
          "name": "stdout",
          "output_type": "stream",
          "text": [
            "Recall: 0.6986301369863014\n"
          ]
        }
      ],
      "source": [
        "####recall####\n",
        "from sklearn.metrics import recall_score\n",
        "recall = recall_score(ypred,y)\n",
        "print('Recall:', recall)"
      ]
    },
    {
      "cell_type": "code",
      "execution_count": null,
      "id": "e974bd47",
      "metadata": {
        "colab": {
          "base_uri": "https://localhost:8080/",
          "height": 472
        },
        "id": "e974bd47",
        "outputId": "5cab8376-3f0a-446d-fb9d-09bde8ed16d5"
      },
      "outputs": [
        {
          "data": {
            "image/png": "[encoded data removed]",
            "text/plain": [
              "<Figure size 640x480 with 1 Axes>"
            ]
          },
          "metadata": {},
          "output_type": "display_data"
        }
      ],
      "source": [
        "####creating roc curve####\n",
        "# import scikitplot as skplt\n",
        "from sklearn.metrics import roc_curve, roc_auc_score\n",
        "import matplotlib.pyplot as plt\n",
        "\n",
        "# Assuming you have already defined your true labels and predicted scores\n",
        "fpr, tpr, thresholds = roc_curve(ypred,y)\n",
        "\n",
        "# Plot the ROC curve\n",
        "plt.plot(fpr, tpr, label='ROC Curve')\n",
        "plt.plot([0, 1], [0, 1], 'k--', label='Random Guess')\n",
        "plt.xlabel('False Positive Rate')\n",
        "plt.ylabel('True Positive Rate')\n",
        "plt.title('Receiver Operating Characteristic (ROC) Curve')\n",
        "\n",
        "# Calculate the AUC score\n",
        "auc_score = roc_auc_score(ypred,y)\n",
        "\n",
        "# Add the AUC score to the plot\n",
        "plt.text(0.6, 0.2, f'AUC = {auc_score:.3f}', fontsize=12)\n",
        "\n",
        "plt.legend()\n",
        "\n",
        "plt.savefig('roc_curve_regression.svg',dpi=1200)\n",
        "plt.show()"
      ]
    },
    {
      "cell_type": "code",
      "execution_count": null,
      "id": "bBBhsNIttwk9",
      "metadata": {
        "colab": {
          "base_uri": "https://localhost:8080/"
        },
        "id": "bBBhsNIttwk9",
        "outputId": "075a8f3e-106d-4b15-fabc-fcb5b7b1970f"
      },
      "outputs": [
        {
          "name": "stdout",
          "output_type": "stream",
          "text": [
            "For Logistic Regression:\n",
            "\n",
            "Accuracy:  0.5087719298245614\n",
            "AUC:  0.5039913274859564\n",
            "F1-score:  0.5930232558139534\n",
            "Specificity:  0.30935251798561153\n",
            "Precision:  0.5151515151515151\n",
            "Recall:  0.6986301369863014\n",
            "[0.50877193 0.50399133 0.59302326 0.30935252 0.51515152 0.69863014]\n"
          ]
        }
      ],
      "source": [
        "# print all stats\n",
        "print(\"For Logistic Regression:\\n\")\n",
        "print(\"Accuracy: \",acc)\n",
        "print(\"AUC: \",auc)\n",
        "print(\"F1-score: \",f1)\n",
        "print(\"Specificity: \",specificity)\n",
        "print(\"Precision: \",precision)\n",
        "print(\"Recall: \",recall)\n",
        "\n",
        "LR_stats=np.array([acc,auc,f1,specificity,precision,recall])\n",
        "print(LR_stats)"
      ]
    },
    {
      "cell_type": "markdown",
      "id": "b0064a51",
      "metadata": {
        "id": "b0064a51"
      },
      "source": [
        "### Random Forest"
      ]
    },
    {
      "cell_type": "code",
      "execution_count": null,
      "id": "f9ea146b",
      "metadata": {
        "id": "f9ea146b"
      },
      "outputs": [],
      "source": [
        "#####importing Random Forest model####\n",
        "from sklearn.ensemble import RandomForestClassifier"
      ]
    },
    {
      "cell_type": "code",
      "execution_count": null,
      "id": "1cb35f9f",
      "metadata": {
        "id": "1cb35f9f"
      },
      "outputs": [],
      "source": [
        "###running random Forest model###\n",
        "clf = RandomForestClassifier(n_estimators = 20, ccp_alpha=0.01, random_state = 0)"
      ]
    },
    {
      "cell_type": "code",
      "execution_count": null,
      "id": "1b6fe12e",
      "metadata": {
        "colab": {
          "base_uri": "https://localhost:8080/",
          "height": 74
        },
        "id": "1b6fe12e",
        "outputId": "8d643121-6ec2-4e1a-e64a-a3a4f45365c1"
      },
      "outputs": [
        {
          "data": {
            "text/html": [
              "<style>#sk-container-id-4 {color: black;background-color: white;}#sk-container-id-4 pre{padding: 0;}#sk-container-id-4 div.sk-toggleable {background-color: white;}#sk-container-id-4 label.sk-toggleable__label {cursor: pointer;display: block;width: 100%;margin-bottom: 0;padding: 0.3em;box-sizing: border-box;text-align: center;}#sk-container-id-4 label.sk-toggleable__label-arrow:before {content: \"▸\";float: left;margin-right: 0.25em;color: #696969;}#sk-container-id-4 label.sk-toggleable__label-arrow:hover:before {color: black;}#sk-container-id-4 div.sk-estimator:hover label.sk-toggleable__label-arrow:before {color: black;}#sk-container-id-4 div.sk-toggleable__content {max-height: 0;max-width: 0;overflow: hidden;text-align: left;background-color: #f0f8ff;}#sk-container-id-4 div.sk-toggleable__content pre {margin: 0.2em;color: black;border-radius: 0.25em;background-color: #f0f8ff;}#sk-container-id-4 input.sk-toggleable__control:checked~div.sk-toggleable__content {max-height: 200px;max-width: 100%;overflow: auto;}#sk-container-id-4 input.sk-toggleable__control:checked~label.sk-toggleable__label-arrow:before {content: \"▾\";}#sk-container-id-4 div.sk-estimator input.sk-toggleable__control:checked~label.sk-toggleable__label {background-color: #d4ebff;}#sk-container-id-4 div.sk-label input.sk-toggleable__control:checked~label.sk-toggleable__label {background-color: #d4ebff;}#sk-container-id-4 input.sk-hidden--visually {border: 0;clip: rect(1px 1px 1px 1px);clip: rect(1px, 1px, 1px, 1px);height: 1px;margin: -1px;overflow: hidden;padding: 0;position: absolute;width: 1px;}#sk-container-id-4 div.sk-estimator {font-family: monospace;background-color: #f0f8ff;border: 1px dotted black;border-radius: 0.25em;box-sizing: border-box;margin-bottom: 0.5em;}#sk-container-id-4 div.sk-estimator:hover {background-color: #d4ebff;}#sk-container-id-4 div.sk-parallel-item::after {content: \"\";width: 100%;border-bottom: 1px solid gray;flex-grow: 1;}#sk-container-id-4 div.sk-label:hover label.sk-toggleable__label {background-color: #d4ebff;}#sk-container-id-4 div.sk-serial::before {content: \"\";position: absolute;border-left: 1px solid gray;box-sizing: border-box;top: 0;bottom: 0;left: 50%;z-index: 0;}#sk-container-id-4 div.sk-serial {display: flex;flex-direction: column;align-items: center;background-color: white;padding-right: 0.2em;padding-left: 0.2em;position: relative;}#sk-container-id-4 div.sk-item {position: relative;z-index: 1;}#sk-container-id-4 div.sk-parallel {display: flex;align-items: stretch;justify-content: center;background-color: white;position: relative;}#sk-container-id-4 div.sk-item::before, #sk-container-id-4 div.sk-parallel-item::before {content: \"\";position: absolute;border-left: 1px solid gray;box-sizing: border-box;top: 0;bottom: 0;left: 50%;z-index: -1;}#sk-container-id-4 div.sk-parallel-item {display: flex;flex-direction: column;z-index: 1;position: relative;background-color: white;}#sk-container-id-4 div.sk-parallel-item:first-child::after {align-self: flex-end;width: 50%;}#sk-container-id-4 div.sk-parallel-item:last-child::after {align-self: flex-start;width: 50%;}#sk-container-id-4 div.sk-parallel-item:only-child::after {width: 0;}#sk-container-id-4 div.sk-dashed-wrapped {border: 1px dashed gray;margin: 0 0.4em 0.5em 0.4em;box-sizing: border-box;padding-bottom: 0.4em;background-color: white;}#sk-container-id-4 div.sk-label label {font-family: monospace;font-weight: bold;display: inline-block;line-height: 1.2em;}#sk-container-id-4 div.sk-label-container {text-align: center;}#sk-container-id-4 div.sk-container {/* jupyter's `normalize.less` sets `[hidden] { display: none; }` but bootstrap.min.css set `[hidden] { display: none !important; }` so we also need the `!important` here to be able to override the default hidden behavior on the sphinx rendered scikit-learn.org. See: https://github.com/scikit-learn/scikit-learn/issues/21755 */display: inline-block !important;position: relative;}#sk-container-id-4 div.sk-text-repr-fallback {display: none;}</style><div id=\"sk-container-id-4\" class=\"sk-top-container\"><div class=\"sk-text-repr-fallback\"><pre>RandomForestClassifier(ccp_alpha=0.01, n_estimators=20, random_state=0)</pre><b>In a Jupyter environment, please rerun this cell to show the HTML representation or trust the notebook. <br />On GitHub, the HTML representation is unable to render, please try loading this page with nbviewer.org.</b></div><div class=\"sk-container\" hidden><div class=\"sk-item\"><div class=\"sk-estimator sk-toggleable\"><input class=\"sk-toggleable__control sk-hidden--visually\" id=\"sk-estimator-id-4\" type=\"checkbox\" checked><label for=\"sk-estimator-id-4\" class=\"sk-toggleable__label sk-toggleable__label-arrow\">RandomForestClassifier</label><div class=\"sk-toggleable__content\"><pre>RandomForestClassifier(ccp_alpha=0.01, n_estimators=20, random_state=0)</pre></div></div></div></div></div>"
            ],
            "text/plain": [
              "RandomForestClassifier(ccp_alpha=0.01, n_estimators=20, random_state=0)"
            ]
          },
          "execution_count": 85,
          "metadata": {},
          "output_type": "execute_result"
        }
      ],
      "source": [
        "###fitting Random Forest model###\n",
        "clf.fit(ori_train,ori_train_label)"
      ]
    },
    {
      "cell_type": "code",
      "execution_count": null,
      "id": "752bf2c0",
      "metadata": {
        "id": "752bf2c0"
      },
      "outputs": [],
      "source": [
        "ypred_RF = clf.predict(df_scale_pca_test)"
      ]
    },
    {
      "cell_type": "code",
      "execution_count": null,
      "id": "445bbb9a",
      "metadata": {
        "colab": {
          "base_uri": "https://localhost:8080/"
        },
        "id": "445bbb9a",
        "outputId": "644e541c-0d10-4f4d-f755-a639e0c23bf6"
      },
      "outputs": [
        {
          "data": {
            "text/plain": [
              "array([[  7,  12],\n",
              "       [ 80, 186]])"
            ]
          },
          "execution_count": 87,
          "metadata": {},
          "output_type": "execute_result"
        }
      ],
      "source": [
        "####creating confusion matrix####\n",
        "confusion_matrix(ypred_RF,y)"
      ]
    },
    {
      "cell_type": "code",
      "execution_count": null,
      "id": "e623e4a8",
      "metadata": {
        "colab": {
          "base_uri": "https://localhost:8080/",
          "height": 430
        },
        "id": "e623e4a8",
        "outputId": "3c7c1a62-09c8-4ff2-8910-8d1df0a3e82f"
      },
      "outputs": [
        {
          "data": {
            "image/png": "[encoded data removed]",
            "text/plain": [
              "<Figure size 640x480 with 2 Axes>"
            ]
          },
          "metadata": {},
          "output_type": "display_data"
        }
      ],
      "source": [
        "####plotting confusion matrix####\n",
        "cf_matrix =confusion_matrix(ypred_RF,y)\n",
        "group_names = [\"True Negative\",\"False Positive\",\"False Negative\",\"True Positive\"]\n",
        "\n",
        "group_counts = [\"{0:0.0f}\".format(value) for value in\n",
        "                cf_matrix.flatten()]\n",
        "\n",
        "group_percentages = [\"{0:.2%}\".format(value) for value in\n",
        "                     cf_matrix.flatten()/np.sum(cf_matrix)]\n",
        "\n",
        "labels = [f\"{v1}\\n{v2}\\n{v3}\" for v1, v2, v3 in\n",
        "          zip(group_names,group_counts,group_percentages)]\n",
        "\n",
        "labels = np.asarray(labels).reshape(2,2)\n",
        "\n",
        "sns.heatmap(cf_matrix, annot=labels, fmt='', cmap='Blues')\n",
        "plt.savefig('confusion_matrix_random_forest.pdf', format='pdf', dpi=1200)"
      ]
    },
    {
      "cell_type": "code",
      "execution_count": null,
      "id": "76ea0396",
      "metadata": {
        "colab": {
          "base_uri": "https://localhost:8080/"
        },
        "id": "76ea0396",
        "outputId": "96b7c326-a5e3-4a7d-ce93-4ba06305b76d"
      },
      "outputs": [
        {
          "name": "stdout",
          "output_type": "stream",
          "text": [
            "0.6771929824561403\n"
          ]
        }
      ],
      "source": [
        "####accuracy score####\n",
        "import sklearn\n",
        "acc_RF = sklearn.metrics.accuracy_score(ypred_RF,y)\n",
        "print(acc_RF)"
      ]
    },
    {
      "cell_type": "code",
      "execution_count": null,
      "id": "b3478fa3",
      "metadata": {
        "colab": {
          "base_uri": "https://localhost:8080/"
        },
        "id": "b3478fa3",
        "outputId": "44f72814-3950-46a9-d61e-3f001bf1c3c7"
      },
      "outputs": [
        {
          "name": "stdout",
          "output_type": "stream",
          "text": [
            "0.5338345864661654\n"
          ]
        }
      ],
      "source": [
        "####roc_auc_score####\n",
        "import sklearn\n",
        "auc_RF = sklearn.metrics.roc_auc_score(ypred_RF,y)\n",
        "print(auc_RF)"
      ]
    },
    {
      "cell_type": "code",
      "execution_count": null,
      "id": "ef7b284b",
      "metadata": {
        "colab": {
          "base_uri": "https://localhost:8080/"
        },
        "id": "ef7b284b",
        "outputId": "dc15d0d3-c2b7-4f17-9591-7f8e8c87526b"
      },
      "outputs": [
        {
          "name": "stdout",
          "output_type": "stream",
          "text": [
            "F1-score: 0.8017241379310345\n"
          ]
        }
      ],
      "source": [
        "####f1 score####\n",
        "from sklearn.metrics import f1_score\n",
        "f1_RF = f1_score(ypred_RF,y)\n",
        "print('F1-score:', f1_RF)"
      ]
    },
    {
      "cell_type": "code",
      "execution_count": null,
      "id": "d8cb1cb9",
      "metadata": {
        "colab": {
          "base_uri": "https://localhost:8080/"
        },
        "id": "d8cb1cb9",
        "outputId": "78ed3f8b-175b-4e3a-859f-6aca167cd57c"
      },
      "outputs": [
        {
          "name": "stdout",
          "output_type": "stream",
          "text": [
            "Specificity: 0.3684210526315789\n"
          ]
        }
      ],
      "source": [
        "####specificity####\n",
        "from sklearn.metrics import confusion_matrix\n",
        "tn, fp, fn, tp = confusion_matrix(ypred_RF,y).ravel()\n",
        "specificity_RF = tn / (tn + fp)\n",
        "print('Specificity:', specificity_RF)"
      ]
    },
    {
      "cell_type": "code",
      "execution_count": null,
      "id": "594e6411",
      "metadata": {
        "colab": {
          "base_uri": "https://localhost:8080/"
        },
        "id": "594e6411",
        "outputId": "90773a84-6998-4c3a-d082-40e2c38c187d"
      },
      "outputs": [
        {
          "name": "stdout",
          "output_type": "stream",
          "text": [
            "Precision: 0.9393939393939394\n"
          ]
        }
      ],
      "source": [
        "####precision####\n",
        "from sklearn.metrics import precision_score\n",
        "precision_RF = precision_score(ypred_RF,y)\n",
        "print('Precision:', precision_RF)"
      ]
    },
    {
      "cell_type": "code",
      "execution_count": null,
      "id": "77f8639d",
      "metadata": {
        "colab": {
          "base_uri": "https://localhost:8080/"
        },
        "id": "77f8639d",
        "outputId": "44c57d4b-b575-40a1-e99a-f5849273a8d2"
      },
      "outputs": [
        {
          "name": "stdout",
          "output_type": "stream",
          "text": [
            "Recall: 0.6992481203007519\n"
          ]
        }
      ],
      "source": [
        "####recall####\n",
        "from sklearn.metrics import recall_score\n",
        "recall_RF = recall_score(ypred_RF,y)\n",
        "print('Recall:', recall_RF)"
      ]
    },
    {
      "cell_type": "code",
      "execution_count": null,
      "id": "c8c0e9fc",
      "metadata": {
        "colab": {
          "base_uri": "https://localhost:8080/",
          "height": 472
        },
        "id": "c8c0e9fc",
        "outputId": "b0cb3ae3-0b19-4010-b38e-039357e57890"
      },
      "outputs": [
        {
          "data": {
            "image/png": "[encoded data removed]",
            "text/plain": [
              "<Figure size 640x480 with 1 Axes>"
            ]
          },
          "metadata": {},
          "output_type": "display_data"
        }
      ],
      "source": [
        "####creating roc curve####\n",
        "from sklearn.metrics import roc_curve, roc_auc_score\n",
        "import matplotlib.pyplot as plt\n",
        "\n",
        "# Assuming you have already defined your true labels and predicted scores\n",
        "fpr, tpr, thresholds = roc_curve(ypred_RF,y)\n",
        "\n",
        "# Plot the ROC curve\n",
        "plt.plot(fpr, tpr, label='ROC Curve')\n",
        "plt.plot([0, 1], [0, 1], 'k--', label='Random Guess')\n",
        "plt.xlabel('False Positive Rate')\n",
        "plt.ylabel('True Positive Rate')\n",
        "plt.title('Receiver Operating Characteristic (ROC) Curve')\n",
        "\n",
        "# Calculate the AUC score\n",
        "auc_score = roc_auc_score(ypred,y)\n",
        "\n",
        "# Add the AUC score to the plot\n",
        "plt.text(0.6, 0.2, f'AUC = {auc_score:.3f}', fontsize=12)\n",
        "\n",
        "plt.legend()\n",
        "plt.savefig('roc_curve_random_forest.svg',dpi=1200)\n",
        "plt.show()"
      ]
    },
    {
      "cell_type": "code",
      "execution_count": null,
      "id": "btgkJoE0ytmW",
      "metadata": {
        "colab": {
          "base_uri": "https://localhost:8080/"
        },
        "id": "btgkJoE0ytmW",
        "outputId": "243025b5-745e-40b8-a715-fa62a55bfc98"
      },
      "outputs": [
        {
          "name": "stdout",
          "output_type": "stream",
          "text": [
            "For Random Forest:\n",
            "\n",
            "Accuracy:  0.6771929824561403\n",
            "AUC:  0.5338345864661654\n",
            "F1-score:  0.8017241379310345\n",
            "Specificity:  0.3684210526315789\n",
            "Precision:  0.9393939393939394\n",
            "Recall:  0.6992481203007519\n",
            "[0.67719298 0.53383459 0.80172414 0.36842105 0.93939394 0.69924812]\n"
          ]
        }
      ],
      "source": [
        "# print all stats\n",
        "print(\"For Random Forest:\\n\")\n",
        "print(\"Accuracy: \",acc_RF)\n",
        "print(\"AUC: \",auc_RF)\n",
        "print(\"F1-score: \",f1_RF)\n",
        "print(\"Specificity: \",specificity_RF)\n",
        "print(\"Precision: \",precision_RF)\n",
        "print(\"Recall: \",recall_RF)\n",
        "\n",
        "RF_stats=np.array([acc_RF,auc_RF,f1_RF,specificity_RF,precision_RF,recall_RF])\n",
        "print(RF_stats)"
      ]
    },
    {
      "cell_type": "markdown",
      "id": "4daa2853",
      "metadata": {
        "id": "4daa2853"
      },
      "source": [
        "### SVM"
      ]
    },
    {
      "cell_type": "code",
      "execution_count": null,
      "id": "88ab2dc8",
      "metadata": {
        "id": "88ab2dc8"
      },
      "outputs": [],
      "source": [
        "####importing SVM model####\n",
        "from sklearn import datasets\n",
        "from sklearn import svm"
      ]
    },
    {
      "cell_type": "code",
      "execution_count": null,
      "id": "458314f3",
      "metadata": {
        "id": "458314f3"
      },
      "outputs": [],
      "source": [
        "###running SVM model###\n",
        "svm = svm.SVC(kernel='linear', random_state = 0)"
      ]
    },
    {
      "cell_type": "code",
      "execution_count": null,
      "id": "718a5f3a",
      "metadata": {
        "colab": {
          "base_uri": "https://localhost:8080/",
          "height": 74
        },
        "id": "718a5f3a",
        "outputId": "ca368e8d-e93a-43b3-f458-a87074233671"
      },
      "outputs": [
        {
          "data": {
            "text/html": [
              "<style>#sk-container-id-5 {color: black;background-color: white;}#sk-container-id-5 pre{padding: 0;}#sk-container-id-5 div.sk-toggleable {background-color: white;}#sk-container-id-5 label.sk-toggleable__label {cursor: pointer;display: block;width: 100%;margin-bottom: 0;padding: 0.3em;box-sizing: border-box;text-align: center;}#sk-container-id-5 label.sk-toggleable__label-arrow:before {content: \"▸\";float: left;margin-right: 0.25em;color: #696969;}#sk-container-id-5 label.sk-toggleable__label-arrow:hover:before {color: black;}#sk-container-id-5 div.sk-estimator:hover label.sk-toggleable__label-arrow:before {color: black;}#sk-container-id-5 div.sk-toggleable__content {max-height: 0;max-width: 0;overflow: hidden;text-align: left;background-color: #f0f8ff;}#sk-container-id-5 div.sk-toggleable__content pre {margin: 0.2em;color: black;border-radius: 0.25em;background-color: #f0f8ff;}#sk-container-id-5 input.sk-toggleable__control:checked~div.sk-toggleable__content {max-height: 200px;max-width: 100%;overflow: auto;}#sk-container-id-5 input.sk-toggleable__control:checked~label.sk-toggleable__label-arrow:before {content: \"▾\";}#sk-container-id-5 div.sk-estimator input.sk-toggleable__control:checked~label.sk-toggleable__label {background-color: #d4ebff;}#sk-container-id-5 div.sk-label input.sk-toggleable__control:checked~label.sk-toggleable__label {background-color: #d4ebff;}#sk-container-id-5 input.sk-hidden--visually {border: 0;clip: rect(1px 1px 1px 1px);clip: rect(1px, 1px, 1px, 1px);height: 1px;margin: -1px;overflow: hidden;padding: 0;position: absolute;width: 1px;}#sk-container-id-5 div.sk-estimator {font-family: monospace;background-color: #f0f8ff;border: 1px dotted black;border-radius: 0.25em;box-sizing: border-box;margin-bottom: 0.5em;}#sk-container-id-5 div.sk-estimator:hover {background-color: #d4ebff;}#sk-container-id-5 div.sk-parallel-item::after {content: \"\";width: 100%;border-bottom: 1px solid gray;flex-grow: 1;}#sk-container-id-5 div.sk-label:hover label.sk-toggleable__label {background-color: #d4ebff;}#sk-container-id-5 div.sk-serial::before {content: \"\";position: absolute;border-left: 1px solid gray;box-sizing: border-box;top: 0;bottom: 0;left: 50%;z-index: 0;}#sk-container-id-5 div.sk-serial {display: flex;flex-direction: column;align-items: center;background-color: white;padding-right: 0.2em;padding-left: 0.2em;position: relative;}#sk-container-id-5 div.sk-item {position: relative;z-index: 1;}#sk-container-id-5 div.sk-parallel {display: flex;align-items: stretch;justify-content: center;background-color: white;position: relative;}#sk-container-id-5 div.sk-item::before, #sk-container-id-5 div.sk-parallel-item::before {content: \"\";position: absolute;border-left: 1px solid gray;box-sizing: border-box;top: 0;bottom: 0;left: 50%;z-index: -1;}#sk-container-id-5 div.sk-parallel-item {display: flex;flex-direction: column;z-index: 1;position: relative;background-color: white;}#sk-container-id-5 div.sk-parallel-item:first-child::after {align-self: flex-end;width: 50%;}#sk-container-id-5 div.sk-parallel-item:last-child::after {align-self: flex-start;width: 50%;}#sk-container-id-5 div.sk-parallel-item:only-child::after {width: 0;}#sk-container-id-5 div.sk-dashed-wrapped {border: 1px dashed gray;margin: 0 0.4em 0.5em 0.4em;box-sizing: border-box;padding-bottom: 0.4em;background-color: white;}#sk-container-id-5 div.sk-label label {font-family: monospace;font-weight: bold;display: inline-block;line-height: 1.2em;}#sk-container-id-5 div.sk-label-container {text-align: center;}#sk-container-id-5 div.sk-container {/* jupyter's `normalize.less` sets `[hidden] { display: none; }` but bootstrap.min.css set `[hidden] { display: none !important; }` so we also need the `!important` here to be able to override the default hidden behavior on the sphinx rendered scikit-learn.org. See: https://github.com/scikit-learn/scikit-learn/issues/21755 */display: inline-block !important;position: relative;}#sk-container-id-5 div.sk-text-repr-fallback {display: none;}</style><div id=\"sk-container-id-5\" class=\"sk-top-container\"><div class=\"sk-text-repr-fallback\"><pre>SVC(kernel=&#x27;linear&#x27;, random_state=0)</pre><b>In a Jupyter environment, please rerun this cell to show the HTML representation or trust the notebook. <br />On GitHub, the HTML representation is unable to render, please try loading this page with nbviewer.org.</b></div><div class=\"sk-container\" hidden><div class=\"sk-item\"><div class=\"sk-estimator sk-toggleable\"><input class=\"sk-toggleable__control sk-hidden--visually\" id=\"sk-estimator-id-5\" type=\"checkbox\" checked><label for=\"sk-estimator-id-5\" class=\"sk-toggleable__label sk-toggleable__label-arrow\">SVC</label><div class=\"sk-toggleable__content\"><pre>SVC(kernel=&#x27;linear&#x27;, random_state=0)</pre></div></div></div></div></div>"
            ],
            "text/plain": [
              "SVC(kernel='linear', random_state=0)"
            ]
          },
          "execution_count": 99,
          "metadata": {},
          "output_type": "execute_result"
        }
      ],
      "source": [
        "###fitting SVM Model###\n",
        "svm.fit(ori_train,ori_train_label)"
      ]
    },
    {
      "cell_type": "code",
      "execution_count": null,
      "id": "e68ad810",
      "metadata": {
        "id": "e68ad810"
      },
      "outputs": [],
      "source": [
        "ypred_SVM = svm.predict(df_scale_pca_test)"
      ]
    },
    {
      "cell_type": "code",
      "execution_count": null,
      "id": "313acdfa",
      "metadata": {
        "colab": {
          "base_uri": "https://localhost:8080/"
        },
        "id": "313acdfa",
        "outputId": "4129de5e-be2c-4b9a-88ba-fd87ece50c4c"
      },
      "outputs": [
        {
          "data": {
            "text/plain": [
              "array([[ 16,  50],\n",
              "       [ 71, 148]])"
            ]
          },
          "execution_count": 101,
          "metadata": {},
          "output_type": "execute_result"
        }
      ],
      "source": [
        "####creating confusion matrix####\n",
        "confusion_matrix(ypred_SVM,y)"
      ]
    },
    {
      "cell_type": "code",
      "execution_count": null,
      "id": "4ddf1876",
      "metadata": {
        "colab": {
          "base_uri": "https://localhost:8080/",
          "height": 430
        },
        "id": "4ddf1876",
        "outputId": "f2cfcacb-7d47-46ab-c056-ece2eae4c707"
      },
      "outputs": [
        {
          "data": {
            "image/png": "[encoded data removed]",
            "text/plain": [
              "<Figure size 640x480 with 2 Axes>"
            ]
          },
          "metadata": {},
          "output_type": "display_data"
        }
      ],
      "source": [
        "####plotting confusion matrix####\n",
        "cf_matrix =confusion_matrix(ypred_SVM,y)\n",
        "group_names = [\"True Negative\",\"False Positive\",\"False Negative\",\"True Positive\"]\n",
        "\n",
        "group_counts = [\"{0:0.0f}\".format(value) for value in\n",
        "                cf_matrix.flatten()]\n",
        "\n",
        "group_percentages = [\"{0:.2%}\".format(value) for value in\n",
        "                     cf_matrix.flatten()/np.sum(cf_matrix)]\n",
        "\n",
        "labels = [f\"{v1}\\n{v2}\\n{v3}\" for v1, v2, v3 in\n",
        "          zip(group_names,group_counts,group_percentages)]\n",
        "\n",
        "labels = np.asarray(labels).reshape(2,2)\n",
        "\n",
        "sns.heatmap(cf_matrix, annot=labels, fmt='', cmap='Blues')\n",
        "plt.savefig('confusion_matrix_svm.pdf', format='pdf', dpi=1200)"
      ]
    },
    {
      "cell_type": "code",
      "execution_count": null,
      "id": "8acdf225",
      "metadata": {
        "colab": {
          "base_uri": "https://localhost:8080/"
        },
        "id": "8acdf225",
        "outputId": "8f008a28-8b61-466f-818f-4d18d37748dd"
      },
      "outputs": [
        {
          "name": "stdout",
          "output_type": "stream",
          "text": [
            "0.5754385964912281\n"
          ]
        }
      ],
      "source": [
        "####accuracy score####\n",
        "acc_SVM = sklearn.metrics.accuracy_score(ypred_SVM,y)\n",
        "print(acc_SVM)"
      ]
    },
    {
      "cell_type": "code",
      "execution_count": null,
      "id": "10fe35ad",
      "metadata": {
        "colab": {
          "base_uri": "https://localhost:8080/"
        },
        "id": "10fe35ad",
        "outputId": "8a87402b-6ba2-4e45-af58-4d677b1f3645"
      },
      "outputs": [
        {
          "name": "stdout",
          "output_type": "stream",
          "text": [
            "0.45911166459111663\n"
          ]
        }
      ],
      "source": [
        "####roc_auc_score####\n",
        "auc_SVM = roc_auc_score(ypred_SVM,y)\n",
        "print(auc_SVM)"
      ]
    },
    {
      "cell_type": "code",
      "execution_count": null,
      "id": "bf024d94",
      "metadata": {
        "colab": {
          "base_uri": "https://localhost:8080/"
        },
        "id": "bf024d94",
        "outputId": "0b504969-83af-43fd-fe10-2602f8ad738e"
      },
      "outputs": [
        {
          "name": "stdout",
          "output_type": "stream",
          "text": [
            "F1-score: 0.7098321342925659\n"
          ]
        }
      ],
      "source": [
        "####f1 score####\n",
        "from sklearn.metrics import f1_score\n",
        "f1_SVM = f1_score(ypred_SVM,y)\n",
        "print('F1-score:', f1_SVM)"
      ]
    },
    {
      "cell_type": "code",
      "execution_count": null,
      "id": "46624de4",
      "metadata": {
        "colab": {
          "base_uri": "https://localhost:8080/"
        },
        "id": "46624de4",
        "outputId": "ea0d7a94-d47e-4d43-89d6-7caad9b97c0c"
      },
      "outputs": [
        {
          "name": "stdout",
          "output_type": "stream",
          "text": [
            "Specificity: 0.24242424242424243\n"
          ]
        }
      ],
      "source": [
        "####specificity####\n",
        "from sklearn.metrics import confusion_matrix\n",
        "tn, fp, fn, tp = confusion_matrix(ypred_SVM,y).ravel()\n",
        "specificity_SVM = tn / (tn + fp)\n",
        "print('Specificity:', specificity_SVM)"
      ]
    },
    {
      "cell_type": "code",
      "execution_count": null,
      "id": "71ad58ce",
      "metadata": {
        "colab": {
          "base_uri": "https://localhost:8080/"
        },
        "id": "71ad58ce",
        "outputId": "b1915122-1bce-4b49-9417-64646181b83a"
      },
      "outputs": [
        {
          "name": "stdout",
          "output_type": "stream",
          "text": [
            "Precision: 0.7474747474747475\n"
          ]
        }
      ],
      "source": [
        "####precision####\n",
        "from sklearn.metrics import precision_score\n",
        "precision_SVM = precision_score(ypred_SVM,y)\n",
        "print('Precision:', precision_SVM)"
      ]
    },
    {
      "cell_type": "code",
      "execution_count": null,
      "id": "0e7a61c2",
      "metadata": {
        "colab": {
          "base_uri": "https://localhost:8080/"
        },
        "id": "0e7a61c2",
        "outputId": "12357591-0dfe-4fc7-bd0d-1e49f71086a0"
      },
      "outputs": [
        {
          "name": "stdout",
          "output_type": "stream",
          "text": [
            "Recall: 0.6757990867579908\n"
          ]
        }
      ],
      "source": [
        "####recall####\n",
        "from sklearn.metrics import recall_score\n",
        "recall_SVM = recall_score(ypred_SVM,y)\n",
        "print('Recall:', recall_SVM)"
      ]
    },
    {
      "cell_type": "code",
      "execution_count": null,
      "id": "0ecc7fa4",
      "metadata": {
        "colab": {
          "base_uri": "https://localhost:8080/",
          "height": 472
        },
        "id": "0ecc7fa4",
        "outputId": "f8f137ab-108c-4f1a-cc81-89727235953d"
      },
      "outputs": [
        {
          "data": {
            "image/png": "[encoded data removed]",
            "text/plain": [
              "<Figure size 640x480 with 1 Axes>"
            ]
          },
          "metadata": {},
          "output_type": "display_data"
        }
      ],
      "source": [
        "####creating roc curve####\n",
        "from sklearn.metrics import roc_curve, roc_auc_score\n",
        "import matplotlib.pyplot as plt\n",
        "\n",
        "# Assuming you have already defined your true labels and predicted scores\n",
        "fpr, tpr, thresholds = roc_curve(ypred_SVM,y)\n",
        "\n",
        "# Plot the ROC curve\n",
        "plt.plot(fpr, tpr, label='ROC Curve')\n",
        "plt.plot([0, 1], [0, 1], 'k--', label='Random Guess')\n",
        "plt.xlabel('False Positive Rate')\n",
        "plt.ylabel('True Positive Rate')\n",
        "plt.title('Receiver Operating Characteristic (ROC) Curve')\n",
        "\n",
        "# Calculate the AUC score\n",
        "auc_score = roc_auc_score(ypred_SVM,y)\n",
        "\n",
        "# Add the AUC score to the plot\n",
        "plt.text(0.6, 0.2, f'AUC = {auc_score:.3f}', fontsize=12)\n",
        "\n",
        "plt.legend()\n",
        "plt.savefig('roc_curve_svm.svg',dpi=1200)\n",
        "plt.show()"
      ]
    },
    {
      "cell_type": "code",
      "execution_count": null,
      "id": "Q-1ofCm49tiM",
      "metadata": {
        "colab": {
          "base_uri": "https://localhost:8080/"
        },
        "id": "Q-1ofCm49tiM",
        "outputId": "9638ec9f-2cc5-47da-cee9-b88f86e53d7c"
      },
      "outputs": [
        {
          "name": "stdout",
          "output_type": "stream",
          "text": [
            "For SVM:\n",
            "\n",
            "Accuracy:  0.5754385964912281\n",
            "AUC:  0.45911166459111663\n",
            "F1-score:  0.7098321342925659\n",
            "Specificity:  0.24242424242424243\n",
            "Precision:  0.7474747474747475\n",
            "Recall:  0.6757990867579908\n",
            "[0.5754386  0.45911166 0.70983213 0.24242424 0.74747475 0.67579909]\n"
          ]
        }
      ],
      "source": [
        "# print all stats\n",
        "print(\"For SVM:\\n\")\n",
        "print(\"Accuracy: \",acc_SVM)\n",
        "print(\"AUC: \",auc_SVM)\n",
        "print(\"F1-score: \",f1_SVM)\n",
        "print(\"Specificity: \",specificity_SVM)\n",
        "print(\"Precision: \",precision_SVM)\n",
        "print(\"Recall: \",recall_SVM)\n",
        "\n",
        "SVM_stats=np.array([acc_SVM,auc_SVM,f1_SVM,specificity_SVM,precision_SVM,recall_SVM])\n",
        "print(SVM_stats)"
      ]
    },
    {
      "cell_type": "markdown",
      "id": "7f04a219",
      "metadata": {
        "id": "7f04a219"
      },
      "source": [
        "### Naive Bayes"
      ]
    },
    {
      "cell_type": "code",
      "execution_count": null,
      "id": "b639f5bc",
      "metadata": {
        "id": "b639f5bc"
      },
      "outputs": [],
      "source": [
        "####importing Naive Bayes model####\n",
        "import numpy as np\n",
        "from sklearn.naive_bayes import GaussianNB"
      ]
    },
    {
      "cell_type": "code",
      "execution_count": null,
      "id": "2c105370",
      "metadata": {
        "id": "2c105370"
      },
      "outputs": [],
      "source": [
        "###running Naive Bayes model###\n",
        "gnb = GaussianNB()"
      ]
    },
    {
      "cell_type": "code",
      "execution_count": null,
      "id": "8b095788",
      "metadata": {
        "colab": {
          "base_uri": "https://localhost:8080/",
          "height": 74
        },
        "id": "8b095788",
        "outputId": "b2b373bf-e75d-40e5-98eb-fc3b7c2570ed"
      },
      "outputs": [
        {
          "data": {
            "text/html": [
              "<style>#sk-container-id-6 {color: black;background-color: white;}#sk-container-id-6 pre{padding: 0;}#sk-container-id-6 div.sk-toggleable {background-color: white;}#sk-container-id-6 label.sk-toggleable__label {cursor: pointer;display: block;width: 100%;margin-bottom: 0;padding: 0.3em;box-sizing: border-box;text-align: center;}#sk-container-id-6 label.sk-toggleable__label-arrow:before {content: \"▸\";float: left;margin-right: 0.25em;color: #696969;}#sk-container-id-6 label.sk-toggleable__label-arrow:hover:before {color: black;}#sk-container-id-6 div.sk-estimator:hover label.sk-toggleable__label-arrow:before {color: black;}#sk-container-id-6 div.sk-toggleable__content {max-height: 0;max-width: 0;overflow: hidden;text-align: left;background-color: #f0f8ff;}#sk-container-id-6 div.sk-toggleable__content pre {margin: 0.2em;color: black;border-radius: 0.25em;background-color: #f0f8ff;}#sk-container-id-6 input.sk-toggleable__control:checked~div.sk-toggleable__content {max-height: 200px;max-width: 100%;overflow: auto;}#sk-container-id-6 input.sk-toggleable__control:checked~label.sk-toggleable__label-arrow:before {content: \"▾\";}#sk-container-id-6 div.sk-estimator input.sk-toggleable__control:checked~label.sk-toggleable__label {background-color: #d4ebff;}#sk-container-id-6 div.sk-label input.sk-toggleable__control:checked~label.sk-toggleable__label {background-color: #d4ebff;}#sk-container-id-6 input.sk-hidden--visually {border: 0;clip: rect(1px 1px 1px 1px);clip: rect(1px, 1px, 1px, 1px);height: 1px;margin: -1px;overflow: hidden;padding: 0;position: absolute;width: 1px;}#sk-container-id-6 div.sk-estimator {font-family: monospace;background-color: #f0f8ff;border: 1px dotted black;border-radius: 0.25em;box-sizing: border-box;margin-bottom: 0.5em;}#sk-container-id-6 div.sk-estimator:hover {background-color: #d4ebff;}#sk-container-id-6 div.sk-parallel-item::after {content: \"\";width: 100%;border-bottom: 1px solid gray;flex-grow: 1;}#sk-container-id-6 div.sk-label:hover label.sk-toggleable__label {background-color: #d4ebff;}#sk-container-id-6 div.sk-serial::before {content: \"\";position: absolute;border-left: 1px solid gray;box-sizing: border-box;top: 0;bottom: 0;left: 50%;z-index: 0;}#sk-container-id-6 div.sk-serial {display: flex;flex-direction: column;align-items: center;background-color: white;padding-right: 0.2em;padding-left: 0.2em;position: relative;}#sk-container-id-6 div.sk-item {position: relative;z-index: 1;}#sk-container-id-6 div.sk-parallel {display: flex;align-items: stretch;justify-content: center;background-color: white;position: relative;}#sk-container-id-6 div.sk-item::before, #sk-container-id-6 div.sk-parallel-item::before {content: \"\";position: absolute;border-left: 1px solid gray;box-sizing: border-box;top: 0;bottom: 0;left: 50%;z-index: -1;}#sk-container-id-6 div.sk-parallel-item {display: flex;flex-direction: column;z-index: 1;position: relative;background-color: white;}#sk-container-id-6 div.sk-parallel-item:first-child::after {align-self: flex-end;width: 50%;}#sk-container-id-6 div.sk-parallel-item:last-child::after {align-self: flex-start;width: 50%;}#sk-container-id-6 div.sk-parallel-item:only-child::after {width: 0;}#sk-container-id-6 div.sk-dashed-wrapped {border: 1px dashed gray;margin: 0 0.4em 0.5em 0.4em;box-sizing: border-box;padding-bottom: 0.4em;background-color: white;}#sk-container-id-6 div.sk-label label {font-family: monospace;font-weight: bold;display: inline-block;line-height: 1.2em;}#sk-container-id-6 div.sk-label-container {text-align: center;}#sk-container-id-6 div.sk-container {/* jupyter's `normalize.less` sets `[hidden] { display: none; }` but bootstrap.min.css set `[hidden] { display: none !important; }` so we also need the `!important` here to be able to override the default hidden behavior on the sphinx rendered scikit-learn.org. See: https://github.com/scikit-learn/scikit-learn/issues/21755 */display: inline-block !important;position: relative;}#sk-container-id-6 div.sk-text-repr-fallback {display: none;}</style><div id=\"sk-container-id-6\" class=\"sk-top-container\"><div class=\"sk-text-repr-fallback\"><pre>GaussianNB()</pre><b>In a Jupyter environment, please rerun this cell to show the HTML representation or trust the notebook. <br />On GitHub, the HTML representation is unable to render, please try loading this page with nbviewer.org.</b></div><div class=\"sk-container\" hidden><div class=\"sk-item\"><div class=\"sk-estimator sk-toggleable\"><input class=\"sk-toggleable__control sk-hidden--visually\" id=\"sk-estimator-id-6\" type=\"checkbox\" checked><label for=\"sk-estimator-id-6\" class=\"sk-toggleable__label sk-toggleable__label-arrow\">GaussianNB</label><div class=\"sk-toggleable__content\"><pre>GaussianNB()</pre></div></div></div></div></div>"
            ],
            "text/plain": [
              "GaussianNB()"
            ]
          },
          "execution_count": 113,
          "metadata": {},
          "output_type": "execute_result"
        }
      ],
      "source": [
        "###fitting Naive Bayes model###\n",
        "gnb.fit(ori_train,ori_train_label)"
      ]
    },
    {
      "cell_type": "code",
      "execution_count": null,
      "id": "b4045b11",
      "metadata": {
        "id": "b4045b11"
      },
      "outputs": [],
      "source": [
        "ypred_NB = gnb.predict(df_scale_pca_test)"
      ]
    },
    {
      "cell_type": "code",
      "execution_count": null,
      "id": "6c6dbd38",
      "metadata": {
        "colab": {
          "base_uri": "https://localhost:8080/"
        },
        "id": "6c6dbd38",
        "outputId": "8e745bec-00e1-4dbd-fd34-6c159c2a5839"
      },
      "outputs": [
        {
          "data": {
            "text/plain": [
              "array([[ 34,  86],\n",
              "       [ 53, 112]])"
            ]
          },
          "execution_count": 115,
          "metadata": {},
          "output_type": "execute_result"
        }
      ],
      "source": [
        "####creating confusion matrix####\n",
        "confusion_matrix(ypred_NB,y)"
      ]
    },
    {
      "cell_type": "code",
      "execution_count": null,
      "id": "9d613105",
      "metadata": {
        "colab": {
          "base_uri": "https://localhost:8080/",
          "height": 430
        },
        "id": "9d613105",
        "outputId": "a78133a2-7587-4e95-9ef7-d3213b3ccfd7"
      },
      "outputs": [
        {
          "data": {
            "image/png": "[encoded data removed]",
            "text/plain": [
              "<Figure size 640x480 with 2 Axes>"
            ]
          },
          "metadata": {},
          "output_type": "display_data"
        }
      ],
      "source": [
        "####plotting confusion matrix####\n",
        "cf_matrix =confusion_matrix(ypred_NB,y)\n",
        "group_names = [\"True Negative\",\"False Positive\",\"False Negative\",\"True Positive\"]\n",
        "\n",
        "group_counts = [\"{0:0.0f}\".format(value) for value in\n",
        "                cf_matrix.flatten()]\n",
        "\n",
        "group_percentages = [\"{0:.2%}\".format(value) for value in\n",
        "                     cf_matrix.flatten()/np.sum(cf_matrix)]\n",
        "\n",
        "labels = [f\"{v1}\\n{v2}\\n{v3}\" for v1, v2, v3 in\n",
        "          zip(group_names,group_counts,group_percentages)]\n",
        "\n",
        "labels = np.asarray(labels).reshape(2,2)\n",
        "\n",
        "sns.heatmap(cf_matrix, annot=labels, fmt='', cmap='Blues')\n",
        "plt.savefig('confusion_matrix_nb.pdf', format='pdf', dpi=1200)"
      ]
    },
    {
      "cell_type": "code",
      "execution_count": null,
      "id": "0b030ac3",
      "metadata": {
        "colab": {
          "base_uri": "https://localhost:8080/"
        },
        "id": "0b030ac3",
        "outputId": "cda2ba90-4d42-4db3-8829-a6640fc1fa0f"
      },
      "outputs": [
        {
          "name": "stdout",
          "output_type": "stream",
          "text": [
            "0.512280701754386\n"
          ]
        }
      ],
      "source": [
        "####accuracy score####\n",
        "acc_NB = sklearn.metrics.accuracy_score(ypred_NB,y)\n",
        "print(acc_NB)"
      ]
    },
    {
      "cell_type": "code",
      "execution_count": null,
      "id": "98f70eea",
      "metadata": {
        "colab": {
          "base_uri": "https://localhost:8080/"
        },
        "id": "98f70eea",
        "outputId": "03d99614-6ed7-4a3b-fab6-aeda29615b40"
      },
      "outputs": [
        {
          "name": "stdout",
          "output_type": "stream",
          "text": [
            "0.4810606060606061\n"
          ]
        }
      ],
      "source": [
        "####roc_auc_score####\n",
        "auc_NB = roc_auc_score(ypred_NB,y)\n",
        "print(auc_NB)"
      ]
    },
    {
      "cell_type": "code",
      "execution_count": null,
      "id": "267fb863",
      "metadata": {
        "colab": {
          "base_uri": "https://localhost:8080/"
        },
        "id": "267fb863",
        "outputId": "2ec26d02-5ef2-4c98-f387-2177565c876c"
      },
      "outputs": [
        {
          "name": "stdout",
          "output_type": "stream",
          "text": [
            "F1-score: 0.6170798898071626\n"
          ]
        }
      ],
      "source": [
        "####f1 score####\n",
        "from sklearn.metrics import f1_score\n",
        "f1_NB = f1_score(ypred_NB,y)\n",
        "print('F1-score:', f1_NB)"
      ]
    },
    {
      "cell_type": "code",
      "execution_count": null,
      "id": "7cd286c9",
      "metadata": {
        "colab": {
          "base_uri": "https://localhost:8080/"
        },
        "id": "7cd286c9",
        "outputId": "0ab61ad3-cb28-41b2-d87e-dbbdcbe4aa57"
      },
      "outputs": [
        {
          "name": "stdout",
          "output_type": "stream",
          "text": [
            "Precision: 0.5656565656565656\n"
          ]
        }
      ],
      "source": [
        "####precision####\n",
        "from sklearn.metrics import precision_score\n",
        "precision_NB = precision_score(ypred_NB,y)\n",
        "print('Precision:', precision_NB)"
      ]
    },
    {
      "cell_type": "code",
      "execution_count": null,
      "id": "741b25fa",
      "metadata": {
        "colab": {
          "base_uri": "https://localhost:8080/"
        },
        "id": "741b25fa",
        "outputId": "43ead929-7a26-4a82-f619-0c6314ecb2f8"
      },
      "outputs": [
        {
          "name": "stdout",
          "output_type": "stream",
          "text": [
            "Specificity: 0.2833333333333333\n"
          ]
        }
      ],
      "source": [
        "####specificity####\n",
        "from sklearn.metrics import confusion_matrix\n",
        "tn, fp, fn, tp = confusion_matrix(ypred_NB,y).ravel()\n",
        "specificity_NB = tn / (tn + fp)\n",
        "print('Specificity:', specificity_NB)"
      ]
    },
    {
      "cell_type": "code",
      "execution_count": null,
      "id": "1809061b",
      "metadata": {
        "colab": {
          "base_uri": "https://localhost:8080/"
        },
        "id": "1809061b",
        "outputId": "9a87b310-4ce0-41a4-d26c-72e48e120588"
      },
      "outputs": [
        {
          "name": "stdout",
          "output_type": "stream",
          "text": [
            "Recall: 0.6787878787878788\n"
          ]
        }
      ],
      "source": [
        "####recall####\n",
        "from sklearn.metrics import recall_score\n",
        "recall_NB = recall_score(ypred_NB,y)\n",
        "print('Recall:', recall_NB)"
      ]
    },
    {
      "cell_type": "code",
      "execution_count": null,
      "id": "9d50043a",
      "metadata": {
        "colab": {
          "base_uri": "https://localhost:8080/",
          "height": 472
        },
        "id": "9d50043a",
        "outputId": "d6a3fadf-c793-4a08-e1a5-1b4daab05d01"
      },
      "outputs": [
        {
          "data": {
            "image/png": "[encoded data removed]",
            "text/plain": [
              "<Figure size 640x480 with 1 Axes>"
            ]
          },
          "metadata": {},
          "output_type": "display_data"
        }
      ],
      "source": [
        "####creating roc curve####\n",
        "from sklearn.metrics import roc_curve, roc_auc_score\n",
        "import matplotlib.pyplot as plt\n",
        "\n",
        "# Assuming you have already defined your true labels and predicted scores\n",
        "fpr, tpr, thresholds = roc_curve(y, ypred_NB)\n",
        "\n",
        "# Plot the ROC curve\n",
        "plt.plot(fpr, tpr, label='ROC Curve')\n",
        "plt.plot([0, 1], [0, 1], 'k--', label='Random Guess')\n",
        "plt.xlabel('False Positive Rate')\n",
        "plt.ylabel('True Positive Rate')\n",
        "plt.title('Receiver Operating Characteristic (ROC) Curve')\n",
        "\n",
        "# Calculate the AUC score\n",
        "auc_score = roc_auc_score(y, ypred_NB)\n",
        "\n",
        "# Add the AUC score to the plot\n",
        "plt.text(0.6, 0.2, f'AUC = {auc_score:.3f}', fontsize=12)\n",
        "\n",
        "plt.legend()\n",
        "plt.savefig('roc_curve_nb.svg',dpi=1200)\n",
        "plt.show()"
      ]
    },
    {
      "cell_type": "code",
      "execution_count": null,
      "id": "v-cKll5t-Syi",
      "metadata": {
        "colab": {
          "base_uri": "https://localhost:8080/"
        },
        "id": "v-cKll5t-Syi",
        "outputId": "e918e1fc-da9d-476f-a87e-3514041d0790"
      },
      "outputs": [
        {
          "name": "stdout",
          "output_type": "stream",
          "text": [
            "For Naive Bayes:\n",
            "\n",
            "Accuracy:  0.512280701754386\n",
            "AUC:  0.4810606060606061\n",
            "F1-score:  0.6170798898071626\n",
            "Specificity:  0.2833333333333333\n",
            "Precision:  0.5656565656565656\n",
            "Recall:  0.6787878787878788\n",
            "[0.5122807  0.48106061 0.61707989 0.28333333 0.56565657 0.67878788]\n"
          ]
        }
      ],
      "source": [
        "# print all stats\n",
        "print(\"For Naive Bayes:\\n\")\n",
        "print(\"Accuracy: \",acc_NB)\n",
        "print(\"AUC: \",auc_NB)\n",
        "print(\"F1-score: \",f1_NB)\n",
        "print(\"Specificity: \",specificity_NB)\n",
        "print(\"Precision: \",precision_NB)\n",
        "print(\"Recall: \",recall_NB)\n",
        "\n",
        "NB_stats=np.array([acc_NB,auc_NB,f1_NB,specificity_NB,precision_NB,recall_NB])\n",
        "print(NB_stats)"
      ]
    },
    {
      "cell_type": "markdown",
      "id": "141cc452",
      "metadata": {
        "id": "141cc452"
      },
      "source": [
        "### K-Nearest Neighbour"
      ]
    },
    {
      "cell_type": "code",
      "execution_count": null,
      "id": "2571f169",
      "metadata": {
        "id": "2571f169"
      },
      "outputs": [],
      "source": [
        "####importing K-Nearest Neighbour model####\n",
        "from sklearn.neighbors import KNeighborsClassifier\n",
        "from sklearn.model_selection import train_test_split\n",
        "from sklearn.metrics import accuracy_score"
      ]
    },
    {
      "cell_type": "code",
      "execution_count": null,
      "id": "214ad3e0",
      "metadata": {
        "id": "214ad3e0"
      },
      "outputs": [],
      "source": [
        "###running K-Nearest Neighbour model####\n",
        "knn = KNeighborsClassifier(n_neighbors=1)"
      ]
    },
    {
      "cell_type": "code",
      "execution_count": null,
      "id": "cd4b20a4",
      "metadata": {
        "colab": {
          "base_uri": "https://localhost:8080/",
          "height": 74
        },
        "id": "cd4b20a4",
        "outputId": "677ae2e8-e40f-490b-cdfd-cb55b538ca47"
      },
      "outputs": [
        {
          "data": {
            "text/html": [
              "<style>#sk-container-id-7 {color: black;background-color: white;}#sk-container-id-7 pre{padding: 0;}#sk-container-id-7 div.sk-toggleable {background-color: white;}#sk-container-id-7 label.sk-toggleable__label {cursor: pointer;display: block;width: 100%;margin-bottom: 0;padding: 0.3em;box-sizing: border-box;text-align: center;}#sk-container-id-7 label.sk-toggleable__label-arrow:before {content: \"▸\";float: left;margin-right: 0.25em;color: #696969;}#sk-container-id-7 label.sk-toggleable__label-arrow:hover:before {color: black;}#sk-container-id-7 div.sk-estimator:hover label.sk-toggleable__label-arrow:before {color: black;}#sk-container-id-7 div.sk-toggleable__content {max-height: 0;max-width: 0;overflow: hidden;text-align: left;background-color: #f0f8ff;}#sk-container-id-7 div.sk-toggleable__content pre {margin: 0.2em;color: black;border-radius: 0.25em;background-color: #f0f8ff;}#sk-container-id-7 input.sk-toggleable__control:checked~div.sk-toggleable__content {max-height: 200px;max-width: 100%;overflow: auto;}#sk-container-id-7 input.sk-toggleable__control:checked~label.sk-toggleable__label-arrow:before {content: \"▾\";}#sk-container-id-7 div.sk-estimator input.sk-toggleable__control:checked~label.sk-toggleable__label {background-color: #d4ebff;}#sk-container-id-7 div.sk-label input.sk-toggleable__control:checked~label.sk-toggleable__label {background-color: #d4ebff;}#sk-container-id-7 input.sk-hidden--visually {border: 0;clip: rect(1px 1px 1px 1px);clip: rect(1px, 1px, 1px, 1px);height: 1px;margin: -1px;overflow: hidden;padding: 0;position: absolute;width: 1px;}#sk-container-id-7 div.sk-estimator {font-family: monospace;background-color: #f0f8ff;border: 1px dotted black;border-radius: 0.25em;box-sizing: border-box;margin-bottom: 0.5em;}#sk-container-id-7 div.sk-estimator:hover {background-color: #d4ebff;}#sk-container-id-7 div.sk-parallel-item::after {content: \"\";width: 100%;border-bottom: 1px solid gray;flex-grow: 1;}#sk-container-id-7 div.sk-label:hover label.sk-toggleable__label {background-color: #d4ebff;}#sk-container-id-7 div.sk-serial::before {content: \"\";position: absolute;border-left: 1px solid gray;box-sizing: border-box;top: 0;bottom: 0;left: 50%;z-index: 0;}#sk-container-id-7 div.sk-serial {display: flex;flex-direction: column;align-items: center;background-color: white;padding-right: 0.2em;padding-left: 0.2em;position: relative;}#sk-container-id-7 div.sk-item {position: relative;z-index: 1;}#sk-container-id-7 div.sk-parallel {display: flex;align-items: stretch;justify-content: center;background-color: white;position: relative;}#sk-container-id-7 div.sk-item::before, #sk-container-id-7 div.sk-parallel-item::before {content: \"\";position: absolute;border-left: 1px solid gray;box-sizing: border-box;top: 0;bottom: 0;left: 50%;z-index: -1;}#sk-container-id-7 div.sk-parallel-item {display: flex;flex-direction: column;z-index: 1;position: relative;background-color: white;}#sk-container-id-7 div.sk-parallel-item:first-child::after {align-self: flex-end;width: 50%;}#sk-container-id-7 div.sk-parallel-item:last-child::after {align-self: flex-start;width: 50%;}#sk-container-id-7 div.sk-parallel-item:only-child::after {width: 0;}#sk-container-id-7 div.sk-dashed-wrapped {border: 1px dashed gray;margin: 0 0.4em 0.5em 0.4em;box-sizing: border-box;padding-bottom: 0.4em;background-color: white;}#sk-container-id-7 div.sk-label label {font-family: monospace;font-weight: bold;display: inline-block;line-height: 1.2em;}#sk-container-id-7 div.sk-label-container {text-align: center;}#sk-container-id-7 div.sk-container {/* jupyter's `normalize.less` sets `[hidden] { display: none; }` but bootstrap.min.css set `[hidden] { display: none !important; }` so we also need the `!important` here to be able to override the default hidden behavior on the sphinx rendered scikit-learn.org. See: https://github.com/scikit-learn/scikit-learn/issues/21755 */display: inline-block !important;position: relative;}#sk-container-id-7 div.sk-text-repr-fallback {display: none;}</style><div id=\"sk-container-id-7\" class=\"sk-top-container\"><div class=\"sk-text-repr-fallback\"><pre>KNeighborsClassifier(n_neighbors=1)</pre><b>In a Jupyter environment, please rerun this cell to show the HTML representation or trust the notebook. <br />On GitHub, the HTML representation is unable to render, please try loading this page with nbviewer.org.</b></div><div class=\"sk-container\" hidden><div class=\"sk-item\"><div class=\"sk-estimator sk-toggleable\"><input class=\"sk-toggleable__control sk-hidden--visually\" id=\"sk-estimator-id-7\" type=\"checkbox\" checked><label for=\"sk-estimator-id-7\" class=\"sk-toggleable__label sk-toggleable__label-arrow\">KNeighborsClassifier</label><div class=\"sk-toggleable__content\"><pre>KNeighborsClassifier(n_neighbors=1)</pre></div></div></div></div></div>"
            ],
            "text/plain": [
              "KNeighborsClassifier(n_neighbors=1)"
            ]
          },
          "execution_count": 127,
          "metadata": {},
          "output_type": "execute_result"
        }
      ],
      "source": [
        "###fitting K-Nearest Neighbour model####\n",
        "knn.fit(ori_train,ori_train_label)"
      ]
    },
    {
      "cell_type": "code",
      "execution_count": null,
      "id": "f80a5e74",
      "metadata": {
        "id": "f80a5e74"
      },
      "outputs": [],
      "source": [
        "ypred_KNN = knn.predict(df_scale_pca_test)"
      ]
    },
    {
      "cell_type": "code",
      "execution_count": null,
      "id": "21ba5cbf",
      "metadata": {
        "colab": {
          "base_uri": "https://localhost:8080/"
        },
        "id": "21ba5cbf",
        "outputId": "d9a067d6-cce6-4130-8946-2ba4500fb133"
      },
      "outputs": [
        {
          "data": {
            "text/plain": [
              "array([[  6,  14],\n",
              "       [ 81, 184]])"
            ]
          },
          "execution_count": 129,
          "metadata": {},
          "output_type": "execute_result"
        }
      ],
      "source": [
        "####creating confusion matrix####\n",
        "confusion_matrix(ypred_KNN,y)"
      ]
    },
    {
      "cell_type": "code",
      "execution_count": null,
      "id": "d06fc161",
      "metadata": {
        "colab": {
          "base_uri": "https://localhost:8080/",
          "height": 430
        },
        "id": "d06fc161",
        "outputId": "0cb274fd-038b-4172-c6ae-2da600cb3448"
      },
      "outputs": [
        {
          "data": {
            "image/png": "[encoded data removed]",
            "text/plain": [
              "<Figure size 640x480 with 2 Axes>"
            ]
          },
          "metadata": {},
          "output_type": "display_data"
        }
      ],
      "source": [
        "####plotting confusion matrix####\n",
        "cf_matrix =confusion_matrix(ypred_KNN,y)\n",
        "group_names = [\"True Negative\",\"False Positive\",\"False Negative\",\"True Positive\"]\n",
        "\n",
        "group_counts = [\"{0:0.0f}\".format(value) for value in\n",
        "                cf_matrix.flatten()]\n",
        "\n",
        "group_percentages = [\"{0:.2%}\".format(value) for value in\n",
        "                     cf_matrix.flatten()/np.sum(cf_matrix)]\n",
        "\n",
        "labels = [f\"{v1}\\n{v2}\\n{v3}\" for v1, v2, v3 in\n",
        "          zip(group_names,group_counts,group_percentages)]\n",
        "\n",
        "labels = np.asarray(labels).reshape(2,2)\n",
        "\n",
        "sns.heatmap(cf_matrix, annot=labels, fmt='', cmap='Blues')\n",
        "plt.savefig('confusion_matrix_knn.pdf', format='pdf', dpi=1200)"
      ]
    },
    {
      "cell_type": "code",
      "execution_count": null,
      "id": "d6dab489",
      "metadata": {
        "colab": {
          "base_uri": "https://localhost:8080/"
        },
        "id": "d6dab489",
        "outputId": "b2040403-1d9a-465d-f4c5-0821fef55704"
      },
      "outputs": [
        {
          "name": "stdout",
          "output_type": "stream",
          "text": [
            "0.6666666666666666\n"
          ]
        }
      ],
      "source": [
        "####accuracy score####\n",
        "acc_KNN = accuracy_score(ypred_KNN,y)\n",
        "print(acc_KNN)"
      ]
    },
    {
      "cell_type": "code",
      "execution_count": null,
      "id": "2d6155ef",
      "metadata": {
        "colab": {
          "base_uri": "https://localhost:8080/"
        },
        "id": "2d6155ef",
        "outputId": "bf46512b-c18a-484a-b5bc-71d99e909d79"
      },
      "outputs": [
        {
          "name": "stdout",
          "output_type": "stream",
          "text": [
            "0.49716981132075466\n"
          ]
        }
      ],
      "source": [
        "####roc_auc_score####\n",
        "auc_KNN = roc_auc_score(ypred_KNN,y)\n",
        "print(auc_KNN)"
      ]
    },
    {
      "cell_type": "code",
      "execution_count": null,
      "id": "b83004b1",
      "metadata": {
        "colab": {
          "base_uri": "https://localhost:8080/"
        },
        "id": "b83004b1",
        "outputId": "2feb0a07-38da-4bd7-b7e7-59ef0b339544"
      },
      "outputs": [
        {
          "name": "stdout",
          "output_type": "stream",
          "text": [
            "F1-score: 0.794816414686825\n"
          ]
        }
      ],
      "source": [
        "####f1 score####\n",
        "from sklearn.metrics import f1_score\n",
        "f1_KNN = f1_score(ypred_KNN,y)\n",
        "print('F1-score:', f1_KNN)"
      ]
    },
    {
      "cell_type": "code",
      "execution_count": null,
      "id": "854ab295",
      "metadata": {
        "colab": {
          "base_uri": "https://localhost:8080/"
        },
        "id": "854ab295",
        "outputId": "72bf5487-fadd-40fc-b6cb-2dc4902a274d"
      },
      "outputs": [
        {
          "name": "stdout",
          "output_type": "stream",
          "text": [
            "Specificity: 0.3\n"
          ]
        }
      ],
      "source": [
        "####specificity####\n",
        "from sklearn.metrics import confusion_matrix\n",
        "tn, fp, fn, tp = confusion_matrix(ypred_KNN,y).ravel()\n",
        "specificity_KNN = tn / (tn + fp)\n",
        "print('Specificity:', specificity_KNN)"
      ]
    },
    {
      "cell_type": "code",
      "execution_count": null,
      "id": "a82b3558",
      "metadata": {
        "colab": {
          "base_uri": "https://localhost:8080/"
        },
        "id": "a82b3558",
        "outputId": "6f98a414-f279-4586-fa37-5e0a17fd3b4b"
      },
      "outputs": [
        {
          "name": "stdout",
          "output_type": "stream",
          "text": [
            "Precision: 0.9292929292929293\n"
          ]
        }
      ],
      "source": [
        "####precision####\n",
        "from sklearn.metrics import precision_score\n",
        "precision_KNN = precision_score(ypred_KNN,y)\n",
        "print('Precision:', precision_KNN)"
      ]
    },
    {
      "cell_type": "code",
      "execution_count": null,
      "id": "12cd22d5",
      "metadata": {
        "colab": {
          "base_uri": "https://localhost:8080/"
        },
        "id": "12cd22d5",
        "outputId": "225f447d-56d2-41a8-c8dd-2794917a7350"
      },
      "outputs": [
        {
          "name": "stdout",
          "output_type": "stream",
          "text": [
            "Recall: 0.6943396226415094\n"
          ]
        }
      ],
      "source": [
        "####recall####\n",
        "from sklearn.metrics import recall_score\n",
        "recall_KNN = recall_score(ypred_KNN,y)\n",
        "print('Recall:', recall_KNN)"
      ]
    },
    {
      "cell_type": "code",
      "execution_count": null,
      "id": "f64c5ce6",
      "metadata": {
        "colab": {
          "base_uri": "https://localhost:8080/",
          "height": 472
        },
        "id": "f64c5ce6",
        "outputId": "0c38b218-fb57-4335-d6e0-70527868a650"
      },
      "outputs": [
        {
          "data": {
            "image/png": "[encoded data removed]",
            "text/plain": [
              "<Figure size 640x480 with 1 Axes>"
            ]
          },
          "metadata": {},
          "output_type": "display_data"
        }
      ],
      "source": [
        "####creating roc curve####\n",
        "from sklearn.metrics import roc_curve, roc_auc_score\n",
        "import matplotlib.pyplot as plt\n",
        "\n",
        "# Assuming you have already defined your true labels and predicted scores\n",
        "fpr, tpr, thresholds = roc_curve(y, ypred_KNN)\n",
        "\n",
        "# Plot the ROC curve\n",
        "plt.plot(fpr, tpr, label='ROC Curve')\n",
        "plt.plot([0, 1], [0, 1], 'k--', label='Random Guess')\n",
        "plt.xlabel('False Positive Rate')\n",
        "plt.ylabel('True Positive Rate')\n",
        "plt.title('Receiver Operating Characteristic (ROC) Curve')\n",
        "\n",
        "# Calculate the AUC score\n",
        "auc_score = roc_auc_score(y, ypred_KNN)\n",
        "\n",
        "# Add the AUC score to the plot\n",
        "plt.text(0.6, 0.2, f'AUC = {auc_score:.3f}', fontsize=12)\n",
        "\n",
        "plt.legend()\n",
        "plt.savefig('roc_curve_knn.svg',dpi=1200)\n",
        "plt.show()"
      ]
    },
    {
      "cell_type": "code",
      "execution_count": null,
      "id": "ffMGP6Fe-8Yi",
      "metadata": {
        "colab": {
          "base_uri": "https://localhost:8080/"
        },
        "id": "ffMGP6Fe-8Yi",
        "outputId": "b377d342-d360-4046-de2d-e39f6c01823f"
      },
      "outputs": [
        {
          "name": "stdout",
          "output_type": "stream",
          "text": [
            "For KNN:\n",
            "\n",
            "Accuracy:  0.6666666666666666\n",
            "AUC:  0.49716981132075466\n",
            "F1-score:  0.794816414686825\n",
            "Specificity:  0.3\n",
            "Precision:  0.9292929292929293\n",
            "Recall:  0.6943396226415094\n",
            "[0.66666667 0.49716981 0.79481641 0.3        0.92929293 0.69433962]\n"
          ]
        }
      ],
      "source": [
        "# print all stats\n",
        "print(\"For KNN:\\n\")\n",
        "print(\"Accuracy: \",acc_KNN)\n",
        "print(\"AUC: \",auc_KNN)\n",
        "print(\"F1-score: \",f1_KNN)\n",
        "print(\"Specificity: \",specificity_KNN)\n",
        "print(\"Precision: \",precision_KNN)\n",
        "print(\"Recall: \",recall_KNN)\n",
        "\n",
        "KNN_stats=np.array([acc_KNN,auc_KNN,f1_KNN,specificity_KNN,precision_KNN,recall_KNN])\n",
        "print(KNN_stats)"
      ]
    },
    {
      "cell_type": "markdown",
      "id": "21616c8b",
      "metadata": {
        "id": "21616c8b"
      },
      "source": [
        "### MLP Classifier"
      ]
    },
    {
      "cell_type": "code",
      "execution_count": null,
      "id": "18a9a78b",
      "metadata": {
        "id": "18a9a78b"
      },
      "outputs": [],
      "source": [
        "###importing MLP Classifier\n",
        "from sklearn.neural_network import MLPClassifier"
      ]
    },
    {
      "cell_type": "code",
      "execution_count": null,
      "id": "1c53edc9",
      "metadata": {
        "id": "1c53edc9"
      },
      "outputs": [],
      "source": [
        "###running MLP model###\n",
        "#mlp = MLPClassifier(solver=\"sgd\",hidden_layer_sizes=(50,),max_iter=500, activation='relu', random_state=0)\n",
        "#mlp = MLPClassifier(solver=\"sgd\",hidden_layer_sizes=(50,),max_iter=1000, activation='logistic', random_state=0)\n",
        "mlp = MLPClassifier(solver=\"sgd\",hidden_layer_sizes=(1000,),max_iter=1000, activation='relu', random_state=0)"
      ]
    },
    {
      "cell_type": "code",
      "execution_count": null,
      "id": "6f575cbc",
      "metadata": {
        "colab": {
          "base_uri": "https://localhost:8080/",
          "height": 92
        },
        "id": "6f575cbc",
        "outputId": "c8971d91-ed70-4233-f17f-8a5f7e0eaab2"
      },
      "outputs": [
        {
          "data": {
            "text/html": [
              "<style>#sk-container-id-8 {color: black;background-color: white;}#sk-container-id-8 pre{padding: 0;}#sk-container-id-8 div.sk-toggleable {background-color: white;}#sk-container-id-8 label.sk-toggleable__label {cursor: pointer;display: block;width: 100%;margin-bottom: 0;padding: 0.3em;box-sizing: border-box;text-align: center;}#sk-container-id-8 label.sk-toggleable__label-arrow:before {content: \"▸\";float: left;margin-right: 0.25em;color: #696969;}#sk-container-id-8 label.sk-toggleable__label-arrow:hover:before {color: black;}#sk-container-id-8 div.sk-estimator:hover label.sk-toggleable__label-arrow:before {color: black;}#sk-container-id-8 div.sk-toggleable__content {max-height: 0;max-width: 0;overflow: hidden;text-align: left;background-color: #f0f8ff;}#sk-container-id-8 div.sk-toggleable__content pre {margin: 0.2em;color: black;border-radius: 0.25em;background-color: #f0f8ff;}#sk-container-id-8 input.sk-toggleable__control:checked~div.sk-toggleable__content {max-height: 200px;max-width: 100%;overflow: auto;}#sk-container-id-8 input.sk-toggleable__control:checked~label.sk-toggleable__label-arrow:before {content: \"▾\";}#sk-container-id-8 div.sk-estimator input.sk-toggleable__control:checked~label.sk-toggleable__label {background-color: #d4ebff;}#sk-container-id-8 div.sk-label input.sk-toggleable__control:checked~label.sk-toggleable__label {background-color: #d4ebff;}#sk-container-id-8 input.sk-hidden--visually {border: 0;clip: rect(1px 1px 1px 1px);clip: rect(1px, 1px, 1px, 1px);height: 1px;margin: -1px;overflow: hidden;padding: 0;position: absolute;width: 1px;}#sk-container-id-8 div.sk-estimator {font-family: monospace;background-color: #f0f8ff;border: 1px dotted black;border-radius: 0.25em;box-sizing: border-box;margin-bottom: 0.5em;}#sk-container-id-8 div.sk-estimator:hover {background-color: #d4ebff;}#sk-container-id-8 div.sk-parallel-item::after {content: \"\";width: 100%;border-bottom: 1px solid gray;flex-grow: 1;}#sk-container-id-8 div.sk-label:hover label.sk-toggleable__label {background-color: #d4ebff;}#sk-container-id-8 div.sk-serial::before {content: \"\";position: absolute;border-left: 1px solid gray;box-sizing: border-box;top: 0;bottom: 0;left: 50%;z-index: 0;}#sk-container-id-8 div.sk-serial {display: flex;flex-direction: column;align-items: center;background-color: white;padding-right: 0.2em;padding-left: 0.2em;position: relative;}#sk-container-id-8 div.sk-item {position: relative;z-index: 1;}#sk-container-id-8 div.sk-parallel {display: flex;align-items: stretch;justify-content: center;background-color: white;position: relative;}#sk-container-id-8 div.sk-item::before, #sk-container-id-8 div.sk-parallel-item::before {content: \"\";position: absolute;border-left: 1px solid gray;box-sizing: border-box;top: 0;bottom: 0;left: 50%;z-index: -1;}#sk-container-id-8 div.sk-parallel-item {display: flex;flex-direction: column;z-index: 1;position: relative;background-color: white;}#sk-container-id-8 div.sk-parallel-item:first-child::after {align-self: flex-end;width: 50%;}#sk-container-id-8 div.sk-parallel-item:last-child::after {align-self: flex-start;width: 50%;}#sk-container-id-8 div.sk-parallel-item:only-child::after {width: 0;}#sk-container-id-8 div.sk-dashed-wrapped {border: 1px dashed gray;margin: 0 0.4em 0.5em 0.4em;box-sizing: border-box;padding-bottom: 0.4em;background-color: white;}#sk-container-id-8 div.sk-label label {font-family: monospace;font-weight: bold;display: inline-block;line-height: 1.2em;}#sk-container-id-8 div.sk-label-container {text-align: center;}#sk-container-id-8 div.sk-container {/* jupyter's `normalize.less` sets `[hidden] { display: none; }` but bootstrap.min.css set `[hidden] { display: none !important; }` so we also need the `!important` here to be able to override the default hidden behavior on the sphinx rendered scikit-learn.org. See: https://github.com/scikit-learn/scikit-learn/issues/21755 */display: inline-block !important;position: relative;}#sk-container-id-8 div.sk-text-repr-fallback {display: none;}</style><div id=\"sk-container-id-8\" class=\"sk-top-container\"><div class=\"sk-text-repr-fallback\"><pre>MLPClassifier(hidden_layer_sizes=(1000,), max_iter=1000, random_state=0,\n",
              "              solver=&#x27;sgd&#x27;)</pre><b>In a Jupyter environment, please rerun this cell to show the HTML representation or trust the notebook. <br />On GitHub, the HTML representation is unable to render, please try loading this page with nbviewer.org.</b></div><div class=\"sk-container\" hidden><div class=\"sk-item\"><div class=\"sk-estimator sk-toggleable\"><input class=\"sk-toggleable__control sk-hidden--visually\" id=\"sk-estimator-id-8\" type=\"checkbox\" checked><label for=\"sk-estimator-id-8\" class=\"sk-toggleable__label sk-toggleable__label-arrow\">MLPClassifier</label><div class=\"sk-toggleable__content\"><pre>MLPClassifier(hidden_layer_sizes=(1000,), max_iter=1000, random_state=0,\n",
              "              solver=&#x27;sgd&#x27;)</pre></div></div></div></div></div>"
            ],
            "text/plain": [
              "MLPClassifier(hidden_layer_sizes=(1000,), max_iter=1000, random_state=0,\n",
              "              solver='sgd')"
            ]
          },
          "execution_count": 141,
          "metadata": {},
          "output_type": "execute_result"
        }
      ],
      "source": [
        "###fitting MLP Classifier###\n",
        "mlp.fit(ori_train,ori_train_label)"
      ]
    },
    {
      "cell_type": "code",
      "execution_count": null,
      "id": "4c7973e8",
      "metadata": {
        "id": "4c7973e8"
      },
      "outputs": [],
      "source": [
        "ypred_MLP = mlp.predict(df_scale_pca_test)"
      ]
    },
    {
      "cell_type": "code",
      "execution_count": null,
      "id": "9846ea9b",
      "metadata": {
        "colab": {
          "base_uri": "https://localhost:8080/"
        },
        "id": "9846ea9b",
        "outputId": "32be975c-efd3-4a29-fd42-4e99245b8feb"
      },
      "outputs": [
        {
          "data": {
            "text/plain": [
              "array([[ 11,  17],\n",
              "       [ 76, 181]])"
            ]
          },
          "execution_count": 143,
          "metadata": {},
          "output_type": "execute_result"
        }
      ],
      "source": [
        "###creating confusion matrix###\n",
        "confusion_matrix(ypred_MLP,y)"
      ]
    },
    {
      "cell_type": "code",
      "execution_count": null,
      "id": "3d105441",
      "metadata": {
        "colab": {
          "base_uri": "https://localhost:8080/",
          "height": 433
        },
        "id": "3d105441",
        "outputId": "dab0c05a-7ea8-4d66-ba94-dee5190c66d7"
      },
      "outputs": [
        {
          "data": {
            "image/png": "[encoded data removed]",
            "text/plain": [
              "<Figure size 640x480 with 2 Axes>"
            ]
          },
          "metadata": {},
          "output_type": "display_data"
        }
      ],
      "source": [
        "###plotting confusion matrix###\n",
        "cf_matrix =confusion_matrix(ypred_MLP,y)\n",
        "group_names = [\"True Negative\",\"False Positive\",\"False Negative\",\"True Positive\"]\n",
        "\n",
        "group_counts = [\"{0:0.0f}\".format(value) for value in\n",
        "                cf_matrix.flatten()]\n",
        "\n",
        "group_percentages = [\"{0:.2%}\".format(value) for value in\n",
        "                     cf_matrix.flatten()/np.sum(cf_matrix)]\n",
        "\n",
        "labels = [f\"{v1}\\n{v2}\\n{v3}\" for v1, v2, v3 in\n",
        "          zip(group_names,group_counts,group_percentages)]\n",
        "\n",
        "labels = np.asarray(labels).reshape(2,2)\n",
        "\n",
        "sns.heatmap(cf_matrix, annot=labels, fmt='', cmap='Blues')\n",
        "plt.savefig('confusion_matrix_MLP.pdf', format='pdf', dpi=1200)"
      ]
    },
    {
      "cell_type": "code",
      "execution_count": null,
      "id": "954ddb1e",
      "metadata": {
        "colab": {
          "base_uri": "https://localhost:8080/"
        },
        "id": "954ddb1e",
        "outputId": "c5f148c8-e18a-4c14-fa22-d42a48ad2f30"
      },
      "outputs": [
        {
          "name": "stdout",
          "output_type": "stream",
          "text": [
            "0.6736842105263158\n"
          ]
        }
      ],
      "source": [
        "####accuracy score####\n",
        "import sklearn.metrics\n",
        "acc_MLP = sklearn.metrics.accuracy_score(ypred_MLP,y)\n",
        "print(acc_MLP)"
      ]
    },
    {
      "cell_type": "code",
      "execution_count": null,
      "id": "04690c9f",
      "metadata": {
        "colab": {
          "base_uri": "https://localhost:8080/"
        },
        "id": "04690c9f",
        "outputId": "8ea4c45f-81ec-4105-98f6-2bb72f3bf9fa"
      },
      "outputs": [
        {
          "name": "stdout",
          "output_type": "stream",
          "text": [
            "0.5485686492495832\n"
          ]
        }
      ],
      "source": [
        "####roc_auc_score####\n",
        "auc_MLP = sklearn.metrics.roc_auc_score(ypred_MLP,y)\n",
        "print(auc_MLP)"
      ]
    },
    {
      "cell_type": "code",
      "execution_count": null,
      "id": "bbbbcb69",
      "metadata": {
        "colab": {
          "base_uri": "https://localhost:8080/"
        },
        "id": "bbbbcb69",
        "outputId": "812bfb50-6fa1-434c-9d39-e02cea302d23"
      },
      "outputs": [
        {
          "name": "stdout",
          "output_type": "stream",
          "text": [
            "F1-score: 0.7956043956043957\n"
          ]
        }
      ],
      "source": [
        "####f1 score####\n",
        "from sklearn.metrics import f1_score\n",
        "f1_MLP = f1_score(ypred_MLP,y)\n",
        "print('F1-score:', f1_MLP)"
      ]
    },
    {
      "cell_type": "code",
      "execution_count": null,
      "id": "7ad4c49d",
      "metadata": {
        "colab": {
          "base_uri": "https://localhost:8080/"
        },
        "id": "7ad4c49d",
        "outputId": "5d3ad1e1-6490-4b4c-af45-6dfc3920f24f"
      },
      "outputs": [
        {
          "name": "stdout",
          "output_type": "stream",
          "text": [
            "Specificity: 0.39285714285714285\n"
          ]
        }
      ],
      "source": [
        "####specificity####\n",
        "from sklearn.metrics import confusion_matrix\n",
        "tn, fp, fn, tp = confusion_matrix(ypred_MLP,y).ravel()\n",
        "specificity_MLP = tn / (tn + fp)\n",
        "print('Specificity:', specificity_MLP)"
      ]
    },
    {
      "cell_type": "code",
      "execution_count": null,
      "id": "a42a9198",
      "metadata": {
        "colab": {
          "base_uri": "https://localhost:8080/"
        },
        "id": "a42a9198",
        "outputId": "0cf7ea25-24fe-4a3b-ff67-8bb41d5af710"
      },
      "outputs": [
        {
          "name": "stdout",
          "output_type": "stream",
          "text": [
            "Precision: 0.9141414141414141\n"
          ]
        }
      ],
      "source": [
        "####precision####\n",
        "from sklearn.metrics import precision_score\n",
        "precision_MLP = precision_score(ypred_MLP,y)\n",
        "print('Precision:', precision_MLP)"
      ]
    },
    {
      "cell_type": "code",
      "execution_count": null,
      "id": "f822fa2d",
      "metadata": {
        "colab": {
          "base_uri": "https://localhost:8080/"
        },
        "id": "f822fa2d",
        "outputId": "ba4e916a-3651-4947-e2a1-09c306018137"
      },
      "outputs": [
        {
          "name": "stdout",
          "output_type": "stream",
          "text": [
            "Recall: 0.7042801556420234\n"
          ]
        }
      ],
      "source": [
        "####recall####\n",
        "from sklearn.metrics import recall_score\n",
        "recall_MLP = recall_score(ypred_MLP,y)\n",
        "print('Recall:', recall_MLP)"
      ]
    },
    {
      "cell_type": "code",
      "execution_count": null,
      "id": "fe797066",
      "metadata": {
        "colab": {
          "base_uri": "https://localhost:8080/",
          "height": 472
        },
        "id": "fe797066",
        "outputId": "d3769825-67e0-4eec-9996-ec5b8b7af803"
      },
      "outputs": [
        {
          "data": {
            "image/png": "[encoded data removed]",
            "text/plain": [
              "<Figure size 640x480 with 1 Axes>"
            ]
          },
          "metadata": {},
          "output_type": "display_data"
        }
      ],
      "source": [
        "####creating roc curve####\n",
        "from sklearn.metrics import roc_curve, roc_auc_score\n",
        "import matplotlib.pyplot as plt\n",
        "\n",
        "# Assuming you have already defined your true labels and predicted scores\n",
        "fpr, tpr, thresholds = roc_curve(y, ypred_MLP)\n",
        "\n",
        "# Plot the ROC curve\n",
        "plt.plot(fpr, tpr, label='ROC Curve')\n",
        "plt.plot([0, 1], [0, 1], 'k--', label='Random Guess')\n",
        "plt.xlabel('False Positive Rate')\n",
        "plt.ylabel('True Positive Rate')\n",
        "plt.title('Receiver Operating Characteristic (ROC) Curve')\n",
        "\n",
        "# Calculate the AUC score\n",
        "auc_score = roc_auc_score(y, ypred_MLP)\n",
        "\n",
        "# Add the AUC score to the plot\n",
        "plt.text(0.6, 0.2, f'AUC = {auc_score:.3f}', fontsize=12)\n",
        "\n",
        "plt.legend()\n",
        "\n",
        "plt.savefig('roc_curve_MLP.svg',dpi=1200)\n",
        "plt.show()"
      ]
    },
    {
      "cell_type": "code",
      "execution_count": null,
      "id": "UtLdFIiPAnO3",
      "metadata": {
        "colab": {
          "base_uri": "https://localhost:8080/"
        },
        "id": "UtLdFIiPAnO3",
        "outputId": "50afc44b-ef14-4706-ed82-3679e0c8dc93"
      },
      "outputs": [
        {
          "name": "stdout",
          "output_type": "stream",
          "text": [
            "For MLP:\n",
            "\n",
            "Accuracy:  0.6736842105263158\n",
            "AUC:  0.5485686492495832\n",
            "F1-score:  0.7956043956043957\n",
            "Specificity:  0.39285714285714285\n",
            "Precision:  0.9141414141414141\n",
            "Recall:  0.7042801556420234\n",
            "[0.67368421 0.54856865 0.7956044  0.39285714 0.91414141 0.70428016]\n"
          ]
        }
      ],
      "source": [
        "# print all stats\n",
        "print(\"For MLP:\\n\")\n",
        "print(\"Accuracy: \",acc_MLP)\n",
        "print(\"AUC: \",auc_MLP)\n",
        "print(\"F1-score: \",f1_MLP)\n",
        "print(\"Specificity: \",specificity_MLP)\n",
        "print(\"Precision: \",precision_MLP)\n",
        "print(\"Recall: \",recall_MLP)\n",
        "\n",
        "MLP_stats=np.array([acc_MLP,auc_MLP,f1_MLP,specificity_MLP,precision_MLP,recall_MLP])\n",
        "print(MLP_stats)"
      ]
    },
    {
      "cell_type": "markdown",
      "id": "nc3U8d7wVs7g",
      "metadata": {
        "id": "nc3U8d7wVs7g"
      },
      "source": [
        "# Create score table\n",
        "\n",
        "Create table from the parameter scores"
      ]
    },
    {
      "cell_type": "code",
      "execution_count": null,
      "id": "ytkjehtPWGg2",
      "metadata": {
        "colab": {
          "base_uri": "https://localhost:8080/"
        },
        "id": "ytkjehtPWGg2",
        "outputId": "ee6519d3-6677-443d-f29a-c0511b451195"
      },
      "outputs": [
        {
          "name": "stdout",
          "output_type": "stream",
          "text": [
            "         LR        RF       SVM        NB       KNN       MLP\n",
            "0  0.508772  0.677193  0.575439  0.512281  0.666667  0.673684\n",
            "1  0.503991  0.533835  0.459112  0.481061  0.497170  0.548569\n",
            "2  0.593023  0.801724  0.709832  0.617080  0.794816  0.795604\n",
            "3  0.309353  0.368421  0.242424  0.283333  0.300000  0.392857\n",
            "4  0.515152  0.939394  0.747475  0.565657  0.929293  0.914141\n",
            "5  0.698630  0.699248  0.675799  0.678788  0.694340  0.704280\n"
          ]
        }
      ],
      "source": [
        "import pandas as pd\n",
        "\n",
        "# Create a DataFrame\n",
        "table = pd.DataFrame({'LR': LR_stats, 'RF': RF_stats, 'SVM': SVM_stats, 'NB': NB_stats, 'KNN': KNN_stats, 'MLP': MLP_stats})\n",
        "\n",
        "print(table)\n"
      ]
    },
    {
      "cell_type": "code",
      "execution_count": null,
      "id": "vaBlLoH1useB",
      "metadata": {
        "colab": {
          "base_uri": "https://localhost:8080/"
        },
        "id": "vaBlLoH1useB",
        "outputId": "5168fccc-affa-43d0-b7d0-dfb29d1762d6"
      },
      "outputs": [
        {
          "name": "stdout",
          "output_type": "stream",
          "text": [
            "                   LR        RF       SVM        NB       KNN       MLP\n",
            "Accuracy     0.508772  0.677193  0.575439  0.512281  0.666667  0.673684\n",
            "AUC          0.503991  0.533835  0.459112  0.481061  0.497170  0.548569\n",
            "F1-score     0.593023  0.801724  0.709832  0.617080  0.794816  0.795604\n",
            "Specificity  0.309353  0.368421  0.242424  0.283333  0.300000  0.392857\n",
            "Precision    0.515152  0.939394  0.747475  0.565657  0.929293  0.914141\n",
            "Recall       0.698630  0.699248  0.675799  0.678788  0.694340  0.704280\n"
          ]
        }
      ],
      "source": [
        "# Name the rows\n",
        "\n",
        "# Define the row names\n",
        "row_names = [\"Accuracy\", \"AUC\", \"F1-score\", \"Specificity\", \"Precision\", \"Recall\"]\n",
        "\n",
        "# Assign the row names to the DataFrame\n",
        "table.index = row_names\n",
        "\n",
        "print(table)\n"
      ]
    },
    {
      "cell_type": "markdown",
      "id": "-AQXkxZJ8NqN",
      "metadata": {
        "id": "-AQXkxZJ8NqN"
      },
      "source": [
        "# 10 Cross Validation"
      ]
    },
    {
      "cell_type": "code",
      "execution_count": null,
      "id": "DrlZr9DO8NS8",
      "metadata": {
        "id": "DrlZr9DO8NS8"
      },
      "outputs": [],
      "source": [
        "from sklearn.model_selection import StratifiedKFold, KFold\n",
        "cv = StratifiedKFold(n_splits = 10,shuffle=False)"
      ]
    },
    {
      "cell_type": "code",
      "execution_count": null,
      "id": "3KncIVou8hyY",
      "metadata": {
        "id": "3KncIVou8hyY"
      },
      "outputs": [],
      "source": [
        "# 10-Fold Cross-Validation###\n",
        "from sklearn.model_selection import cross_validate\n",
        "def cross_validation(model, _X, _y, _cv=10):\n",
        "      '''Function to perform 10 Folds Cross-Validation\n",
        "       Parameters\n",
        "       ----------\n",
        "      model: Python Class, default=None\n",
        "              This is the machine learning algorithm to be used for training.\n",
        "      _X: array\n",
        "           This is the matrix of features.\n",
        "      _y: array\n",
        "           This is the target variable.\n",
        "      _cv: int, default=5 (We are taking 10)\n",
        "          Determines the number of folds for cross-validation.\n",
        "       Returns\n",
        "       -------\n",
        "       The function returns a dictionary containing the metrics 'accuracy', 'precision',\n",
        "       'recall', 'f1' for both training set and validation set.\n",
        "      '''\n",
        "      _scoring = ['accuracy', 'precision', 'recall', 'f1','roc_auc']\n",
        "      results = cross_validate(estimator=model,\n",
        "                               X=_X,\n",
        "                               y=_y,\n",
        "                               cv=_cv,\n",
        "                               scoring=_scoring,\n",
        "                               return_train_score=True)\n",
        "\n",
        "\n",
        "      return {#\"Training Accuracy scores\": results['train_accuracy'],\n",
        "              \"Mean Training Accuracy\": results['train_accuracy'].mean()*100,\n",
        "              #\"Training Precision scores\": results['train_precision'],\n",
        "              #\"Mean Training Precision\": results['train_precision'].mean(),\n",
        "              #\"Training Recall scores\": results['train_recall'],\n",
        "              #\"Mean Training Recall\": results['train_recall'].mean(),\n",
        "              #\"Training F1 scores\": results['train_f1'],\n",
        "              #\"Mean Training F1 Score\": results['train_f1'].mean(),\n",
        "              #\"Validation Accuracy scores\": results['test_accuracy'],\n",
        "              \"Mean Validation Accuracy\": results['test_accuracy'].mean()*100,\n",
        "              #\"Validation Precision scores\": results['test_precision'],\n",
        "              \"Mean Validation Precision\": results['test_precision'].mean()*100,\n",
        "              #\"Validation Recall scores\": results['test_recall'],\n",
        "              \"Mean Validation Recall\": results['test_recall'].mean()*100,\n",
        "              #\"Validation F1 scores\": results['test_f1'],\n",
        "              \"Mean Validation F1 Score\": results['test_f1'].mean()*100,\n",
        "               #\"Training roc_auc scores\": results['train_roc_auc']*100,\n",
        "               \"Mean Validation roc_auc scores\": results['test_roc_auc']*100,\n",
        "              }\n",
        "def plot_result(x_label, y_label, plot_title, train_data, val_data):\n",
        "        '''Function to plot a bar chart showing the training and validation\n",
        "          results of the ML model in each fold after applying K-fold cross-validation.\n",
        "         Parameters\n",
        "         ----------\n",
        "         x_label: str,\n",
        "            Name of the algorithm used for training e.g 'Decision Tree'\n",
        "\n",
        "         y_label: str,\n",
        "            Name of metric being visualized e.g 'Accuracy'\n",
        "         plot_title: str,\n",
        "            This is the title of the plot e.g 'Accuracy Plot'\n",
        "\n",
        "         train_result: list, array\n",
        "            This is the list containing either training precision, accuracy, or f1 score.\n",
        "\n",
        "         val_result: list, array\n",
        "            This is the list containing either validation precision, accuracy, or f1 score.\n",
        "         Returns\n",
        "         -------\n",
        "         The function returns a Barchart showing the training and validation result\n",
        "         in each fold.\n",
        "        '''\n",
        "\n",
        "        # Set size of plot\n",
        "        plt.figure(figsize=(12,6))\n",
        "        labels = [\"1st Fold\", \"2nd Fold\", \"3rd Fold\", \"4th Fold\", \"5th Fold\", \"6th fold\", \"7th fold\", \"8th fold\", \"9th fold\", \"10th fold\"]\n",
        "        X_axis = np.arange(len(labels))\n",
        "        ax = plt.gca()\n",
        "        plt.ylim(0.10000, 1)\n",
        "        plt.bar(X_axis-0.2, train_data, 0.4, color='#b39efa', label='Training')\n",
        "        plt.bar(X_axis+0.2, val_data, 0.4, color='#fa9e9e', label='Validation')\n",
        "        plt.title(plot_title, fontsize=30)\n",
        "        plt.xticks(X_axis, labels)\n",
        "        plt.xlabel(x_label, fontsize=14,  fontweight = 'bold')\n",
        "        plt.ylabel(y_label, fontsize=14,  fontweight = 'bold')\n",
        "        plt.legend()\n",
        "        plt.grid(False)\n",
        "        plt.savefig('model.svg',dpi=1200)\n",
        "        plt.show()"
      ]
    },
    {
      "cell_type": "code",
      "execution_count": null,
      "id": "JtUPmn0T9s8U",
      "metadata": {
        "id": "JtUPmn0T9s8U"
      },
      "outputs": [],
      "source": [
        "###scaling data###\n",
        "from sklearn.preprocessing import MinMaxScaler,StandardScaler\n",
        "std=StandardScaler()\n",
        "x_scale = std.fit_transform(transposed_df)"
      ]
    },
    {
      "cell_type": "markdown",
      "id": "AfieDxAQi5ST",
      "metadata": {
        "id": "AfieDxAQi5ST"
      },
      "source": [
        "**Multi Layer Perceptron**"
      ]
    },
    {
      "cell_type": "code",
      "execution_count": null,
      "id": "5uEq4ttj-1h8",
      "metadata": {
        "id": "5uEq4ttj-1h8"
      },
      "outputs": [],
      "source": [
        "result_mlp = cross_validation(mlp, df_scale_pca_ori, ori, 10)"
      ]
    },
    {
      "cell_type": "code",
      "execution_count": null,
      "id": "V6V304c-_Tob",
      "metadata": {
        "colab": {
          "base_uri": "https://localhost:8080/"
        },
        "id": "V6V304c-_Tob",
        "outputId": "88f5cc64-0fff-40dd-c38e-511fa9ea6cc2"
      },
      "outputs": [
        {
          "data": {
            "text/plain": [
              "{'Mean Training Accuracy': 96.35943792064431,\n",
              " 'Mean Validation Accuracy': 90.91954022988506,\n",
              " 'Mean Validation Precision': 95.15516062884484,\n",
              " 'Mean Validation Recall': 91.49999999999999,\n",
              " 'Mean Validation F1 Score': 92.97936758719814,\n",
              " 'Mean Validation roc_auc scores': array([ 94.        ,  98.        ,  96.        ,  98.        ,\n",
              "         94.5       ,  92.5       ,  97.89473684, 100.        ,\n",
              "        100.        ,  99.44444444])}"
            ]
          },
          "execution_count": 159,
          "metadata": {},
          "output_type": "execute_result"
        }
      ],
      "source": [
        "result_mlp"
      ]
    },
    {
      "cell_type": "code",
      "execution_count": null,
      "id": "xFvZdsPm_V0y",
      "metadata": {
        "colab": {
          "base_uri": "https://localhost:8080/"
        },
        "id": "xFvZdsPm_V0y",
        "outputId": "da2ad801-29ee-4e88-e5c4-0e696b7053f0"
      },
      "outputs": [
        {
          "name": "stdout",
          "output_type": "stream",
          "text": [
            "[ 94.          98.          96.          98.          94.5\n",
            "  92.5         97.89473684 100.         100.          99.44444444]\n",
            "The mean AUC score is 97.03391812865496\n"
          ]
        }
      ],
      "source": [
        "# calculate the mean validation ROC_AUC scores\n",
        "# result_mlp is a dictionary and 'Mean Validation ROC_AUC scores' is the last array type value of 'result_mlp' dictionary\n",
        "type(result_mlp)\n",
        "values = list(result_mlp.values())\n",
        "meanval_rocauc_scores = values[-1]\n",
        "print(meanval_rocauc_scores)\n",
        "print(f'The mean AUC score is {np.mean(meanval_rocauc_scores)}')"
      ]
    },
    {
      "cell_type": "markdown",
      "id": "lKdaTQYki0A8",
      "metadata": {
        "id": "lKdaTQYki0A8"
      },
      "source": [
        "**Logistic Regression**"
      ]
    },
    {
      "cell_type": "code",
      "execution_count": null,
      "id": "Itrv69X5-k3X",
      "metadata": {
        "id": "Itrv69X5-k3X"
      },
      "outputs": [],
      "source": [
        "#log_model= LogisticRegression(random_state = 0)\n",
        "lr = LogisticRegression(random_state = 0)"
      ]
    },
    {
      "cell_type": "code",
      "execution_count": null,
      "id": "u31zY6hIi_LH",
      "metadata": {
        "colab": {
          "base_uri": "https://localhost:8080/"
        },
        "id": "u31zY6hIi_LH",
        "outputId": "f8448b8c-5bf2-4534-d137-d904b195837b"
      },
      "outputs": [
        {
          "name": "stderr",
          "output_type": "stream",
          "text": [
            "/usr/local/lib/python3.10/dist-packages/sklearn/linear_model/_logistic.py:458: ConvergenceWarning: lbfgs failed to converge (status=1):\n",
            "STOP: TOTAL NO. of ITERATIONS REACHED LIMIT.\n",
            "\n",
            "Increase the number of iterations (max_iter) or scale the data as shown in:\n",
            "    https://scikit-learn.org/stable/modules/preprocessing.html\n",
            "Please also refer to the documentation for alternative solver options:\n",
            "    https://scikit-learn.org/stable/modules/linear_model.html#logistic-regression\n",
            "  n_iter_i = _check_optimize_result(\n",
            "/usr/local/lib/python3.10/dist-packages/sklearn/linear_model/_logistic.py:458: ConvergenceWarning: lbfgs failed to converge (status=1):\n",
            "STOP: TOTAL NO. of ITERATIONS REACHED LIMIT.\n",
            "\n",
            "Increase the number of iterations (max_iter) or scale the data as shown in:\n",
            "    https://scikit-learn.org/stable/modules/preprocessing.html\n",
            "Please also refer to the documentation for alternative solver options:\n",
            "    https://scikit-learn.org/stable/modules/linear_model.html#logistic-regression\n",
            "  n_iter_i = _check_optimize_result(\n",
            "/usr/local/lib/python3.10/dist-packages/sklearn/linear_model/_logistic.py:458: ConvergenceWarning: lbfgs failed to converge (status=1):\n",
            "STOP: TOTAL NO. of ITERATIONS REACHED LIMIT.\n",
            "\n",
            "Increase the number of iterations (max_iter) or scale the data as shown in:\n",
            "    https://scikit-learn.org/stable/modules/preprocessing.html\n",
            "Please also refer to the documentation for alternative solver options:\n",
            "    https://scikit-learn.org/stable/modules/linear_model.html#logistic-regression\n",
            "  n_iter_i = _check_optimize_result(\n",
            "/usr/local/lib/python3.10/dist-packages/sklearn/linear_model/_logistic.py:458: ConvergenceWarning: lbfgs failed to converge (status=1):\n",
            "STOP: TOTAL NO. of ITERATIONS REACHED LIMIT.\n",
            "\n",
            "Increase the number of iterations (max_iter) or scale the data as shown in:\n",
            "    https://scikit-learn.org/stable/modules/preprocessing.html\n",
            "Please also refer to the documentation for alternative solver options:\n",
            "    https://scikit-learn.org/stable/modules/linear_model.html#logistic-regression\n",
            "  n_iter_i = _check_optimize_result(\n",
            "/usr/local/lib/python3.10/dist-packages/sklearn/linear_model/_logistic.py:458: ConvergenceWarning: lbfgs failed to converge (status=1):\n",
            "STOP: TOTAL NO. of ITERATIONS REACHED LIMIT.\n",
            "\n",
            "Increase the number of iterations (max_iter) or scale the data as shown in:\n",
            "    https://scikit-learn.org/stable/modules/preprocessing.html\n",
            "Please also refer to the documentation for alternative solver options:\n",
            "    https://scikit-learn.org/stable/modules/linear_model.html#logistic-regression\n",
            "  n_iter_i = _check_optimize_result(\n",
            "/usr/local/lib/python3.10/dist-packages/sklearn/linear_model/_logistic.py:458: ConvergenceWarning: lbfgs failed to converge (status=1):\n",
            "STOP: TOTAL NO. of ITERATIONS REACHED LIMIT.\n",
            "\n",
            "Increase the number of iterations (max_iter) or scale the data as shown in:\n",
            "    https://scikit-learn.org/stable/modules/preprocessing.html\n",
            "Please also refer to the documentation for alternative solver options:\n",
            "    https://scikit-learn.org/stable/modules/linear_model.html#logistic-regression\n",
            "  n_iter_i = _check_optimize_result(\n",
            "/usr/local/lib/python3.10/dist-packages/sklearn/linear_model/_logistic.py:458: ConvergenceWarning: lbfgs failed to converge (status=1):\n",
            "STOP: TOTAL NO. of ITERATIONS REACHED LIMIT.\n",
            "\n",
            "Increase the number of iterations (max_iter) or scale the data as shown in:\n",
            "    https://scikit-learn.org/stable/modules/preprocessing.html\n",
            "Please also refer to the documentation for alternative solver options:\n",
            "    https://scikit-learn.org/stable/modules/linear_model.html#logistic-regression\n",
            "  n_iter_i = _check_optimize_result(\n",
            "/usr/local/lib/python3.10/dist-packages/sklearn/linear_model/_logistic.py:458: ConvergenceWarning: lbfgs failed to converge (status=1):\n",
            "STOP: TOTAL NO. of ITERATIONS REACHED LIMIT.\n",
            "\n",
            "Increase the number of iterations (max_iter) or scale the data as shown in:\n",
            "    https://scikit-learn.org/stable/modules/preprocessing.html\n",
            "Please also refer to the documentation for alternative solver options:\n",
            "    https://scikit-learn.org/stable/modules/linear_model.html#logistic-regression\n",
            "  n_iter_i = _check_optimize_result(\n",
            "/usr/local/lib/python3.10/dist-packages/sklearn/linear_model/_logistic.py:458: ConvergenceWarning: lbfgs failed to converge (status=1):\n",
            "STOP: TOTAL NO. of ITERATIONS REACHED LIMIT.\n",
            "\n",
            "Increase the number of iterations (max_iter) or scale the data as shown in:\n",
            "    https://scikit-learn.org/stable/modules/preprocessing.html\n",
            "Please also refer to the documentation for alternative solver options:\n",
            "    https://scikit-learn.org/stable/modules/linear_model.html#logistic-regression\n",
            "  n_iter_i = _check_optimize_result(\n",
            "/usr/local/lib/python3.10/dist-packages/sklearn/linear_model/_logistic.py:458: ConvergenceWarning: lbfgs failed to converge (status=1):\n",
            "STOP: TOTAL NO. of ITERATIONS REACHED LIMIT.\n",
            "\n",
            "Increase the number of iterations (max_iter) or scale the data as shown in:\n",
            "    https://scikit-learn.org/stable/modules/preprocessing.html\n",
            "Please also refer to the documentation for alternative solver options:\n",
            "    https://scikit-learn.org/stable/modules/linear_model.html#logistic-regression\n",
            "  n_iter_i = _check_optimize_result(\n"
          ]
        }
      ],
      "source": [
        "result_lr = cross_validation(log_model, df_scale_pca_ori, ori, 10)"
      ]
    },
    {
      "cell_type": "code",
      "execution_count": null,
      "id": "Z8LfesAWjRvW",
      "metadata": {
        "colab": {
          "base_uri": "https://localhost:8080/"
        },
        "id": "Z8LfesAWjRvW",
        "outputId": "45b322aa-d303-4ad9-9d28-1fe27040a80c"
      },
      "outputs": [
        {
          "data": {
            "text/plain": [
              "{'Mean Training Accuracy': 95.64627861789306,\n",
              " 'Mean Validation Accuracy': 84.18390804597703,\n",
              " 'Mean Validation Precision': 92.99413250148542,\n",
              " 'Mean Validation Recall': 82.89473684210526,\n",
              " 'Mean Validation F1 Score': 87.2402163330956,\n",
              " 'Mean Validation roc_auc scores': array([84.5       , 84.        , 92.5       , 94.        , 91.5       ,\n",
              "        86.5       , 88.94736842, 96.84210526, 99.44444444, 90.        ])}"
            ]
          },
          "execution_count": 163,
          "metadata": {},
          "output_type": "execute_result"
        }
      ],
      "source": [
        "result_lr"
      ]
    },
    {
      "cell_type": "code",
      "execution_count": null,
      "id": "UTXWoKD_jY5-",
      "metadata": {
        "colab": {
          "base_uri": "https://localhost:8080/"
        },
        "id": "UTXWoKD_jY5-",
        "outputId": "0ae9008a-d7f1-46e9-c6e9-0c332b049550"
      },
      "outputs": [
        {
          "name": "stdout",
          "output_type": "stream",
          "text": [
            "[84.5        84.         92.5        94.         91.5        86.5\n",
            " 88.94736842 96.84210526 99.44444444 90.        ]\n",
            "The mean AUC score is 90.8233918128655\n"
          ]
        }
      ],
      "source": [
        "# calculate the mean validation ROC_AUC scores\n",
        "# result_lr is a dictionary and 'Mean Validation ROC_AUC scores' is the last array type value of 'result_lr' dictionary\n",
        "type(result_lr)\n",
        "values = list(result_lr.values())\n",
        "meanval_rocauc_scores = values[-1]\n",
        "print(meanval_rocauc_scores)\n",
        "print(f'The mean AUC score is {np.mean(meanval_rocauc_scores)}')"
      ]
    },
    {
      "cell_type": "markdown",
      "id": "NFed7jOJjxT3",
      "metadata": {
        "id": "NFed7jOJjxT3"
      },
      "source": [
        "**Random Forest**"
      ]
    },
    {
      "cell_type": "code",
      "execution_count": null,
      "id": "Nc5m1hlvjsIc",
      "metadata": {
        "id": "Nc5m1hlvjsIc"
      },
      "outputs": [],
      "source": [
        "result_rf = cross_validation(clf, df_scale_pca_ori, ori, 10)"
      ]
    },
    {
      "cell_type": "code",
      "execution_count": null,
      "id": "fo_XMt-bkGus",
      "metadata": {
        "colab": {
          "base_uri": "https://localhost:8080/"
        },
        "id": "fo_XMt-bkGus",
        "outputId": "c15c59cf-032b-4408-f8d0-4f135afee4c8"
      },
      "outputs": [
        {
          "data": {
            "text/plain": [
              "{'Mean Training Accuracy': 96.13443721663711,\n",
              " 'Mean Validation Accuracy': 88.91954022988506,\n",
              " 'Mean Validation Precision': 91.38428416231619,\n",
              " 'Mean Validation Recall': 92.5,\n",
              " 'Mean Validation F1 Score': 91.67352167159613,\n",
              " 'Mean Validation roc_auc scores': array([ 98.5       ,  86.5       ,  97.        ,  97.        ,\n",
              "         90.5       ,  94.        ,  95.26315789, 100.        ,\n",
              "        100.        ,  99.44444444])}"
            ]
          },
          "execution_count": 166,
          "metadata": {},
          "output_type": "execute_result"
        }
      ],
      "source": [
        "result_rf"
      ]
    },
    {
      "cell_type": "code",
      "execution_count": null,
      "id": "ikirAH1ckI8P",
      "metadata": {
        "colab": {
          "base_uri": "https://localhost:8080/"
        },
        "id": "ikirAH1ckI8P",
        "outputId": "29320bd6-ae14-4fb1-c4bc-6acbdaab1542"
      },
      "outputs": [
        {
          "name": "stdout",
          "output_type": "stream",
          "text": [
            "[ 98.5         86.5         97.          97.          90.5\n",
            "  94.          95.26315789 100.         100.          99.44444444]\n",
            "The mean AUC score is 95.82076023391814\n"
          ]
        }
      ],
      "source": [
        "# calculate the mean validation ROC_AUC scores\n",
        "# result_rf is a dictionary and 'Mean Validation ROC_AUC scores' is the last array type value of 'result_rf' dictionary\n",
        "type(result_rf)\n",
        "values = list(result_rf.values())\n",
        "meanval_rocauc_scores = values[-1]\n",
        "print(meanval_rocauc_scores)\n",
        "print(f'The mean AUC score is {np.mean(meanval_rocauc_scores)}')"
      ]
    },
    {
      "cell_type": "markdown",
      "id": "JRh6xqYLkgU1",
      "metadata": {
        "id": "JRh6xqYLkgU1"
      },
      "source": [
        "**Support Vector Machine**"
      ]
    },
    {
      "cell_type": "code",
      "execution_count": null,
      "id": "jCmgk6lTkaOO",
      "metadata": {
        "id": "jCmgk6lTkaOO"
      },
      "outputs": [],
      "source": [
        "result_svm = cross_validation(svm, df_scale_pca_ori, ori, 10)"
      ]
    },
    {
      "cell_type": "code",
      "execution_count": null,
      "id": "rrcKW9O-kyhL",
      "metadata": {
        "colab": {
          "base_uri": "https://localhost:8080/"
        },
        "id": "rrcKW9O-kyhL",
        "outputId": "9aa41b74-09be-46a1-8524-9ace8a150f27"
      },
      "outputs": [
        {
          "data": {
            "text/plain": [
              "{'Mean Training Accuracy': 96.43476669201092,\n",
              " 'Mean Validation Accuracy': 79.1264367816092,\n",
              " 'Mean Validation Precision': 89.70187724212492,\n",
              " 'Mean Validation Recall': 78.34210526315789,\n",
              " 'Mean Validation F1 Score': 83.15322478737114,\n",
              " 'Mean Validation roc_auc scores': array([86.        , 74.        , 90.5       , 91.        , 90.5       ,\n",
              "        77.        , 85.78947368, 87.89473684, 95.55555556, 82.77777778])}"
            ]
          },
          "execution_count": 169,
          "metadata": {},
          "output_type": "execute_result"
        }
      ],
      "source": [
        "result_svm"
      ]
    },
    {
      "cell_type": "code",
      "execution_count": null,
      "id": "lbokwT1Ok1Vy",
      "metadata": {
        "colab": {
          "base_uri": "https://localhost:8080/"
        },
        "id": "lbokwT1Ok1Vy",
        "outputId": "9d586bb4-f899-4b39-95c8-9bd1e5e1b2aa"
      },
      "outputs": [
        {
          "name": "stdout",
          "output_type": "stream",
          "text": [
            "[86.         74.         90.5        91.         90.5        77.\n",
            " 85.78947368 87.89473684 95.55555556 82.77777778]\n",
            "The mean AUC score is 86.10175438596491\n"
          ]
        }
      ],
      "source": [
        "# calculate the mean validation ROC_AUC scores\n",
        "# result_svm is a dictionary and 'Mean Validation ROC_AUC scores' is the last array type value of 'result_svm' dictionary\n",
        "type(result_svm)\n",
        "values = list(result_svm.values())\n",
        "meanval_rocauc_scores = values[-1]\n",
        "print(meanval_rocauc_scores)\n",
        "print(f'The mean AUC score is {np.mean(meanval_rocauc_scores)}')"
      ]
    },
    {
      "cell_type": "markdown",
      "id": "lGJEL6pzlTbV",
      "metadata": {
        "id": "lGJEL6pzlTbV"
      },
      "source": [
        "**Naive Bayes**"
      ]
    },
    {
      "cell_type": "code",
      "execution_count": null,
      "id": "dGX042eNlPJ_",
      "metadata": {
        "id": "dGX042eNlPJ_"
      },
      "outputs": [],
      "source": [
        "result_nb = cross_validation(gnb, df_scale_pca_ori, ori, 10)"
      ]
    },
    {
      "cell_type": "code",
      "execution_count": null,
      "id": "qO4tuyEmlu1B",
      "metadata": {
        "colab": {
          "base_uri": "https://localhost:8080/"
        },
        "id": "qO4tuyEmlu1B",
        "outputId": "8d244c00-e1aa-4922-c2a2-8b2924f564d2"
      },
      "outputs": [
        {
          "data": {
            "text/plain": [
              "{'Mean Training Accuracy': 85.66176677649177,\n",
              " 'Mean Validation Accuracy': 85.19540229885058,\n",
              " 'Mean Validation Precision': 95.51535087719299,\n",
              " 'Mean Validation Recall': 81.78947368421052,\n",
              " 'Mean Validation F1 Score': 87.81002657473245,\n",
              " 'Mean Validation roc_auc scores': array([ 80.        ,  86.5       ,  97.        ,  98.5       ,\n",
              "         92.        ,  93.        ,  93.15789474, 100.        ,\n",
              "        100.        ,  98.88888889])}"
            ]
          },
          "execution_count": 172,
          "metadata": {},
          "output_type": "execute_result"
        }
      ],
      "source": [
        "result_nb"
      ]
    },
    {
      "cell_type": "code",
      "execution_count": null,
      "id": "YjEKyw5UlxO2",
      "metadata": {
        "colab": {
          "base_uri": "https://localhost:8080/"
        },
        "id": "YjEKyw5UlxO2",
        "outputId": "1bd903a7-34f2-4074-c313-52c23f54f0c8"
      },
      "outputs": [
        {
          "name": "stdout",
          "output_type": "stream",
          "text": [
            "[ 80.          86.5         97.          98.5         92.\n",
            "  93.          93.15789474 100.         100.          98.88888889]\n",
            "The mean AUC score is 93.9046783625731\n"
          ]
        }
      ],
      "source": [
        "# calculate the mean validation ROC_AUC scores\n",
        "# result_nb is a dictionary and 'Mean Validation ROC_AUC scores' is the last array type value of 'result_nb' dictionary\n",
        "type(result_nb)\n",
        "values = list(result_nb.values())\n",
        "meanval_rocauc_scores = values[-1]\n",
        "print(meanval_rocauc_scores)\n",
        "print(f'The mean AUC score is {np.mean(meanval_rocauc_scores)}')"
      ]
    },
    {
      "cell_type": "markdown",
      "id": "Z98wl0fmmBaB",
      "metadata": {
        "id": "Z98wl0fmmBaB"
      },
      "source": [
        "**K-Nearest Neighbour**"
      ]
    },
    {
      "cell_type": "code",
      "execution_count": null,
      "id": "K6Qb4-gel7Zf",
      "metadata": {
        "id": "K6Qb4-gel7Zf"
      },
      "outputs": [],
      "source": [
        "result_knn = cross_validation(knn, df_scale_pca_ori, ori, 10)"
      ]
    },
    {
      "cell_type": "code",
      "execution_count": null,
      "id": "FywcGK-2mNxa",
      "metadata": {
        "colab": {
          "base_uri": "https://localhost:8080/"
        },
        "id": "FywcGK-2mNxa",
        "outputId": "f5c3c3ee-9faf-4a4b-ff60-81f13a0917d1"
      },
      "outputs": [
        {
          "data": {
            "text/plain": [
              "{'Mean Training Accuracy': 97.59806820421841,\n",
              " 'Mean Validation Accuracy': 90.59770114942529,\n",
              " 'Mean Validation Precision': 94.24155657686416,\n",
              " 'Mean Validation Recall': 92.0,\n",
              " 'Mean Validation F1 Score': 92.86977274076118,\n",
              " 'Mean Validation roc_auc scores': array([ 92.5,  92.5,  90. ,  95. ,  85. ,  72.5,  80. ,  95. , 100. ,\n",
              "         97.5])}"
            ]
          },
          "execution_count": 175,
          "metadata": {},
          "output_type": "execute_result"
        }
      ],
      "source": [
        "result_knn"
      ]
    },
    {
      "cell_type": "code",
      "execution_count": null,
      "id": "-Vda-XhTmP4f",
      "metadata": {
        "colab": {
          "base_uri": "https://localhost:8080/"
        },
        "id": "-Vda-XhTmP4f",
        "outputId": "80b5e0b8-aeec-4c62-f06e-62a73f200964"
      },
      "outputs": [
        {
          "name": "stdout",
          "output_type": "stream",
          "text": [
            "[ 92.5  92.5  90.   95.   85.   72.5  80.   95.  100.   97.5]\n",
            "The mean AUC score is 90.0\n"
          ]
        }
      ],
      "source": [
        "# calculate the mean validation ROC_AUC scores\n",
        "# result_knn is a dictionary and 'Mean Validation ROC_AUC scores' is the last array type value of 'result_knn' dictionary\n",
        "type(result_knn)\n",
        "values = list(result_knn.values())\n",
        "meanval_rocauc_scores = values[-1]\n",
        "print(meanval_rocauc_scores)\n",
        "print(f'The mean AUC score is {np.mean(meanval_rocauc_scores)}')"
      ]
    },
    {
      "cell_type": "markdown",
      "id": "N6lhY2MHBS7f",
      "metadata": {
        "id": "N6lhY2MHBS7f"
      },
      "source": [
        "# Patameter scores\n"
      ]
    },
    {
      "cell_type": "code",
      "execution_count": null,
      "id": "W8lh_d5smd0e",
      "metadata": {
        "colab": {
          "base_uri": "https://localhost:8080/"
        },
        "id": "W8lh_d5smd0e",
        "outputId": "941e8c41-07c1-4d24-a2fb-5ce5de547b35"
      },
      "outputs": [
        {
          "name": "stdout",
          "output_type": "stream",
          "text": [
            "      LR     RF    SVM     NB    KNN    MLP\n",
            "0  84.18  88.91  79.12  85.19  90.59  90.91\n",
            "1  90.82  95.82  86.10  93.90  90.00  97.03\n",
            "2  92.99  91.38  89.70  95.51  94.24  95.15\n",
            "3  82.89  92.50  78.34  81.78  92.00  91.49\n",
            "4  87.24  91.67  83.15  87.81  92.86  92.97\n"
          ]
        }
      ],
      "source": [
        "LR = [84.18, 90.82, 92.99, 82.89, 87.24]\n",
        "RF = [88.91, 95.82, 91.38, 92.50, 91.67]\n",
        "SVM = [79.12, 86.10, 89.70, 78.34, 83.15]\n",
        "NB = [85.19, 93.90, 95.51, 81.78, 87.81]\n",
        "KNN = [90.59, 90.00, 94.24, 92.00, 92.86]\n",
        "MLP = [90.91, 97.03, 95.15, 91.49, 92.97]\n",
        "\n",
        "scoretable = pd.DataFrame({'LR': LR, 'RF': RF, 'SVM': SVM, 'NB': NB, 'KNN': KNN, 'MLP': MLP})\n",
        "print(scoretable)"
      ]
    },
    {
      "cell_type": "code",
      "execution_count": null,
      "id": "fC8CosfeF3Fu",
      "metadata": {
        "colab": {
          "base_uri": "https://localhost:8080/"
        },
        "id": "fC8CosfeF3Fu",
        "outputId": "4142e02e-d048-4216-98fa-4bb536b1aaab"
      },
      "outputs": [
        {
          "name": "stdout",
          "output_type": "stream",
          "text": [
            " The Final Table is following: \n",
            "      Accuracy    AUC  F1-score  Precision  Recall\n",
            "LR      84.18  90.82     92.99      82.89   87.24\n",
            "RF      88.91  95.82     91.38      92.50   91.67\n",
            "SVM     79.12  86.10     89.70      78.34   83.15\n",
            "NB      85.19  93.90     95.51      81.78   87.81\n",
            "KNN     90.59  90.00     94.24      92.00   92.86\n",
            "MLP     90.91  97.03     95.15      91.49   92.97\n"
          ]
        }
      ],
      "source": [
        "row_names = [\"Accuracy\", \"AUC\", \"F1-score\", \"Precision\", \"Recall\"]\n",
        "scoretable.index = row_names\n",
        "final_scoretable = scoretable.transpose()\n",
        "print(\" The Final Table is following: \\n\", final_scoretable)"
      ]
    },
    {
      "cell_type": "markdown",
      "id": "x-w72DUFjkIk",
      "metadata": {
        "id": "x-w72DUFjkIk"
      },
      "source": [
        "# Bar Graph of Model Parameters\n",
        "\n",
        "Bar graph representing comparison between parameters of differet models"
      ]
    },
    {
      "cell_type": "code",
      "execution_count": null,
      "id": "fNCS7uxHjznJ",
      "metadata": {
        "colab": {
          "base_uri": "https://localhost:8080/",
          "height": 428
        },
        "id": "fNCS7uxHjznJ",
        "outputId": "3fad87f6-7e9c-49c6-9331-20a1d8eee19e"
      },
      "outputs": [
        {
          "data": {
            "image/png": "[encoded data removed]",
            "text/plain": [
              "<Figure size 3000x1000 with 1 Axes>"
            ]
          },
          "metadata": {},
          "output_type": "display_data"
        }
      ],
      "source": [
        "import pandas as pd\n",
        "import matplotlib\n",
        "import matplotlib.pyplot as plt\n",
        "\n",
        "plotdata = pd.DataFrame({\n",
        "\n",
        "    \"Accuracy\":[84.18,88.91,79.12,85.19,90.59,90.91],\n",
        "\n",
        "    \"AUC\":[90.82,95.82,87.10,93.90,90.00,97.03],\n",
        "\n",
        "    \"F1-score\":[92.99,91.38,89.70,95.51,94.24,95.15],\n",
        "\n",
        "    \"Precision\":[82.89,92.50,78.34,81.78,92.00,91.49],\n",
        "\n",
        "    \"Recall\":[87.24,91.67,83.15,87.81,92.86,92.97]},\n",
        "\n",
        "    index=[\"LR\", \"RF\", \"SVM\", \"NB\", \"KNN\", \"MLP\"])\n",
        "\n",
        "plotdata.plot(kind=\"bar\",figsize=(30,10))\n",
        "\n",
        "plt.xlabel(\"Models\", fontsize=25,fontweight='bold')\n",
        "\n",
        "plt.ylabel(\"Scores\", fontsize=25, fontweight='bold')\n",
        "\n",
        "plt.xticks(fontsize=25, rotation=0)\n",
        "\n",
        "plt.yticks(fontsize=25)\n",
        "\n",
        "plt.ylim(0,100)\n",
        "\n",
        "plt.legend([\"Accuracy\",\"AUC\",\"F1-score\",\"Precision\",\"Recall\"],loc=\"upper right\")\n",
        "\n",
        "matplotlib.pyplot.legend(bbox_to_anchor=(1,1),fontsize=\"20\")\n",
        "\n",
        "plt.savefig('Bar_graph.svg',dpi=1200)"
      ]
    }
  ],
  "metadata": {
    "colab": {
      "provenance": [],
      "toc_visible": true
    },
    "kernelspec": {
      "display_name": "Python 3 (ipykernel)",
      "language": "python",
      "name": "python3"
    },
    "language_info": {
      "codemirror_mode": {
        "name": "ipython",
        "version": 3
      },
      "file_extension": ".py",
      "mimetype": "text/x-python",
      "name": "python",
      "nbconvert_exporter": "python",
      "pygments_lexer": "ipython3",
      "version": "3.8.17"
    }
  },
  "nbformat": 4,
  "nbformat_minor": 5
}